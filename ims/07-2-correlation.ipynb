{
 "cells": [
  {
   "cell_type": "markdown",
   "metadata": {
    "slideshow": {
     "slide_type": "slide"
    }
   },
   "source": [
    "# Correlation"
   ]
  },
  {
   "cell_type": "markdown",
   "metadata": {
    "slideshow": {
     "slide_type": "slide"
    }
   },
   "source": [
    "## Setup"
   ]
  },
  {
   "cell_type": "code",
   "execution_count": 1,
   "metadata": {
    "slideshow": {
     "slide_type": "fragment"
    }
   },
   "outputs": [],
   "source": [
    "import pandas as pd\n",
    "import altair as alt"
   ]
  },
  {
   "cell_type": "markdown",
   "metadata": {
    "slideshow": {
     "slide_type": "slide"
    }
   },
   "source": [
    "## Data"
   ]
  },
  {
   "cell_type": "markdown",
   "metadata": {
    "slideshow": {
     "slide_type": "fragment"
    }
   },
   "source": [
    "### Import data"
   ]
  },
  {
   "cell_type": "code",
   "execution_count": 6,
   "metadata": {
    "slideshow": {
     "slide_type": "fragment"
    }
   },
   "outputs": [],
   "source": [
    "df = pd.read_csv('https://raw.githubusercontent.com/kirenz/datasets/master/possum.csv')"
   ]
  },
  {
   "cell_type": "markdown",
   "metadata": {
    "slideshow": {
     "slide_type": "fragment"
    }
   },
   "source": [
    "### Data structure"
   ]
  },
  {
   "cell_type": "code",
   "execution_count": 7,
   "metadata": {},
   "outputs": [
    {
     "data": {
      "text/html": [
       "<div>\n",
       "<style scoped>\n",
       "    .dataframe tbody tr th:only-of-type {\n",
       "        vertical-align: middle;\n",
       "    }\n",
       "\n",
       "    .dataframe tbody tr th {\n",
       "        vertical-align: top;\n",
       "    }\n",
       "\n",
       "    .dataframe thead th {\n",
       "        text-align: right;\n",
       "    }\n",
       "</style>\n",
       "<table border=\"1\" class=\"dataframe\">\n",
       "  <thead>\n",
       "    <tr style=\"text-align: right;\">\n",
       "      <th></th>\n",
       "      <th>site</th>\n",
       "      <th>pop</th>\n",
       "      <th>sex</th>\n",
       "      <th>age</th>\n",
       "      <th>head_l</th>\n",
       "      <th>skull_w</th>\n",
       "      <th>total_l</th>\n",
       "      <th>tail_l</th>\n",
       "    </tr>\n",
       "  </thead>\n",
       "  <tbody>\n",
       "    <tr>\n",
       "      <th>0</th>\n",
       "      <td>1</td>\n",
       "      <td>Vic</td>\n",
       "      <td>m</td>\n",
       "      <td>8.0</td>\n",
       "      <td>94.1</td>\n",
       "      <td>60.4</td>\n",
       "      <td>89.0</td>\n",
       "      <td>36.0</td>\n",
       "    </tr>\n",
       "    <tr>\n",
       "      <th>1</th>\n",
       "      <td>1</td>\n",
       "      <td>Vic</td>\n",
       "      <td>f</td>\n",
       "      <td>6.0</td>\n",
       "      <td>92.5</td>\n",
       "      <td>57.6</td>\n",
       "      <td>91.5</td>\n",
       "      <td>36.5</td>\n",
       "    </tr>\n",
       "    <tr>\n",
       "      <th>2</th>\n",
       "      <td>1</td>\n",
       "      <td>Vic</td>\n",
       "      <td>f</td>\n",
       "      <td>6.0</td>\n",
       "      <td>94.0</td>\n",
       "      <td>60.0</td>\n",
       "      <td>95.5</td>\n",
       "      <td>39.0</td>\n",
       "    </tr>\n",
       "    <tr>\n",
       "      <th>3</th>\n",
       "      <td>1</td>\n",
       "      <td>Vic</td>\n",
       "      <td>f</td>\n",
       "      <td>6.0</td>\n",
       "      <td>93.2</td>\n",
       "      <td>57.1</td>\n",
       "      <td>92.0</td>\n",
       "      <td>38.0</td>\n",
       "    </tr>\n",
       "    <tr>\n",
       "      <th>4</th>\n",
       "      <td>1</td>\n",
       "      <td>Vic</td>\n",
       "      <td>f</td>\n",
       "      <td>2.0</td>\n",
       "      <td>91.5</td>\n",
       "      <td>56.3</td>\n",
       "      <td>85.5</td>\n",
       "      <td>36.0</td>\n",
       "    </tr>\n",
       "    <tr>\n",
       "      <th>...</th>\n",
       "      <td>...</td>\n",
       "      <td>...</td>\n",
       "      <td>...</td>\n",
       "      <td>...</td>\n",
       "      <td>...</td>\n",
       "      <td>...</td>\n",
       "      <td>...</td>\n",
       "      <td>...</td>\n",
       "    </tr>\n",
       "    <tr>\n",
       "      <th>99</th>\n",
       "      <td>7</td>\n",
       "      <td>other</td>\n",
       "      <td>m</td>\n",
       "      <td>1.0</td>\n",
       "      <td>89.5</td>\n",
       "      <td>56.0</td>\n",
       "      <td>81.5</td>\n",
       "      <td>36.5</td>\n",
       "    </tr>\n",
       "    <tr>\n",
       "      <th>100</th>\n",
       "      <td>7</td>\n",
       "      <td>other</td>\n",
       "      <td>m</td>\n",
       "      <td>1.0</td>\n",
       "      <td>88.6</td>\n",
       "      <td>54.7</td>\n",
       "      <td>82.5</td>\n",
       "      <td>39.0</td>\n",
       "    </tr>\n",
       "    <tr>\n",
       "      <th>101</th>\n",
       "      <td>7</td>\n",
       "      <td>other</td>\n",
       "      <td>f</td>\n",
       "      <td>6.0</td>\n",
       "      <td>92.4</td>\n",
       "      <td>55.0</td>\n",
       "      <td>89.0</td>\n",
       "      <td>38.0</td>\n",
       "    </tr>\n",
       "    <tr>\n",
       "      <th>102</th>\n",
       "      <td>7</td>\n",
       "      <td>other</td>\n",
       "      <td>m</td>\n",
       "      <td>4.0</td>\n",
       "      <td>91.5</td>\n",
       "      <td>55.2</td>\n",
       "      <td>82.5</td>\n",
       "      <td>36.5</td>\n",
       "    </tr>\n",
       "    <tr>\n",
       "      <th>103</th>\n",
       "      <td>7</td>\n",
       "      <td>other</td>\n",
       "      <td>f</td>\n",
       "      <td>3.0</td>\n",
       "      <td>93.6</td>\n",
       "      <td>59.9</td>\n",
       "      <td>89.0</td>\n",
       "      <td>40.0</td>\n",
       "    </tr>\n",
       "  </tbody>\n",
       "</table>\n",
       "<p>104 rows × 8 columns</p>\n",
       "</div>"
      ],
      "text/plain": [
       "     site    pop sex  age  head_l  skull_w  total_l  tail_l\n",
       "0       1    Vic   m  8.0    94.1     60.4     89.0    36.0\n",
       "1       1    Vic   f  6.0    92.5     57.6     91.5    36.5\n",
       "2       1    Vic   f  6.0    94.0     60.0     95.5    39.0\n",
       "3       1    Vic   f  6.0    93.2     57.1     92.0    38.0\n",
       "4       1    Vic   f  2.0    91.5     56.3     85.5    36.0\n",
       "..    ...    ...  ..  ...     ...      ...      ...     ...\n",
       "99      7  other   m  1.0    89.5     56.0     81.5    36.5\n",
       "100     7  other   m  1.0    88.6     54.7     82.5    39.0\n",
       "101     7  other   f  6.0    92.4     55.0     89.0    38.0\n",
       "102     7  other   m  4.0    91.5     55.2     82.5    36.5\n",
       "103     7  other   f  3.0    93.6     59.9     89.0    40.0\n",
       "\n",
       "[104 rows x 8 columns]"
      ]
     },
     "execution_count": 7,
     "metadata": {},
     "output_type": "execute_result"
    }
   ],
   "source": [
    "df"
   ]
  },
  {
   "cell_type": "code",
   "execution_count": 8,
   "metadata": {},
   "outputs": [
    {
     "name": "stdout",
     "output_type": "stream",
     "text": [
      "<class 'pandas.core.frame.DataFrame'>\n",
      "RangeIndex: 104 entries, 0 to 103\n",
      "Data columns (total 8 columns):\n",
      " #   Column   Non-Null Count  Dtype  \n",
      "---  ------   --------------  -----  \n",
      " 0   site     104 non-null    int64  \n",
      " 1   pop      104 non-null    object \n",
      " 2   sex      104 non-null    object \n",
      " 3   age      102 non-null    float64\n",
      " 4   head_l   104 non-null    float64\n",
      " 5   skull_w  104 non-null    float64\n",
      " 6   total_l  104 non-null    float64\n",
      " 7   tail_l   104 non-null    float64\n",
      "dtypes: float64(5), int64(1), object(2)\n",
      "memory usage: 6.6+ KB\n"
     ]
    }
   ],
   "source": [
    "df.info()"
   ]
  },
  {
   "cell_type": "markdown",
   "metadata": {
    "slideshow": {
     "slide_type": "slide"
    }
   },
   "source": [
    "### Variable lists"
   ]
  },
  {
   "cell_type": "code",
   "execution_count": 9,
   "metadata": {
    "slideshow": {
     "slide_type": "fragment"
    }
   },
   "outputs": [],
   "source": [
    "# define outcome variable as y_label\n",
    "y_label = 'head_l'\n",
    "\n",
    "list_numeric = ['age', 'head_l', 'skull_w', 'total_l', 'tail_l']"
   ]
  },
  {
   "cell_type": "markdown",
   "metadata": {
    "slideshow": {
     "slide_type": "slide"
    }
   },
   "source": [
    "## Analysis"
   ]
  },
  {
   "cell_type": "markdown",
   "metadata": {},
   "source": [
    "### Descriptive analysis"
   ]
  },
  {
   "cell_type": "code",
   "execution_count": 5,
   "metadata": {},
   "outputs": [
    {
     "data": {
      "text/html": [
       "<div>\n",
       "<style scoped>\n",
       "    .dataframe tbody tr th:only-of-type {\n",
       "        vertical-align: middle;\n",
       "    }\n",
       "\n",
       "    .dataframe tbody tr th {\n",
       "        vertical-align: top;\n",
       "    }\n",
       "\n",
       "    .dataframe thead th {\n",
       "        text-align: right;\n",
       "    }\n",
       "</style>\n",
       "<table border=\"1\" class=\"dataframe\">\n",
       "  <thead>\n",
       "    <tr style=\"text-align: right;\">\n",
       "      <th></th>\n",
       "      <th>count</th>\n",
       "      <th>mean</th>\n",
       "      <th>std</th>\n",
       "      <th>min</th>\n",
       "      <th>25%</th>\n",
       "      <th>50%</th>\n",
       "      <th>75%</th>\n",
       "      <th>max</th>\n",
       "    </tr>\n",
       "  </thead>\n",
       "  <tbody>\n",
       "    <tr>\n",
       "      <th>site</th>\n",
       "      <td>104.0</td>\n",
       "      <td>3.625000</td>\n",
       "      <td>2.349086</td>\n",
       "      <td>1.0</td>\n",
       "      <td>1.000</td>\n",
       "      <td>3.00</td>\n",
       "      <td>6.000</td>\n",
       "      <td>7.0</td>\n",
       "    </tr>\n",
       "    <tr>\n",
       "      <th>age</th>\n",
       "      <td>102.0</td>\n",
       "      <td>3.833333</td>\n",
       "      <td>1.909244</td>\n",
       "      <td>1.0</td>\n",
       "      <td>2.250</td>\n",
       "      <td>3.00</td>\n",
       "      <td>5.000</td>\n",
       "      <td>9.0</td>\n",
       "    </tr>\n",
       "    <tr>\n",
       "      <th>head_l</th>\n",
       "      <td>104.0</td>\n",
       "      <td>92.602885</td>\n",
       "      <td>3.573349</td>\n",
       "      <td>82.5</td>\n",
       "      <td>90.675</td>\n",
       "      <td>92.80</td>\n",
       "      <td>94.725</td>\n",
       "      <td>103.1</td>\n",
       "    </tr>\n",
       "    <tr>\n",
       "      <th>skull_w</th>\n",
       "      <td>104.0</td>\n",
       "      <td>56.883654</td>\n",
       "      <td>3.113426</td>\n",
       "      <td>50.0</td>\n",
       "      <td>54.975</td>\n",
       "      <td>56.35</td>\n",
       "      <td>58.100</td>\n",
       "      <td>68.6</td>\n",
       "    </tr>\n",
       "    <tr>\n",
       "      <th>total_l</th>\n",
       "      <td>104.0</td>\n",
       "      <td>87.088462</td>\n",
       "      <td>4.310549</td>\n",
       "      <td>75.0</td>\n",
       "      <td>84.000</td>\n",
       "      <td>88.00</td>\n",
       "      <td>90.000</td>\n",
       "      <td>96.5</td>\n",
       "    </tr>\n",
       "    <tr>\n",
       "      <th>tail_l</th>\n",
       "      <td>104.0</td>\n",
       "      <td>37.009615</td>\n",
       "      <td>1.959518</td>\n",
       "      <td>32.0</td>\n",
       "      <td>35.875</td>\n",
       "      <td>37.00</td>\n",
       "      <td>38.000</td>\n",
       "      <td>43.0</td>\n",
       "    </tr>\n",
       "  </tbody>\n",
       "</table>\n",
       "</div>"
      ],
      "text/plain": [
       "         count       mean       std   min     25%    50%     75%    max\n",
       "site     104.0   3.625000  2.349086   1.0   1.000   3.00   6.000    7.0\n",
       "age      102.0   3.833333  1.909244   1.0   2.250   3.00   5.000    9.0\n",
       "head_l   104.0  92.602885  3.573349  82.5  90.675  92.80  94.725  103.1\n",
       "skull_w  104.0  56.883654  3.113426  50.0  54.975  56.35  58.100   68.6\n",
       "total_l  104.0  87.088462  4.310549  75.0  84.000  88.00  90.000   96.5\n",
       "tail_l   104.0  37.009615  1.959518  32.0  35.875  37.00  38.000   43.0"
      ]
     },
     "execution_count": 5,
     "metadata": {},
     "output_type": "execute_result"
    }
   ],
   "source": [
    "df.describe().T"
   ]
  },
  {
   "cell_type": "markdown",
   "metadata": {},
   "source": [
    "### Explorative analysis"
   ]
  },
  {
   "cell_type": "code",
   "execution_count": 12,
   "metadata": {},
   "outputs": [
    {
     "data": {
      "text/html": [
       "\n",
       "<div id=\"altair-viz-391b9891e00f48a7902e0e72fb8f4a67\"></div>\n",
       "<script type=\"text/javascript\">\n",
       "  var VEGA_DEBUG = (typeof VEGA_DEBUG == \"undefined\") ? {} : VEGA_DEBUG;\n",
       "  (function(spec, embedOpt){\n",
       "    let outputDiv = document.currentScript.previousElementSibling;\n",
       "    if (outputDiv.id !== \"altair-viz-391b9891e00f48a7902e0e72fb8f4a67\") {\n",
       "      outputDiv = document.getElementById(\"altair-viz-391b9891e00f48a7902e0e72fb8f4a67\");\n",
       "    }\n",
       "    const paths = {\n",
       "      \"vega\": \"https://cdn.jsdelivr.net/npm//vega@5?noext\",\n",
       "      \"vega-lib\": \"https://cdn.jsdelivr.net/npm//vega-lib?noext\",\n",
       "      \"vega-lite\": \"https://cdn.jsdelivr.net/npm//vega-lite@4.17.0?noext\",\n",
       "      \"vega-embed\": \"https://cdn.jsdelivr.net/npm//vega-embed@6?noext\",\n",
       "    };\n",
       "\n",
       "    function maybeLoadScript(lib, version) {\n",
       "      var key = `${lib.replace(\"-\", \"\")}_version`;\n",
       "      return (VEGA_DEBUG[key] == version) ?\n",
       "        Promise.resolve(paths[lib]) :\n",
       "        new Promise(function(resolve, reject) {\n",
       "          var s = document.createElement('script');\n",
       "          document.getElementsByTagName(\"head\")[0].appendChild(s);\n",
       "          s.async = true;\n",
       "          s.onload = () => {\n",
       "            VEGA_DEBUG[key] = version;\n",
       "            return resolve(paths[lib]);\n",
       "          };\n",
       "          s.onerror = () => reject(`Error loading script: ${paths[lib]}`);\n",
       "          s.src = paths[lib];\n",
       "        });\n",
       "    }\n",
       "\n",
       "    function showError(err) {\n",
       "      outputDiv.innerHTML = `<div class=\"error\" style=\"color:red;\">${err}</div>`;\n",
       "      throw err;\n",
       "    }\n",
       "\n",
       "    function displayChart(vegaEmbed) {\n",
       "      vegaEmbed(outputDiv, spec, embedOpt)\n",
       "        .catch(err => showError(`Javascript Error: ${err.message}<br>This usually means there's a typo in your chart specification. See the javascript console for the full traceback.`));\n",
       "    }\n",
       "\n",
       "    if(typeof define === \"function\" && define.amd) {\n",
       "      requirejs.config({paths});\n",
       "      require([\"vega-embed\"], displayChart, err => showError(`Error loading script: ${err.message}`));\n",
       "    } else {\n",
       "      maybeLoadScript(\"vega\", \"5\")\n",
       "        .then(() => maybeLoadScript(\"vega-lite\", \"4.17.0\"))\n",
       "        .then(() => maybeLoadScript(\"vega-embed\", \"6\"))\n",
       "        .catch(showError)\n",
       "        .then(() => displayChart(vegaEmbed));\n",
       "    }\n",
       "  })({\"config\": {\"view\": {\"continuousWidth\": 400, \"continuousHeight\": 300}}, \"repeat\": {\"column\": [\"age\", \"head_l\", \"skull_w\", \"total_l\", \"tail_l\"], \"row\": [\"age\", \"head_l\", \"skull_w\", \"total_l\", \"tail_l\"]}, \"spec\": {\"data\": {\"name\": \"data-6f19ab7b804933fb23fa2115095b23c3\"}, \"mark\": \"circle\", \"encoding\": {\"x\": {\"field\": {\"repeat\": \"column\"}, \"scale\": {\"zero\": false}, \"type\": \"quantitative\"}, \"y\": {\"field\": {\"repeat\": \"row\"}, \"scale\": {\"zero\": false}, \"type\": \"quantitative\"}}, \"height\": 150, \"width\": 150}, \"$schema\": \"https://vega.github.io/schema/vega-lite/v4.17.0.json\", \"datasets\": {\"data-6f19ab7b804933fb23fa2115095b23c3\": [{\"site\": 1, \"pop\": \"Vic\", \"sex\": \"m\", \"age\": 8.0, \"head_l\": 94.1, \"skull_w\": 60.4, \"total_l\": 89.0, \"tail_l\": 36.0}, {\"site\": 1, \"pop\": \"Vic\", \"sex\": \"f\", \"age\": 6.0, \"head_l\": 92.5, \"skull_w\": 57.6, \"total_l\": 91.5, \"tail_l\": 36.5}, {\"site\": 1, \"pop\": \"Vic\", \"sex\": \"f\", \"age\": 6.0, \"head_l\": 94.0, \"skull_w\": 60.0, \"total_l\": 95.5, \"tail_l\": 39.0}, {\"site\": 1, \"pop\": \"Vic\", \"sex\": \"f\", \"age\": 6.0, \"head_l\": 93.2, \"skull_w\": 57.1, \"total_l\": 92.0, \"tail_l\": 38.0}, {\"site\": 1, \"pop\": \"Vic\", \"sex\": \"f\", \"age\": 2.0, \"head_l\": 91.5, \"skull_w\": 56.3, \"total_l\": 85.5, \"tail_l\": 36.0}, {\"site\": 1, \"pop\": \"Vic\", \"sex\": \"f\", \"age\": 1.0, \"head_l\": 93.1, \"skull_w\": 54.8, \"total_l\": 90.5, \"tail_l\": 35.5}, {\"site\": 1, \"pop\": \"Vic\", \"sex\": \"m\", \"age\": 2.0, \"head_l\": 95.3, \"skull_w\": 58.2, \"total_l\": 89.5, \"tail_l\": 36.0}, {\"site\": 1, \"pop\": \"Vic\", \"sex\": \"f\", \"age\": 6.0, \"head_l\": 94.8, \"skull_w\": 57.6, \"total_l\": 91.0, \"tail_l\": 37.0}, {\"site\": 1, \"pop\": \"Vic\", \"sex\": \"f\", \"age\": 9.0, \"head_l\": 93.4, \"skull_w\": 56.3, \"total_l\": 91.5, \"tail_l\": 37.0}, {\"site\": 1, \"pop\": \"Vic\", \"sex\": \"f\", \"age\": 6.0, \"head_l\": 91.8, \"skull_w\": 58.0, \"total_l\": 89.5, \"tail_l\": 37.5}, {\"site\": 1, \"pop\": \"Vic\", \"sex\": \"f\", \"age\": 9.0, \"head_l\": 93.3, \"skull_w\": 57.2, \"total_l\": 89.5, \"tail_l\": 39.0}, {\"site\": 1, \"pop\": \"Vic\", \"sex\": \"f\", \"age\": 5.0, \"head_l\": 94.9, \"skull_w\": 55.6, \"total_l\": 92.0, \"tail_l\": 35.5}, {\"site\": 1, \"pop\": \"Vic\", \"sex\": \"m\", \"age\": 5.0, \"head_l\": 95.1, \"skull_w\": 59.9, \"total_l\": 89.5, \"tail_l\": 36.0}, {\"site\": 1, \"pop\": \"Vic\", \"sex\": \"m\", \"age\": 3.0, \"head_l\": 95.4, \"skull_w\": 57.6, \"total_l\": 91.5, \"tail_l\": 36.0}, {\"site\": 1, \"pop\": \"Vic\", \"sex\": \"m\", \"age\": 5.0, \"head_l\": 92.9, \"skull_w\": 57.6, \"total_l\": 85.5, \"tail_l\": 34.0}, {\"site\": 1, \"pop\": \"Vic\", \"sex\": \"m\", \"age\": 4.0, \"head_l\": 91.6, \"skull_w\": 56.0, \"total_l\": 86.0, \"tail_l\": 34.5}, {\"site\": 1, \"pop\": \"Vic\", \"sex\": \"f\", \"age\": 1.0, \"head_l\": 94.7, \"skull_w\": 67.7, \"total_l\": 89.5, \"tail_l\": 36.5}, {\"site\": 1, \"pop\": \"Vic\", \"sex\": \"m\", \"age\": 2.0, \"head_l\": 93.5, \"skull_w\": 55.7, \"total_l\": 90.0, \"tail_l\": 36.0}, {\"site\": 1, \"pop\": \"Vic\", \"sex\": \"f\", \"age\": 5.0, \"head_l\": 94.4, \"skull_w\": 55.4, \"total_l\": 90.5, \"tail_l\": 35.0}, {\"site\": 1, \"pop\": \"Vic\", \"sex\": \"f\", \"age\": 4.0, \"head_l\": 94.8, \"skull_w\": 56.3, \"total_l\": 89.0, \"tail_l\": 38.0}, {\"site\": 1, \"pop\": \"Vic\", \"sex\": \"f\", \"age\": 3.0, \"head_l\": 95.9, \"skull_w\": 58.1, \"total_l\": 96.5, \"tail_l\": 39.5}, {\"site\": 1, \"pop\": \"Vic\", \"sex\": \"m\", \"age\": 3.0, \"head_l\": 96.3, \"skull_w\": 58.5, \"total_l\": 91.0, \"tail_l\": 39.5}, {\"site\": 1, \"pop\": \"Vic\", \"sex\": \"f\", \"age\": 4.0, \"head_l\": 92.5, \"skull_w\": 56.1, \"total_l\": 89.0, \"tail_l\": 36.0}, {\"site\": 1, \"pop\": \"Vic\", \"sex\": \"m\", \"age\": 2.0, \"head_l\": 94.4, \"skull_w\": 54.9, \"total_l\": 84.0, \"tail_l\": 34.0}, {\"site\": 1, \"pop\": \"Vic\", \"sex\": \"m\", \"age\": 3.0, \"head_l\": 95.8, \"skull_w\": 58.5, \"total_l\": 91.5, \"tail_l\": 35.5}, {\"site\": 1, \"pop\": \"Vic\", \"sex\": \"m\", \"age\": 7.0, \"head_l\": 96.0, \"skull_w\": 59.0, \"total_l\": 90.0, \"tail_l\": 36.0}, {\"site\": 1, \"pop\": \"Vic\", \"sex\": \"f\", \"age\": 2.0, \"head_l\": 90.5, \"skull_w\": 54.5, \"total_l\": 85.0, \"tail_l\": 35.0}, {\"site\": 1, \"pop\": \"Vic\", \"sex\": \"m\", \"age\": 4.0, \"head_l\": 93.8, \"skull_w\": 56.8, \"total_l\": 87.0, \"tail_l\": 34.5}, {\"site\": 1, \"pop\": \"Vic\", \"sex\": \"f\", \"age\": 3.0, \"head_l\": 92.8, \"skull_w\": 56.0, \"total_l\": 88.0, \"tail_l\": 35.0}, {\"site\": 1, \"pop\": \"Vic\", \"sex\": \"f\", \"age\": 2.0, \"head_l\": 92.1, \"skull_w\": 54.4, \"total_l\": 84.0, \"tail_l\": 33.5}, {\"site\": 1, \"pop\": \"Vic\", \"sex\": \"m\", \"age\": 3.0, \"head_l\": 92.8, \"skull_w\": 54.1, \"total_l\": 93.0, \"tail_l\": 37.0}, {\"site\": 1, \"pop\": \"Vic\", \"sex\": \"f\", \"age\": 4.0, \"head_l\": 94.3, \"skull_w\": 56.7, \"total_l\": 94.0, \"tail_l\": 39.0}, {\"site\": 1, \"pop\": \"Vic\", \"sex\": \"m\", \"age\": 3.0, \"head_l\": 91.4, \"skull_w\": 54.6, \"total_l\": 89.0, \"tail_l\": 37.0}, {\"site\": 2, \"pop\": \"Vic\", \"sex\": \"m\", \"age\": 2.0, \"head_l\": 90.6, \"skull_w\": 55.7, \"total_l\": 85.5, \"tail_l\": 36.5}, {\"site\": 2, \"pop\": \"Vic\", \"sex\": \"m\", \"age\": 4.0, \"head_l\": 94.4, \"skull_w\": 57.9, \"total_l\": 85.0, \"tail_l\": 35.5}, {\"site\": 2, \"pop\": \"Vic\", \"sex\": \"m\", \"age\": 7.0, \"head_l\": 93.3, \"skull_w\": 59.3, \"total_l\": 88.0, \"tail_l\": 35.0}, {\"site\": 2, \"pop\": \"Vic\", \"sex\": \"f\", \"age\": 2.0, \"head_l\": 89.3, \"skull_w\": 54.8, \"total_l\": 82.5, \"tail_l\": 35.0}, {\"site\": 2, \"pop\": \"Vic\", \"sex\": \"m\", \"age\": 7.0, \"head_l\": 92.4, \"skull_w\": 56.0, \"total_l\": 80.5, \"tail_l\": 35.5}, {\"site\": 2, \"pop\": \"Vic\", \"sex\": \"f\", \"age\": 1.0, \"head_l\": 84.7, \"skull_w\": 51.5, \"total_l\": 75.0, \"tail_l\": 34.0}, {\"site\": 2, \"pop\": \"Vic\", \"sex\": \"f\", \"age\": 3.0, \"head_l\": 91.0, \"skull_w\": 55.0, \"total_l\": 84.5, \"tail_l\": 36.0}, {\"site\": 2, \"pop\": \"Vic\", \"sex\": \"f\", \"age\": 5.0, \"head_l\": 88.4, \"skull_w\": 57.0, \"total_l\": 83.0, \"tail_l\": 36.5}, {\"site\": 2, \"pop\": \"Vic\", \"sex\": \"m\", \"age\": 3.0, \"head_l\": 85.3, \"skull_w\": 54.1, \"total_l\": 77.0, \"tail_l\": 32.0}, {\"site\": 2, \"pop\": \"Vic\", \"sex\": \"f\", \"age\": 2.0, \"head_l\": 90.0, \"skull_w\": 55.5, \"total_l\": 81.0, \"tail_l\": 32.0}, {\"site\": 2, \"pop\": \"Vic\", \"sex\": \"m\", \"age\": null, \"head_l\": 85.1, \"skull_w\": 51.5, \"total_l\": 76.0, \"tail_l\": 35.5}, {\"site\": 2, \"pop\": \"Vic\", \"sex\": \"m\", \"age\": 3.0, \"head_l\": 90.7, \"skull_w\": 55.9, \"total_l\": 81.0, \"tail_l\": 34.0}, {\"site\": 2, \"pop\": \"Vic\", \"sex\": \"m\", \"age\": null, \"head_l\": 91.4, \"skull_w\": 54.4, \"total_l\": 84.0, \"tail_l\": 35.0}, {\"site\": 3, \"pop\": \"other\", \"sex\": \"m\", \"age\": 2.0, \"head_l\": 90.1, \"skull_w\": 54.8, \"total_l\": 89.0, \"tail_l\": 37.5}, {\"site\": 3, \"pop\": \"other\", \"sex\": \"m\", \"age\": 5.0, \"head_l\": 98.6, \"skull_w\": 63.2, \"total_l\": 85.0, \"tail_l\": 34.0}, {\"site\": 3, \"pop\": \"other\", \"sex\": \"m\", \"age\": 4.0, \"head_l\": 95.4, \"skull_w\": 59.2, \"total_l\": 85.0, \"tail_l\": 37.0}, {\"site\": 3, \"pop\": \"other\", \"sex\": \"f\", \"age\": 5.0, \"head_l\": 91.6, \"skull_w\": 56.4, \"total_l\": 88.0, \"tail_l\": 38.0}, {\"site\": 3, \"pop\": \"other\", \"sex\": \"f\", \"age\": 5.0, \"head_l\": 95.6, \"skull_w\": 59.6, \"total_l\": 85.0, \"tail_l\": 36.0}, {\"site\": 3, \"pop\": \"other\", \"sex\": \"m\", \"age\": 6.0, \"head_l\": 97.6, \"skull_w\": 61.0, \"total_l\": 93.5, \"tail_l\": 40.0}, {\"site\": 3, \"pop\": \"other\", \"sex\": \"f\", \"age\": 3.0, \"head_l\": 93.1, \"skull_w\": 58.1, \"total_l\": 91.0, \"tail_l\": 38.0}, {\"site\": 4, \"pop\": \"other\", \"sex\": \"m\", \"age\": 7.0, \"head_l\": 96.9, \"skull_w\": 63.0, \"total_l\": 91.5, \"tail_l\": 43.0}, {\"site\": 4, \"pop\": \"other\", \"sex\": \"m\", \"age\": 2.0, \"head_l\": 103.1, \"skull_w\": 63.2, \"total_l\": 92.5, \"tail_l\": 38.0}, {\"site\": 4, \"pop\": \"other\", \"sex\": \"m\", \"age\": 3.0, \"head_l\": 99.9, \"skull_w\": 61.5, \"total_l\": 93.7, \"tail_l\": 38.0}, {\"site\": 4, \"pop\": \"other\", \"sex\": \"f\", \"age\": 4.0, \"head_l\": 95.1, \"skull_w\": 59.4, \"total_l\": 93.0, \"tail_l\": 41.0}, {\"site\": 4, \"pop\": \"other\", \"sex\": \"m\", \"age\": 3.0, \"head_l\": 94.5, \"skull_w\": 64.2, \"total_l\": 91.0, \"tail_l\": 39.0}, {\"site\": 4, \"pop\": \"other\", \"sex\": \"m\", \"age\": 2.0, \"head_l\": 102.5, \"skull_w\": 62.8, \"total_l\": 96.0, \"tail_l\": 40.0}, {\"site\": 4, \"pop\": \"other\", \"sex\": \"f\", \"age\": 2.0, \"head_l\": 91.3, \"skull_w\": 57.7, \"total_l\": 88.0, \"tail_l\": 39.0}, {\"site\": 5, \"pop\": \"other\", \"sex\": \"m\", \"age\": 7.0, \"head_l\": 95.7, \"skull_w\": 59.0, \"total_l\": 86.0, \"tail_l\": 38.0}, {\"site\": 5, \"pop\": \"other\", \"sex\": \"f\", \"age\": 3.0, \"head_l\": 91.3, \"skull_w\": 58.0, \"total_l\": 90.5, \"tail_l\": 39.0}, {\"site\": 5, \"pop\": \"other\", \"sex\": \"f\", \"age\": 6.0, \"head_l\": 92.0, \"skull_w\": 56.4, \"total_l\": 88.5, \"tail_l\": 38.0}, {\"site\": 5, \"pop\": \"other\", \"sex\": \"f\", \"age\": 3.0, \"head_l\": 96.9, \"skull_w\": 56.5, \"total_l\": 89.5, \"tail_l\": 38.5}, {\"site\": 5, \"pop\": \"other\", \"sex\": \"f\", \"age\": 5.0, \"head_l\": 93.5, \"skull_w\": 57.4, \"total_l\": 88.5, \"tail_l\": 38.0}, {\"site\": 5, \"pop\": \"other\", \"sex\": \"f\", \"age\": 3.0, \"head_l\": 90.4, \"skull_w\": 55.8, \"total_l\": 86.0, \"tail_l\": 36.5}, {\"site\": 5, \"pop\": \"other\", \"sex\": \"m\", \"age\": 4.0, \"head_l\": 93.3, \"skull_w\": 57.6, \"total_l\": 85.0, \"tail_l\": 36.5}, {\"site\": 5, \"pop\": \"other\", \"sex\": \"m\", \"age\": 5.0, \"head_l\": 94.1, \"skull_w\": 56.0, \"total_l\": 88.5, \"tail_l\": 38.0}, {\"site\": 5, \"pop\": \"other\", \"sex\": \"m\", \"age\": 5.0, \"head_l\": 98.0, \"skull_w\": 55.6, \"total_l\": 88.0, \"tail_l\": 37.5}, {\"site\": 5, \"pop\": \"other\", \"sex\": \"f\", \"age\": 7.0, \"head_l\": 91.9, \"skull_w\": 56.4, \"total_l\": 87.0, \"tail_l\": 38.0}, {\"site\": 5, \"pop\": \"other\", \"sex\": \"m\", \"age\": 6.0, \"head_l\": 92.8, \"skull_w\": 57.6, \"total_l\": 90.0, \"tail_l\": 40.0}, {\"site\": 5, \"pop\": \"other\", \"sex\": \"m\", \"age\": 1.0, \"head_l\": 85.9, \"skull_w\": 52.4, \"total_l\": 80.5, \"tail_l\": 35.0}, {\"site\": 5, \"pop\": \"other\", \"sex\": \"m\", \"age\": 1.0, \"head_l\": 82.5, \"skull_w\": 52.3, \"total_l\": 82.0, \"tail_l\": 36.5}, {\"site\": 6, \"pop\": \"other\", \"sex\": \"f\", \"age\": 4.0, \"head_l\": 88.7, \"skull_w\": 52.0, \"total_l\": 83.0, \"tail_l\": 38.0}, {\"site\": 6, \"pop\": \"other\", \"sex\": \"m\", \"age\": 6.0, \"head_l\": 93.8, \"skull_w\": 58.1, \"total_l\": 89.0, \"tail_l\": 38.0}, {\"site\": 6, \"pop\": \"other\", \"sex\": \"m\", \"age\": 5.0, \"head_l\": 92.4, \"skull_w\": 56.8, \"total_l\": 89.0, \"tail_l\": 41.0}, {\"site\": 6, \"pop\": \"other\", \"sex\": \"m\", \"age\": 6.0, \"head_l\": 93.6, \"skull_w\": 56.2, \"total_l\": 84.0, \"tail_l\": 36.0}, {\"site\": 6, \"pop\": \"other\", \"sex\": \"m\", \"age\": 1.0, \"head_l\": 86.5, \"skull_w\": 51.0, \"total_l\": 81.0, \"tail_l\": 36.5}, {\"site\": 6, \"pop\": \"other\", \"sex\": \"m\", \"age\": 1.0, \"head_l\": 85.8, \"skull_w\": 50.0, \"total_l\": 81.0, \"tail_l\": 36.5}, {\"site\": 6, \"pop\": \"other\", \"sex\": \"m\", \"age\": 1.0, \"head_l\": 86.7, \"skull_w\": 52.6, \"total_l\": 84.0, \"tail_l\": 38.0}, {\"site\": 6, \"pop\": \"other\", \"sex\": \"m\", \"age\": 3.0, \"head_l\": 90.6, \"skull_w\": 56.0, \"total_l\": 85.5, \"tail_l\": 38.0}, {\"site\": 6, \"pop\": \"other\", \"sex\": \"f\", \"age\": 4.0, \"head_l\": 86.0, \"skull_w\": 54.0, \"total_l\": 82.0, \"tail_l\": 36.5}, {\"site\": 6, \"pop\": \"other\", \"sex\": \"f\", \"age\": 3.0, \"head_l\": 90.0, \"skull_w\": 53.8, \"total_l\": 81.5, \"tail_l\": 36.0}, {\"site\": 6, \"pop\": \"other\", \"sex\": \"m\", \"age\": 3.0, \"head_l\": 88.4, \"skull_w\": 54.6, \"total_l\": 80.5, \"tail_l\": 36.0}, {\"site\": 6, \"pop\": \"other\", \"sex\": \"m\", \"age\": 3.0, \"head_l\": 89.5, \"skull_w\": 56.2, \"total_l\": 92.0, \"tail_l\": 40.5}, {\"site\": 6, \"pop\": \"other\", \"sex\": \"f\", \"age\": 3.0, \"head_l\": 88.2, \"skull_w\": 53.2, \"total_l\": 86.5, \"tail_l\": 38.5}, {\"site\": 7, \"pop\": \"other\", \"sex\": \"m\", \"age\": 2.0, \"head_l\": 98.5, \"skull_w\": 60.7, \"total_l\": 93.0, \"tail_l\": 41.5}, {\"site\": 7, \"pop\": \"other\", \"sex\": \"f\", \"age\": 2.0, \"head_l\": 89.6, \"skull_w\": 58.0, \"total_l\": 87.5, \"tail_l\": 38.0}, {\"site\": 7, \"pop\": \"other\", \"sex\": \"m\", \"age\": 6.0, \"head_l\": 97.7, \"skull_w\": 58.4, \"total_l\": 84.5, \"tail_l\": 35.0}, {\"site\": 7, \"pop\": \"other\", \"sex\": \"m\", \"age\": 3.0, \"head_l\": 92.6, \"skull_w\": 54.6, \"total_l\": 85.0, \"tail_l\": 38.5}, {\"site\": 7, \"pop\": \"other\", \"sex\": \"m\", \"age\": 3.0, \"head_l\": 97.8, \"skull_w\": 59.6, \"total_l\": 89.0, \"tail_l\": 38.0}, {\"site\": 7, \"pop\": \"other\", \"sex\": \"m\", \"age\": 2.0, \"head_l\": 90.7, \"skull_w\": 56.3, \"total_l\": 85.0, \"tail_l\": 37.0}, {\"site\": 7, \"pop\": \"other\", \"sex\": \"m\", \"age\": 3.0, \"head_l\": 89.2, \"skull_w\": 54.0, \"total_l\": 82.0, \"tail_l\": 38.0}, {\"site\": 7, \"pop\": \"other\", \"sex\": \"m\", \"age\": 7.0, \"head_l\": 91.8, \"skull_w\": 57.6, \"total_l\": 84.0, \"tail_l\": 35.5}, {\"site\": 7, \"pop\": \"other\", \"sex\": \"m\", \"age\": 4.0, \"head_l\": 91.6, \"skull_w\": 56.6, \"total_l\": 88.5, \"tail_l\": 37.5}, {\"site\": 7, \"pop\": \"other\", \"sex\": \"m\", \"age\": 4.0, \"head_l\": 94.8, \"skull_w\": 55.7, \"total_l\": 83.0, \"tail_l\": 38.0}, {\"site\": 7, \"pop\": \"other\", \"sex\": \"m\", \"age\": 3.0, \"head_l\": 91.0, \"skull_w\": 53.1, \"total_l\": 86.0, \"tail_l\": 38.0}, {\"site\": 7, \"pop\": \"other\", \"sex\": \"m\", \"age\": 5.0, \"head_l\": 93.2, \"skull_w\": 68.6, \"total_l\": 84.0, \"tail_l\": 35.0}, {\"site\": 7, \"pop\": \"other\", \"sex\": \"f\", \"age\": 3.0, \"head_l\": 93.3, \"skull_w\": 56.2, \"total_l\": 86.5, \"tail_l\": 38.5}, {\"site\": 7, \"pop\": \"other\", \"sex\": \"m\", \"age\": 1.0, \"head_l\": 89.5, \"skull_w\": 56.0, \"total_l\": 81.5, \"tail_l\": 36.5}, {\"site\": 7, \"pop\": \"other\", \"sex\": \"m\", \"age\": 1.0, \"head_l\": 88.6, \"skull_w\": 54.7, \"total_l\": 82.5, \"tail_l\": 39.0}, {\"site\": 7, \"pop\": \"other\", \"sex\": \"f\", \"age\": 6.0, \"head_l\": 92.4, \"skull_w\": 55.0, \"total_l\": 89.0, \"tail_l\": 38.0}, {\"site\": 7, \"pop\": \"other\", \"sex\": \"m\", \"age\": 4.0, \"head_l\": 91.5, \"skull_w\": 55.2, \"total_l\": 82.5, \"tail_l\": 36.5}, {\"site\": 7, \"pop\": \"other\", \"sex\": \"f\", \"age\": 3.0, \"head_l\": 93.6, \"skull_w\": 59.9, \"total_l\": 89.0, \"tail_l\": 40.0}]}}, {\"mode\": \"vega-lite\"});\n",
       "</script>"
      ],
      "text/plain": [
       "alt.RepeatChart(...)"
      ]
     },
     "execution_count": 12,
     "metadata": {},
     "output_type": "execute_result"
    }
   ],
   "source": [
    "alt.Chart(df).mark_circle().encode(\n",
    "    x=alt.X(alt.repeat(\"column\"), \n",
    "            type='quantitative',\n",
    "            scale=alt.Scale(zero=False)\n",
    "            ),\n",
    "    y=alt.Y(alt.repeat(\"row\"), \n",
    "            type='quantitative',\n",
    "            scale=alt.Scale(zero=False)\n",
    "             )\n",
    ").properties(\n",
    "    width=150,\n",
    "    height=150\n",
    ").repeat(\n",
    "    row=list_numeric,\n",
    "    column=list_numeric\n",
    ")"
   ]
  },
  {
   "cell_type": "markdown",
   "metadata": {
    "slideshow": {
     "slide_type": "slide"
    }
   },
   "source": [
    "### Correlation"
   ]
  },
  {
   "cell_type": "markdown",
   "metadata": {
    "slideshow": {
     "slide_type": "fragment"
    }
   },
   "source": [
    "Methods of correlation in function `.corr()`:\n",
    "\n",
    "**Pearson correlation coefficient**: \n",
    "\n",
    "`pearson` : Pearson correlation coefficient \n",
    "\n",
    "- is only appropriate for numeric variables. \n",
    "- can only detect linear relationships.\n",
    "- can be misleading if there are outliers in the data.\n",
    "\n",
    "\n",
    "**Rank correlation**: \n",
    "\n",
    "`kendall` : Kendall Tau correlation coefficient  \n",
    "or  \n",
    "`spearman` : Spearman rank correlation\n",
    "\n",
    "\n",
    "\n",
    "- is appropriate for both continuous and discrete ordinal variables.\n",
    "- is better in detecting nonlinear relationships (in comparison to `pearson`)\n",
    "- is less sensitive to outliers.\n"
   ]
  },
  {
   "cell_type": "code",
   "execution_count": 14,
   "metadata": {
    "slideshow": {
     "slide_type": "subslide"
    }
   },
   "outputs": [],
   "source": [
    "corr = df.corr(method='pearson').round(2)"
   ]
  },
  {
   "cell_type": "code",
   "execution_count": 15,
   "metadata": {},
   "outputs": [
    {
     "data": {
      "text/html": [
       "<div>\n",
       "<style scoped>\n",
       "    .dataframe tbody tr th:only-of-type {\n",
       "        vertical-align: middle;\n",
       "    }\n",
       "\n",
       "    .dataframe tbody tr th {\n",
       "        vertical-align: top;\n",
       "    }\n",
       "\n",
       "    .dataframe thead th {\n",
       "        text-align: right;\n",
       "    }\n",
       "</style>\n",
       "<table border=\"1\" class=\"dataframe\">\n",
       "  <thead>\n",
       "    <tr style=\"text-align: right;\">\n",
       "      <th></th>\n",
       "      <th>site</th>\n",
       "      <th>age</th>\n",
       "      <th>head_l</th>\n",
       "      <th>skull_w</th>\n",
       "      <th>total_l</th>\n",
       "      <th>tail_l</th>\n",
       "    </tr>\n",
       "  </thead>\n",
       "  <tbody>\n",
       "    <tr>\n",
       "      <th>site</th>\n",
       "      <td>1.00</td>\n",
       "      <td>-0.13</td>\n",
       "      <td>-0.16</td>\n",
       "      <td>-0.08</td>\n",
       "      <td>-0.26</td>\n",
       "      <td>0.38</td>\n",
       "    </tr>\n",
       "    <tr>\n",
       "      <th>age</th>\n",
       "      <td>-0.13</td>\n",
       "      <td>1.00</td>\n",
       "      <td>0.32</td>\n",
       "      <td>0.29</td>\n",
       "      <td>0.26</td>\n",
       "      <td>0.12</td>\n",
       "    </tr>\n",
       "    <tr>\n",
       "      <th>head_l</th>\n",
       "      <td>-0.16</td>\n",
       "      <td>0.32</td>\n",
       "      <td>1.00</td>\n",
       "      <td>0.71</td>\n",
       "      <td>0.69</td>\n",
       "      <td>0.29</td>\n",
       "    </tr>\n",
       "    <tr>\n",
       "      <th>skull_w</th>\n",
       "      <td>-0.08</td>\n",
       "      <td>0.29</td>\n",
       "      <td>0.71</td>\n",
       "      <td>1.00</td>\n",
       "      <td>0.53</td>\n",
       "      <td>0.26</td>\n",
       "    </tr>\n",
       "    <tr>\n",
       "      <th>total_l</th>\n",
       "      <td>-0.26</td>\n",
       "      <td>0.26</td>\n",
       "      <td>0.69</td>\n",
       "      <td>0.53</td>\n",
       "      <td>1.00</td>\n",
       "      <td>0.57</td>\n",
       "    </tr>\n",
       "    <tr>\n",
       "      <th>tail_l</th>\n",
       "      <td>0.38</td>\n",
       "      <td>0.12</td>\n",
       "      <td>0.29</td>\n",
       "      <td>0.26</td>\n",
       "      <td>0.57</td>\n",
       "      <td>1.00</td>\n",
       "    </tr>\n",
       "  </tbody>\n",
       "</table>\n",
       "</div>"
      ],
      "text/plain": [
       "         site   age  head_l  skull_w  total_l  tail_l\n",
       "site     1.00 -0.13   -0.16    -0.08    -0.26    0.38\n",
       "age     -0.13  1.00    0.32     0.29     0.26    0.12\n",
       "head_l  -0.16  0.32    1.00     0.71     0.69    0.29\n",
       "skull_w -0.08  0.29    0.71     1.00     0.53    0.26\n",
       "total_l -0.26  0.26    0.69     0.53     1.00    0.57\n",
       "tail_l   0.38  0.12    0.29     0.26     0.57    1.00"
      ]
     },
     "execution_count": 15,
     "metadata": {},
     "output_type": "execute_result"
    }
   ],
   "source": [
    "corr"
   ]
  },
  {
   "cell_type": "code",
   "execution_count": 16,
   "metadata": {
    "slideshow": {
     "slide_type": "subslide"
    }
   },
   "outputs": [],
   "source": [
    "corr_blues = corr.style.background_gradient(cmap='Blues')"
   ]
  },
  {
   "cell_type": "code",
   "execution_count": 17,
   "metadata": {},
   "outputs": [
    {
     "data": {
      "text/html": [
       "<style type=\"text/css\">\n",
       "#T_2c87d_row0_col0, #T_2c87d_row1_col1, #T_2c87d_row2_col2, #T_2c87d_row3_col3, #T_2c87d_row4_col4, #T_2c87d_row5_col5 {\n",
       "  background-color: #08306b;\n",
       "  color: #f1f1f1;\n",
       "}\n",
       "#T_2c87d_row0_col1, #T_2c87d_row0_col2, #T_2c87d_row0_col3, #T_2c87d_row0_col4, #T_2c87d_row1_col5, #T_2c87d_row4_col0 {\n",
       "  background-color: #f7fbff;\n",
       "  color: #000000;\n",
       "}\n",
       "#T_2c87d_row0_col5 {\n",
       "  background-color: #b8d5ea;\n",
       "  color: #000000;\n",
       "}\n",
       "#T_2c87d_row1_col0 {\n",
       "  background-color: #e3eef8;\n",
       "  color: #000000;\n",
       "}\n",
       "#T_2c87d_row1_col2, #T_2c87d_row1_col4 {\n",
       "  background-color: #8fc2de;\n",
       "  color: #000000;\n",
       "}\n",
       "#T_2c87d_row1_col3 {\n",
       "  background-color: #a9cfe5;\n",
       "  color: #000000;\n",
       "}\n",
       "#T_2c87d_row2_col0 {\n",
       "  background-color: #e7f1fa;\n",
       "  color: #000000;\n",
       "}\n",
       "#T_2c87d_row2_col1 {\n",
       "  background-color: #95c5df;\n",
       "  color: #000000;\n",
       "}\n",
       "#T_2c87d_row2_col3, #T_2c87d_row4_col2 {\n",
       "  background-color: #2575b7;\n",
       "  color: #f1f1f1;\n",
       "}\n",
       "#T_2c87d_row2_col4 {\n",
       "  background-color: #206fb4;\n",
       "  color: #f1f1f1;\n",
       "}\n",
       "#T_2c87d_row2_col5 {\n",
       "  background-color: #d1e2f3;\n",
       "  color: #000000;\n",
       "}\n",
       "#T_2c87d_row3_col0 {\n",
       "  background-color: #dbe9f6;\n",
       "  color: #000000;\n",
       "}\n",
       "#T_2c87d_row3_col1 {\n",
       "  background-color: #9fcae1;\n",
       "  color: #000000;\n",
       "}\n",
       "#T_2c87d_row3_col2 {\n",
       "  background-color: #2070b4;\n",
       "  color: #f1f1f1;\n",
       "}\n",
       "#T_2c87d_row3_col4 {\n",
       "  background-color: #4191c6;\n",
       "  color: #f1f1f1;\n",
       "}\n",
       "#T_2c87d_row3_col5 {\n",
       "  background-color: #d8e7f5;\n",
       "  color: #000000;\n",
       "}\n",
       "#T_2c87d_row4_col1 {\n",
       "  background-color: #a8cee4;\n",
       "  color: #000000;\n",
       "}\n",
       "#T_2c87d_row4_col3 {\n",
       "  background-color: #56a0ce;\n",
       "  color: #f1f1f1;\n",
       "}\n",
       "#T_2c87d_row4_col5, #T_2c87d_row5_col0 {\n",
       "  background-color: #68acd5;\n",
       "  color: #f1f1f1;\n",
       "}\n",
       "#T_2c87d_row5_col1 {\n",
       "  background-color: #ccdff1;\n",
       "  color: #000000;\n",
       "}\n",
       "#T_2c87d_row5_col2 {\n",
       "  background-color: #99c7e0;\n",
       "  color: #000000;\n",
       "}\n",
       "#T_2c87d_row5_col3 {\n",
       "  background-color: #b2d2e8;\n",
       "  color: #000000;\n",
       "}\n",
       "#T_2c87d_row5_col4 {\n",
       "  background-color: #3989c1;\n",
       "  color: #f1f1f1;\n",
       "}\n",
       "</style>\n",
       "<table id=\"T_2c87d\">\n",
       "  <thead>\n",
       "    <tr>\n",
       "      <th class=\"blank level0\" >&nbsp;</th>\n",
       "      <th id=\"T_2c87d_level0_col0\" class=\"col_heading level0 col0\" >site</th>\n",
       "      <th id=\"T_2c87d_level0_col1\" class=\"col_heading level0 col1\" >age</th>\n",
       "      <th id=\"T_2c87d_level0_col2\" class=\"col_heading level0 col2\" >head_l</th>\n",
       "      <th id=\"T_2c87d_level0_col3\" class=\"col_heading level0 col3\" >skull_w</th>\n",
       "      <th id=\"T_2c87d_level0_col4\" class=\"col_heading level0 col4\" >total_l</th>\n",
       "      <th id=\"T_2c87d_level0_col5\" class=\"col_heading level0 col5\" >tail_l</th>\n",
       "    </tr>\n",
       "  </thead>\n",
       "  <tbody>\n",
       "    <tr>\n",
       "      <th id=\"T_2c87d_level0_row0\" class=\"row_heading level0 row0\" >site</th>\n",
       "      <td id=\"T_2c87d_row0_col0\" class=\"data row0 col0\" >1.000000</td>\n",
       "      <td id=\"T_2c87d_row0_col1\" class=\"data row0 col1\" >-0.130000</td>\n",
       "      <td id=\"T_2c87d_row0_col2\" class=\"data row0 col2\" >-0.160000</td>\n",
       "      <td id=\"T_2c87d_row0_col3\" class=\"data row0 col3\" >-0.080000</td>\n",
       "      <td id=\"T_2c87d_row0_col4\" class=\"data row0 col4\" >-0.260000</td>\n",
       "      <td id=\"T_2c87d_row0_col5\" class=\"data row0 col5\" >0.380000</td>\n",
       "    </tr>\n",
       "    <tr>\n",
       "      <th id=\"T_2c87d_level0_row1\" class=\"row_heading level0 row1\" >age</th>\n",
       "      <td id=\"T_2c87d_row1_col0\" class=\"data row1 col0\" >-0.130000</td>\n",
       "      <td id=\"T_2c87d_row1_col1\" class=\"data row1 col1\" >1.000000</td>\n",
       "      <td id=\"T_2c87d_row1_col2\" class=\"data row1 col2\" >0.320000</td>\n",
       "      <td id=\"T_2c87d_row1_col3\" class=\"data row1 col3\" >0.290000</td>\n",
       "      <td id=\"T_2c87d_row1_col4\" class=\"data row1 col4\" >0.260000</td>\n",
       "      <td id=\"T_2c87d_row1_col5\" class=\"data row1 col5\" >0.120000</td>\n",
       "    </tr>\n",
       "    <tr>\n",
       "      <th id=\"T_2c87d_level0_row2\" class=\"row_heading level0 row2\" >head_l</th>\n",
       "      <td id=\"T_2c87d_row2_col0\" class=\"data row2 col0\" >-0.160000</td>\n",
       "      <td id=\"T_2c87d_row2_col1\" class=\"data row2 col1\" >0.320000</td>\n",
       "      <td id=\"T_2c87d_row2_col2\" class=\"data row2 col2\" >1.000000</td>\n",
       "      <td id=\"T_2c87d_row2_col3\" class=\"data row2 col3\" >0.710000</td>\n",
       "      <td id=\"T_2c87d_row2_col4\" class=\"data row2 col4\" >0.690000</td>\n",
       "      <td id=\"T_2c87d_row2_col5\" class=\"data row2 col5\" >0.290000</td>\n",
       "    </tr>\n",
       "    <tr>\n",
       "      <th id=\"T_2c87d_level0_row3\" class=\"row_heading level0 row3\" >skull_w</th>\n",
       "      <td id=\"T_2c87d_row3_col0\" class=\"data row3 col0\" >-0.080000</td>\n",
       "      <td id=\"T_2c87d_row3_col1\" class=\"data row3 col1\" >0.290000</td>\n",
       "      <td id=\"T_2c87d_row3_col2\" class=\"data row3 col2\" >0.710000</td>\n",
       "      <td id=\"T_2c87d_row3_col3\" class=\"data row3 col3\" >1.000000</td>\n",
       "      <td id=\"T_2c87d_row3_col4\" class=\"data row3 col4\" >0.530000</td>\n",
       "      <td id=\"T_2c87d_row3_col5\" class=\"data row3 col5\" >0.260000</td>\n",
       "    </tr>\n",
       "    <tr>\n",
       "      <th id=\"T_2c87d_level0_row4\" class=\"row_heading level0 row4\" >total_l</th>\n",
       "      <td id=\"T_2c87d_row4_col0\" class=\"data row4 col0\" >-0.260000</td>\n",
       "      <td id=\"T_2c87d_row4_col1\" class=\"data row4 col1\" >0.260000</td>\n",
       "      <td id=\"T_2c87d_row4_col2\" class=\"data row4 col2\" >0.690000</td>\n",
       "      <td id=\"T_2c87d_row4_col3\" class=\"data row4 col3\" >0.530000</td>\n",
       "      <td id=\"T_2c87d_row4_col4\" class=\"data row4 col4\" >1.000000</td>\n",
       "      <td id=\"T_2c87d_row4_col5\" class=\"data row4 col5\" >0.570000</td>\n",
       "    </tr>\n",
       "    <tr>\n",
       "      <th id=\"T_2c87d_level0_row5\" class=\"row_heading level0 row5\" >tail_l</th>\n",
       "      <td id=\"T_2c87d_row5_col0\" class=\"data row5 col0\" >0.380000</td>\n",
       "      <td id=\"T_2c87d_row5_col1\" class=\"data row5 col1\" >0.120000</td>\n",
       "      <td id=\"T_2c87d_row5_col2\" class=\"data row5 col2\" >0.290000</td>\n",
       "      <td id=\"T_2c87d_row5_col3\" class=\"data row5 col3\" >0.260000</td>\n",
       "      <td id=\"T_2c87d_row5_col4\" class=\"data row5 col4\" >0.570000</td>\n",
       "      <td id=\"T_2c87d_row5_col5\" class=\"data row5 col5\" >1.000000</td>\n",
       "    </tr>\n",
       "  </tbody>\n",
       "</table>\n"
      ],
      "text/plain": [
       "<pandas.io.formats.style.Styler at 0x7f95b880aa90>"
      ]
     },
     "execution_count": 17,
     "metadata": {},
     "output_type": "execute_result"
    }
   ],
   "source": [
    "corr_blues"
   ]
  },
  {
   "cell_type": "code",
   "execution_count": 18,
   "metadata": {
    "slideshow": {
     "slide_type": "subslide"
    }
   },
   "outputs": [],
   "source": [
    "# inspect correlation between response and predictors\n",
    "corr_list = corr[y_label].sort_values(ascending=False)"
   ]
  },
  {
   "cell_type": "code",
   "execution_count": 19,
   "metadata": {},
   "outputs": [
    {
     "data": {
      "text/plain": [
       "head_l     1.00\n",
       "skull_w    0.71\n",
       "total_l    0.69\n",
       "age        0.32\n",
       "tail_l     0.29\n",
       "site      -0.16\n",
       "Name: head_l, dtype: float64"
      ]
     },
     "execution_count": 19,
     "metadata": {},
     "output_type": "execute_result"
    }
   ],
   "source": [
    "corr_list"
   ]
  }
 ],
 "metadata": {
  "celltoolbar": "Slideshow",
  "kernelspec": {
   "display_name": "Python 3.9.13 ('webscraping')",
   "language": "python",
   "name": "python3"
  },
  "language_info": {
   "codemirror_mode": {
    "name": "ipython",
    "version": 3
   },
   "file_extension": ".py",
   "mimetype": "text/x-python",
   "name": "python",
   "nbconvert_exporter": "python",
   "pygments_lexer": "ipython3",
   "version": "3.9.13"
  },
  "vscode": {
   "interpreter": {
    "hash": "147de23312147813b0623f895fe208f672aacb131d01c672b840a7a22f97849e"
   }
  }
 },
 "nbformat": 4,
 "nbformat_minor": 2
}
