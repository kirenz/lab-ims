{
 "cells": [
  {
   "cell_type": "markdown",
   "metadata": {
    "slideshow": {
     "slide_type": "slide"
    }
   },
   "source": [
    "# Case study: Opportunity cost"
   ]
  },
  {
   "cell_type": "markdown",
   "metadata": {},
   "source": [
    "## Setup"
   ]
  },
  {
   "cell_type": "code",
   "execution_count": 78,
   "metadata": {},
   "outputs": [
    {
     "data": {
      "text/plain": [
       "DataTransformerRegistry.enable('default')"
      ]
     },
     "execution_count": 78,
     "metadata": {},
     "output_type": "execute_result"
    }
   ],
   "source": [
    "import pandas as pd\n",
    "import altair as alt\n",
    "\n",
    "alt.data_transformers.disable_max_rows()"
   ]
  },
  {
   "cell_type": "markdown",
   "metadata": {
    "slideshow": {
     "slide_type": "slide"
    }
   },
   "source": [
    "## Import data"
   ]
  },
  {
   "cell_type": "code",
   "execution_count": 79,
   "metadata": {
    "slideshow": {
     "slide_type": "fragment"
    }
   },
   "outputs": [
    {
     "data": {
      "text/html": [
       "<div>\n",
       "<style scoped>\n",
       "    .dataframe tbody tr th:only-of-type {\n",
       "        vertical-align: middle;\n",
       "    }\n",
       "\n",
       "    .dataframe tbody tr th {\n",
       "        vertical-align: top;\n",
       "    }\n",
       "\n",
       "    .dataframe thead th {\n",
       "        text-align: right;\n",
       "    }\n",
       "</style>\n",
       "<table border=\"1\" class=\"dataframe\">\n",
       "  <thead>\n",
       "    <tr style=\"text-align: right;\">\n",
       "      <th></th>\n",
       "      <th>group</th>\n",
       "      <th>decision</th>\n",
       "    </tr>\n",
       "  </thead>\n",
       "  <tbody>\n",
       "    <tr>\n",
       "      <th>0</th>\n",
       "      <td>control</td>\n",
       "      <td>buy video</td>\n",
       "    </tr>\n",
       "    <tr>\n",
       "      <th>1</th>\n",
       "      <td>control</td>\n",
       "      <td>buy video</td>\n",
       "    </tr>\n",
       "    <tr>\n",
       "      <th>2</th>\n",
       "      <td>control</td>\n",
       "      <td>buy video</td>\n",
       "    </tr>\n",
       "    <tr>\n",
       "      <th>3</th>\n",
       "      <td>control</td>\n",
       "      <td>buy video</td>\n",
       "    </tr>\n",
       "    <tr>\n",
       "      <th>4</th>\n",
       "      <td>control</td>\n",
       "      <td>buy video</td>\n",
       "    </tr>\n",
       "  </tbody>\n",
       "</table>\n",
       "</div>"
      ],
      "text/plain": [
       "     group   decision\n",
       "0  control  buy video\n",
       "1  control  buy video\n",
       "2  control  buy video\n",
       "3  control  buy video\n",
       "4  control  buy video"
      ]
     },
     "execution_count": 79,
     "metadata": {},
     "output_type": "execute_result"
    }
   ],
   "source": [
    "df = pd.read_csv(\"https://raw.githubusercontent.com/kirenz/datasets/master/opportunity_cost.csv\")\n",
    "df.head()"
   ]
  },
  {
   "cell_type": "code",
   "execution_count": 80,
   "metadata": {},
   "outputs": [
    {
     "name": "stdout",
     "output_type": "stream",
     "text": [
      "<class 'pandas.core.frame.DataFrame'>\n",
      "RangeIndex: 150 entries, 0 to 149\n",
      "Data columns (total 2 columns):\n",
      " #   Column    Non-Null Count  Dtype \n",
      "---  ------    --------------  ----- \n",
      " 0   group     150 non-null    object\n",
      " 1   decision  150 non-null    object\n",
      "dtypes: object(2)\n",
      "memory usage: 2.5+ KB\n"
     ]
    }
   ],
   "source": [
    "df.info()"
   ]
  },
  {
   "cell_type": "code",
   "execution_count": 81,
   "metadata": {},
   "outputs": [
    {
     "data": {
      "text/plain": [
       "control      75\n",
       "treatment    75\n",
       "Name: group, dtype: int64"
      ]
     },
     "execution_count": 81,
     "metadata": {},
     "output_type": "execute_result"
    }
   ],
   "source": [
    "df['group'].value_counts()"
   ]
  },
  {
   "cell_type": "markdown",
   "metadata": {},
   "source": [
    "## Observed data"
   ]
  },
  {
   "cell_type": "markdown",
   "metadata": {
    "slideshow": {
     "slide_type": "slide"
    }
   },
   "source": [
    "## Crosstable"
   ]
  },
  {
   "cell_type": "code",
   "execution_count": 82,
   "metadata": {
    "slideshow": {
     "slide_type": "fragment"
    }
   },
   "outputs": [
    {
     "data": {
      "text/html": [
       "<div>\n",
       "<style scoped>\n",
       "    .dataframe tbody tr th:only-of-type {\n",
       "        vertical-align: middle;\n",
       "    }\n",
       "\n",
       "    .dataframe tbody tr th {\n",
       "        vertical-align: top;\n",
       "    }\n",
       "\n",
       "    .dataframe thead th {\n",
       "        text-align: right;\n",
       "    }\n",
       "</style>\n",
       "<table border=\"1\" class=\"dataframe\">\n",
       "  <thead>\n",
       "    <tr style=\"text-align: right;\">\n",
       "      <th>decision</th>\n",
       "      <th>buy video</th>\n",
       "      <th>not buy video</th>\n",
       "      <th>All</th>\n",
       "    </tr>\n",
       "    <tr>\n",
       "      <th>group</th>\n",
       "      <th></th>\n",
       "      <th></th>\n",
       "      <th></th>\n",
       "    </tr>\n",
       "  </thead>\n",
       "  <tbody>\n",
       "    <tr>\n",
       "      <th>control</th>\n",
       "      <td>56</td>\n",
       "      <td>19</td>\n",
       "      <td>75</td>\n",
       "    </tr>\n",
       "    <tr>\n",
       "      <th>treatment</th>\n",
       "      <td>41</td>\n",
       "      <td>34</td>\n",
       "      <td>75</td>\n",
       "    </tr>\n",
       "    <tr>\n",
       "      <th>All</th>\n",
       "      <td>97</td>\n",
       "      <td>53</td>\n",
       "      <td>150</td>\n",
       "    </tr>\n",
       "  </tbody>\n",
       "</table>\n",
       "</div>"
      ],
      "text/plain": [
       "decision   buy video  not buy video  All\n",
       "group                                   \n",
       "control           56             19   75\n",
       "treatment         41             34   75\n",
       "All               97             53  150"
      ]
     },
     "execution_count": 82,
     "metadata": {},
     "output_type": "execute_result"
    }
   ],
   "source": [
    "pd.crosstab(df.group, df.decision,  margins=True)"
   ]
  },
  {
   "cell_type": "code",
   "execution_count": 83,
   "metadata": {},
   "outputs": [
    {
     "data": {
      "text/html": [
       "<div>\n",
       "<style scoped>\n",
       "    .dataframe tbody tr th:only-of-type {\n",
       "        vertical-align: middle;\n",
       "    }\n",
       "\n",
       "    .dataframe tbody tr th {\n",
       "        vertical-align: top;\n",
       "    }\n",
       "\n",
       "    .dataframe thead th {\n",
       "        text-align: right;\n",
       "    }\n",
       "</style>\n",
       "<table border=\"1\" class=\"dataframe\">\n",
       "  <thead>\n",
       "    <tr style=\"text-align: right;\">\n",
       "      <th>decision</th>\n",
       "      <th>buy video</th>\n",
       "      <th>not buy video</th>\n",
       "    </tr>\n",
       "    <tr>\n",
       "      <th>group</th>\n",
       "      <th></th>\n",
       "      <th></th>\n",
       "    </tr>\n",
       "  </thead>\n",
       "  <tbody>\n",
       "    <tr>\n",
       "      <th>control</th>\n",
       "      <td>0.75</td>\n",
       "      <td>0.25</td>\n",
       "    </tr>\n",
       "    <tr>\n",
       "      <th>treatment</th>\n",
       "      <td>0.55</td>\n",
       "      <td>0.45</td>\n",
       "    </tr>\n",
       "    <tr>\n",
       "      <th>All</th>\n",
       "      <td>0.65</td>\n",
       "      <td>0.35</td>\n",
       "    </tr>\n",
       "  </tbody>\n",
       "</table>\n",
       "</div>"
      ],
      "text/plain": [
       "decision   buy video  not buy video\n",
       "group                              \n",
       "control         0.75           0.25\n",
       "treatment       0.55           0.45\n",
       "All             0.65           0.35"
      ]
     },
     "execution_count": 83,
     "metadata": {},
     "output_type": "execute_result"
    }
   ],
   "source": [
    "pd.crosstab(df.group, df.decision, normalize='index',  margins=True).round(2)"
   ]
  },
  {
   "cell_type": "markdown",
   "metadata": {},
   "source": [
    "## Calculate difference"
   ]
  },
  {
   "cell_type": "code",
   "execution_count": 84,
   "metadata": {},
   "outputs": [
    {
     "data": {
      "text/html": [
       "<div>\n",
       "<style scoped>\n",
       "    .dataframe tbody tr th:only-of-type {\n",
       "        vertical-align: middle;\n",
       "    }\n",
       "\n",
       "    .dataframe tbody tr th {\n",
       "        vertical-align: top;\n",
       "    }\n",
       "\n",
       "    .dataframe thead th {\n",
       "        text-align: right;\n",
       "    }\n",
       "</style>\n",
       "<table border=\"1\" class=\"dataframe\">\n",
       "  <thead>\n",
       "    <tr style=\"text-align: right;\">\n",
       "      <th></th>\n",
       "      <th>p_diff</th>\n",
       "    </tr>\n",
       "  </thead>\n",
       "  <tbody>\n",
       "    <tr>\n",
       "      <th>0</th>\n",
       "      <td>0.2</td>\n",
       "    </tr>\n",
       "  </tbody>\n",
       "</table>\n",
       "</div>"
      ],
      "text/plain": [
       "   p_diff\n",
       "0     0.2"
      ]
     },
     "execution_count": 84,
     "metadata": {},
     "output_type": "execute_result"
    }
   ],
   "source": [
    "df_control = df[(df[\"group\"] == \"control\")]\n",
    "df_treatment = df[(df[\"group\"] == \"treatment\")]\n",
    "\n",
    "control_total = len(df_control)\n",
    "treatment_total = len(df_treatment)\n",
    "\n",
    "control_not_buy = len(df_control[df_control['decision']==\"not buy video\"])\n",
    "treatment_not_buy = len(df_treatment[df_treatment['decision']==\"not buy video\"])\n",
    "\n",
    "control_p = round(control_not_buy / control_total, 3)\n",
    "treatment_p = round(treatment_not_buy / treatment_total, 3)\n",
    "\n",
    "p_diff_ob = round(treatment_p - control_p, 3)\n",
    "\n",
    "df_p_diff_ob = pd.DataFrame({'p_diff': [p_diff_ob] })\n",
    "df_p_diff_ob"
   ]
  },
  {
   "cell_type": "markdown",
   "metadata": {},
   "source": [
    "The proportion of students who chose not to buy the video was 20 percentage points higher in the treatment group than the control group."
   ]
  },
  {
   "cell_type": "markdown",
   "metadata": {},
   "source": [
    "## Randomization"
   ]
  },
  {
   "cell_type": "markdown",
   "metadata": {},
   "source": [
    "### Crosstable"
   ]
  },
  {
   "cell_type": "markdown",
   "metadata": {},
   "source": [
    "Example with only one randomization:"
   ]
  },
  {
   "cell_type": "code",
   "execution_count": 85,
   "metadata": {},
   "outputs": [],
   "source": [
    "df['group_random'] = df['group'].sample(frac=1, random_state=0).reset_index(drop=True)"
   ]
  },
  {
   "cell_type": "markdown",
   "metadata": {},
   "source": [
    "Since the randomization of files in this simulation is independent of the promotion decisions, any difference in promotion rates is due to chance."
   ]
  },
  {
   "cell_type": "code",
   "execution_count": 86,
   "metadata": {},
   "outputs": [
    {
     "data": {
      "text/html": [
       "<div>\n",
       "<style scoped>\n",
       "    .dataframe tbody tr th:only-of-type {\n",
       "        vertical-align: middle;\n",
       "    }\n",
       "\n",
       "    .dataframe tbody tr th {\n",
       "        vertical-align: top;\n",
       "    }\n",
       "\n",
       "    .dataframe thead th {\n",
       "        text-align: right;\n",
       "    }\n",
       "</style>\n",
       "<table border=\"1\" class=\"dataframe\">\n",
       "  <thead>\n",
       "    <tr style=\"text-align: right;\">\n",
       "      <th>decision</th>\n",
       "      <th>buy video</th>\n",
       "      <th>not buy video</th>\n",
       "      <th>All</th>\n",
       "    </tr>\n",
       "    <tr>\n",
       "      <th>group_random</th>\n",
       "      <th></th>\n",
       "      <th></th>\n",
       "      <th></th>\n",
       "    </tr>\n",
       "  </thead>\n",
       "  <tbody>\n",
       "    <tr>\n",
       "      <th>control</th>\n",
       "      <td>51</td>\n",
       "      <td>24</td>\n",
       "      <td>75</td>\n",
       "    </tr>\n",
       "    <tr>\n",
       "      <th>treatment</th>\n",
       "      <td>46</td>\n",
       "      <td>29</td>\n",
       "      <td>75</td>\n",
       "    </tr>\n",
       "    <tr>\n",
       "      <th>All</th>\n",
       "      <td>97</td>\n",
       "      <td>53</td>\n",
       "      <td>150</td>\n",
       "    </tr>\n",
       "  </tbody>\n",
       "</table>\n",
       "</div>"
      ],
      "text/plain": [
       "decision      buy video  not buy video  All\n",
       "group_random                               \n",
       "control              51             24   75\n",
       "treatment            46             29   75\n",
       "All                  97             53  150"
      ]
     },
     "execution_count": 86,
     "metadata": {},
     "output_type": "execute_result"
    }
   ],
   "source": [
    "pd.crosstab(df.group_random, df.decision,  margins=True)"
   ]
  },
  {
   "cell_type": "markdown",
   "metadata": {},
   "source": [
    "### Calculate difference"
   ]
  },
  {
   "cell_type": "markdown",
   "metadata": {},
   "source": [
    "#### One randomization"
   ]
  },
  {
   "cell_type": "code",
   "execution_count": 87,
   "metadata": {},
   "outputs": [
    {
     "data": {
      "text/plain": [
       "0.067"
      ]
     },
     "execution_count": 87,
     "metadata": {},
     "output_type": "execute_result"
    }
   ],
   "source": [
    "df_control = df[(df[\"group_random\"] == \"control\")]\n",
    "df_treatment = df[(df[\"group_random\"] == \"treatment\")]\n",
    "\n",
    "control_total = len(df_control)\n",
    "treatment_total = len(df_treatment)\n",
    "\n",
    "control_not_buy = len(df_control[df_control['decision']==\"not buy video\"])\n",
    "treatment_not_buy = len(df_treatment[df_treatment['decision']==\"not buy video\"])\n",
    "\n",
    "control_p = round(control_not_buy / control_total, 3)\n",
    "treatment_p = round(treatment_not_buy / treatment_total, 3)\n",
    "\n",
    "p_diff = round(treatment_p - control_p, 3)\n",
    "\n",
    "p_diff"
   ]
  },
  {
   "cell_type": "markdown",
   "metadata": {},
   "source": [
    "#### Multiple randomizations"
   ]
  },
  {
   "cell_type": "code",
   "execution_count": 88,
   "metadata": {},
   "outputs": [],
   "source": [
    "# create an empty list\n",
    "random_difference = []\n",
    "\n",
    "# make 1000 randomizations and save results\n",
    "for i in range(0, 1000):\n",
    "\n",
    "    df['group_random'] = df['group'].sample(frac=1, random_state=i).reset_index(drop=True)\n",
    "\n",
    "    df_control = df[(df[\"group_random\"] == \"control\")]\n",
    "    df_treatment = df[(df[\"group_random\"] == \"treatment\")]\n",
    "\n",
    "    control_total = len(df_control)\n",
    "    treatment_total = len(df_treatment)\n",
    "\n",
    "    control_not_buy = len(df_control[df_control['decision']==\"not buy video\"])\n",
    "    treatment_not_buy = len(df_treatment[df_treatment['decision']==\"not buy video\"])\n",
    "\n",
    "    control_p = round(control_not_buy / control_total, 3)\n",
    "    treatment_p = round(treatment_not_buy / treatment_total, 3)\n",
    "\n",
    "    p_diff = round(treatment_p - control_p, 3)\n",
    "\n",
    "    random_difference.append(p_diff)"
   ]
  },
  {
   "cell_type": "code",
   "execution_count": 89,
   "metadata": {},
   "outputs": [],
   "source": [
    "# create pandas dataframe\n",
    "df_random = pd.DataFrame({'p_diff': random_difference})\n"
   ]
  },
  {
   "cell_type": "code",
   "execution_count": 90,
   "metadata": {},
   "outputs": [
    {
     "data": {
      "text/html": [
       "<div>\n",
       "<style scoped>\n",
       "    .dataframe tbody tr th:only-of-type {\n",
       "        vertical-align: middle;\n",
       "    }\n",
       "\n",
       "    .dataframe tbody tr th {\n",
       "        vertical-align: top;\n",
       "    }\n",
       "\n",
       "    .dataframe thead th {\n",
       "        text-align: right;\n",
       "    }\n",
       "</style>\n",
       "<table border=\"1\" class=\"dataframe\">\n",
       "  <thead>\n",
       "    <tr style=\"text-align: right;\">\n",
       "      <th></th>\n",
       "      <th>count</th>\n",
       "      <th>mean</th>\n",
       "      <th>std</th>\n",
       "      <th>min</th>\n",
       "      <th>25%</th>\n",
       "      <th>50%</th>\n",
       "      <th>75%</th>\n",
       "      <th>max</th>\n",
       "    </tr>\n",
       "  </thead>\n",
       "  <tbody>\n",
       "    <tr>\n",
       "      <th>p_diff</th>\n",
       "      <td>1000.0</td>\n",
       "      <td>-0.003355</td>\n",
       "      <td>0.081123</td>\n",
       "      <td>-0.253</td>\n",
       "      <td>-0.067</td>\n",
       "      <td>-0.013</td>\n",
       "      <td>0.04</td>\n",
       "      <td>0.28</td>\n",
       "    </tr>\n",
       "  </tbody>\n",
       "</table>\n",
       "</div>"
      ],
      "text/plain": [
       "         count      mean       std    min    25%    50%   75%   max\n",
       "p_diff  1000.0 -0.003355  0.081123 -0.253 -0.067 -0.013  0.04  0.28"
      ]
     },
     "execution_count": 90,
     "metadata": {},
     "output_type": "execute_result"
    }
   ],
   "source": [
    "df_random.describe().T"
   ]
  },
  {
   "cell_type": "code",
   "execution_count": 91,
   "metadata": {},
   "outputs": [
    {
     "data": {
      "text/html": [
       "\n",
       "<div id=\"altair-viz-fad0932ad0bf472ea1fd4a9c7421e98d\"></div>\n",
       "<script type=\"text/javascript\">\n",
       "  var VEGA_DEBUG = (typeof VEGA_DEBUG == \"undefined\") ? {} : VEGA_DEBUG;\n",
       "  (function(spec, embedOpt){\n",
       "    let outputDiv = document.currentScript.previousElementSibling;\n",
       "    if (outputDiv.id !== \"altair-viz-fad0932ad0bf472ea1fd4a9c7421e98d\") {\n",
       "      outputDiv = document.getElementById(\"altair-viz-fad0932ad0bf472ea1fd4a9c7421e98d\");\n",
       "    }\n",
       "    const paths = {\n",
       "      \"vega\": \"https://cdn.jsdelivr.net/npm//vega@5?noext\",\n",
       "      \"vega-lib\": \"https://cdn.jsdelivr.net/npm//vega-lib?noext\",\n",
       "      \"vega-lite\": \"https://cdn.jsdelivr.net/npm//vega-lite@4.17.0?noext\",\n",
       "      \"vega-embed\": \"https://cdn.jsdelivr.net/npm//vega-embed@6?noext\",\n",
       "    };\n",
       "\n",
       "    function maybeLoadScript(lib, version) {\n",
       "      var key = `${lib.replace(\"-\", \"\")}_version`;\n",
       "      return (VEGA_DEBUG[key] == version) ?\n",
       "        Promise.resolve(paths[lib]) :\n",
       "        new Promise(function(resolve, reject) {\n",
       "          var s = document.createElement('script');\n",
       "          document.getElementsByTagName(\"head\")[0].appendChild(s);\n",
       "          s.async = true;\n",
       "          s.onload = () => {\n",
       "            VEGA_DEBUG[key] = version;\n",
       "            return resolve(paths[lib]);\n",
       "          };\n",
       "          s.onerror = () => reject(`Error loading script: ${paths[lib]}`);\n",
       "          s.src = paths[lib];\n",
       "        });\n",
       "    }\n",
       "\n",
       "    function showError(err) {\n",
       "      outputDiv.innerHTML = `<div class=\"error\" style=\"color:red;\">${err}</div>`;\n",
       "      throw err;\n",
       "    }\n",
       "\n",
       "    function displayChart(vegaEmbed) {\n",
       "      vegaEmbed(outputDiv, spec, embedOpt)\n",
       "        .catch(err => showError(`Javascript Error: ${err.message}<br>This usually means there's a typo in your chart specification. See the javascript console for the full traceback.`));\n",
       "    }\n",
       "\n",
       "    if(typeof define === \"function\" && define.amd) {\n",
       "      requirejs.config({paths});\n",
       "      require([\"vega-embed\"], displayChart, err => showError(`Error loading script: ${err.message}`));\n",
       "    } else {\n",
       "      maybeLoadScript(\"vega\", \"5\")\n",
       "        .then(() => maybeLoadScript(\"vega-lite\", \"4.17.0\"))\n",
       "        .then(() => maybeLoadScript(\"vega-embed\", \"6\"))\n",
       "        .catch(showError)\n",
       "        .then(() => displayChart(vegaEmbed));\n",
       "    }\n",
       "  })({\"config\": {\"view\": {\"continuousWidth\": 400, \"continuousHeight\": 300}}, \"layer\": [{\"data\": {\"name\": \"data-741f887dc031521a4ef32ad1f84b13da\"}, \"mark\": {\"type\": \"circle\", \"size\": 100}, \"encoding\": {\"x\": {\"field\": \"p_diff\", \"title\": \"Differences across 1000 shuffles\", \"type\": \"ordinal\"}, \"y\": {\"axis\": null, \"field\": \"id\", \"sort\": \"descending\", \"type\": \"ordinal\"}}, \"height\": 300, \"transform\": [{\"window\": [{\"op\": \"rank\", \"field\": \"\", \"as\": \"id\"}], \"groupby\": [\"p_diff\"]}], \"width\": 400}, {\"data\": {\"name\": \"data-29aba0052327c4585632ecaf2e23ba91\"}, \"mark\": {\"type\": \"circle\", \"size\": 100}, \"encoding\": {\"color\": {\"value\": \"orange\"}, \"x\": {\"field\": \"p_diff\", \"type\": \"ordinal\"}, \"y\": {\"axis\": null, \"field\": \"id\", \"sort\": \"descending\", \"type\": \"ordinal\"}}, \"transform\": [{\"window\": [{\"op\": \"rank\", \"field\": \"\", \"as\": \"id\"}], \"groupby\": [\"p_diff\"]}]}], \"$schema\": \"https://vega.github.io/schema/vega-lite/v4.17.0.json\", \"datasets\": {\"data-741f887dc031521a4ef32ad1f84b13da\": [{\"p_diff\": 0.067}, {\"p_diff\": -0.013}, {\"p_diff\": -0.04}, {\"p_diff\": 0.067}, {\"p_diff\": -0.013}, {\"p_diff\": 0.067}, {\"p_diff\": 0.093}, {\"p_diff\": -0.147}, {\"p_diff\": 0.093}, {\"p_diff\": 0.12}, {\"p_diff\": 0.067}, {\"p_diff\": 0.093}, {\"p_diff\": 0.253}, {\"p_diff\": -0.093}, {\"p_diff\": 0.093}, {\"p_diff\": -0.067}, {\"p_diff\": 0.04}, {\"p_diff\": -0.253}, {\"p_diff\": -0.04}, {\"p_diff\": -0.04}, {\"p_diff\": -0.013}, {\"p_diff\": -0.013}, {\"p_diff\": -0.067}, {\"p_diff\": -0.067}, {\"p_diff\": 0.04}, {\"p_diff\": 0.147}, {\"p_diff\": -0.04}, {\"p_diff\": -0.04}, {\"p_diff\": -0.013}, {\"p_diff\": -0.013}, {\"p_diff\": -0.04}, {\"p_diff\": 0.067}, {\"p_diff\": 0.067}, {\"p_diff\": 0.04}, {\"p_diff\": 0.013}, {\"p_diff\": -0.12}, {\"p_diff\": 0.04}, {\"p_diff\": -0.013}, {\"p_diff\": -0.013}, {\"p_diff\": 0.013}, {\"p_diff\": -0.093}, {\"p_diff\": -0.013}, {\"p_diff\": 0.04}, {\"p_diff\": -0.093}, {\"p_diff\": 0.173}, {\"p_diff\": -0.093}, {\"p_diff\": 0.12}, {\"p_diff\": -0.067}, {\"p_diff\": 0.013}, {\"p_diff\": -0.013}, {\"p_diff\": -0.013}, {\"p_diff\": -0.013}, {\"p_diff\": -0.04}, {\"p_diff\": -0.093}, {\"p_diff\": -0.12}, {\"p_diff\": -0.093}, {\"p_diff\": -0.093}, {\"p_diff\": 0.04}, {\"p_diff\": -0.067}, {\"p_diff\": -0.067}, {\"p_diff\": 0.147}, {\"p_diff\": -0.067}, {\"p_diff\": 0.04}, {\"p_diff\": -0.04}, {\"p_diff\": 0.013}, {\"p_diff\": 0.067}, {\"p_diff\": -0.093}, {\"p_diff\": 0.04}, {\"p_diff\": -0.04}, {\"p_diff\": -0.093}, {\"p_diff\": -0.04}, {\"p_diff\": -0.12}, {\"p_diff\": -0.04}, {\"p_diff\": -0.04}, {\"p_diff\": -0.067}, {\"p_diff\": 0.04}, {\"p_diff\": 0.067}, {\"p_diff\": 0.013}, {\"p_diff\": -0.067}, {\"p_diff\": 0.013}, {\"p_diff\": 0.067}, {\"p_diff\": -0.013}, {\"p_diff\": -0.093}, {\"p_diff\": 0.013}, {\"p_diff\": 0.04}, {\"p_diff\": 0.2}, {\"p_diff\": 0.013}, {\"p_diff\": 0.093}, {\"p_diff\": 0.013}, {\"p_diff\": 0.013}, {\"p_diff\": -0.093}, {\"p_diff\": -0.013}, {\"p_diff\": 0.013}, {\"p_diff\": -0.067}, {\"p_diff\": 0.067}, {\"p_diff\": 0.067}, {\"p_diff\": 0.147}, {\"p_diff\": 0.093}, {\"p_diff\": -0.173}, {\"p_diff\": -0.2}, {\"p_diff\": 0.04}, {\"p_diff\": 0.12}, {\"p_diff\": -0.013}, {\"p_diff\": -0.147}, {\"p_diff\": 0.12}, {\"p_diff\": -0.173}, {\"p_diff\": -0.013}, {\"p_diff\": 0.04}, {\"p_diff\": 0.173}, {\"p_diff\": -0.093}, {\"p_diff\": -0.013}, {\"p_diff\": -0.04}, {\"p_diff\": -0.04}, {\"p_diff\": -0.093}, {\"p_diff\": 0.013}, {\"p_diff\": 0.067}, {\"p_diff\": -0.173}, {\"p_diff\": -0.067}, {\"p_diff\": -0.067}, {\"p_diff\": -0.093}, {\"p_diff\": 0.04}, {\"p_diff\": 0.013}, {\"p_diff\": 0.013}, {\"p_diff\": 0.093}, {\"p_diff\": -0.253}, {\"p_diff\": 0.013}, {\"p_diff\": 0.12}, {\"p_diff\": -0.12}, {\"p_diff\": -0.147}, {\"p_diff\": 0.04}, {\"p_diff\": 0.04}, {\"p_diff\": 0.013}, {\"p_diff\": -0.04}, {\"p_diff\": 0.173}, {\"p_diff\": -0.013}, {\"p_diff\": -0.04}, {\"p_diff\": -0.067}, {\"p_diff\": 0.013}, {\"p_diff\": 0.04}, {\"p_diff\": -0.013}, {\"p_diff\": 0.093}, {\"p_diff\": -0.067}, {\"p_diff\": -0.013}, {\"p_diff\": 0.04}, {\"p_diff\": -0.013}, {\"p_diff\": -0.067}, {\"p_diff\": 0.04}, {\"p_diff\": 0.013}, {\"p_diff\": -0.093}, {\"p_diff\": -0.093}, {\"p_diff\": 0.067}, {\"p_diff\": -0.013}, {\"p_diff\": 0.013}, {\"p_diff\": 0.12}, {\"p_diff\": 0.093}, {\"p_diff\": 0.013}, {\"p_diff\": -0.093}, {\"p_diff\": 0.013}, {\"p_diff\": -0.093}, {\"p_diff\": 0.067}, {\"p_diff\": -0.067}, {\"p_diff\": -0.013}, {\"p_diff\": 0.12}, {\"p_diff\": 0.093}, {\"p_diff\": -0.067}, {\"p_diff\": 0.04}, {\"p_diff\": 0.013}, {\"p_diff\": 0.04}, {\"p_diff\": -0.147}, {\"p_diff\": -0.04}, {\"p_diff\": -0.253}, {\"p_diff\": 0.12}, {\"p_diff\": 0.147}, {\"p_diff\": 0.013}, {\"p_diff\": -0.04}, {\"p_diff\": 0.04}, {\"p_diff\": 0.013}, {\"p_diff\": 0.147}, {\"p_diff\": -0.093}, {\"p_diff\": 0.013}, {\"p_diff\": 0.013}, {\"p_diff\": -0.093}, {\"p_diff\": -0.173}, {\"p_diff\": 0.04}, {\"p_diff\": -0.12}, {\"p_diff\": 0.04}, {\"p_diff\": 0.067}, {\"p_diff\": -0.013}, {\"p_diff\": -0.067}, {\"p_diff\": 0.093}, {\"p_diff\": 0.227}, {\"p_diff\": -0.093}, {\"p_diff\": 0.147}, {\"p_diff\": -0.04}, {\"p_diff\": -0.04}, {\"p_diff\": -0.013}, {\"p_diff\": -0.013}, {\"p_diff\": -0.12}, {\"p_diff\": 0.013}, {\"p_diff\": -0.067}, {\"p_diff\": -0.04}, {\"p_diff\": -0.147}, {\"p_diff\": 0.12}, {\"p_diff\": -0.013}, {\"p_diff\": -0.067}, {\"p_diff\": -0.04}, {\"p_diff\": -0.04}, {\"p_diff\": 0.093}, {\"p_diff\": -0.093}, {\"p_diff\": -0.067}, {\"p_diff\": 0.04}, {\"p_diff\": -0.013}, {\"p_diff\": -0.12}, {\"p_diff\": -0.067}, {\"p_diff\": 0.04}, {\"p_diff\": -0.067}, {\"p_diff\": 0.147}, {\"p_diff\": 0.04}, {\"p_diff\": 0.013}, {\"p_diff\": 0.04}, {\"p_diff\": -0.04}, {\"p_diff\": -0.04}, {\"p_diff\": -0.013}, {\"p_diff\": 0.04}, {\"p_diff\": 0.013}, {\"p_diff\": 0.147}, {\"p_diff\": 0.147}, {\"p_diff\": 0.013}, {\"p_diff\": 0.013}, {\"p_diff\": -0.013}, {\"p_diff\": -0.093}, {\"p_diff\": 0.067}, {\"p_diff\": -0.12}, {\"p_diff\": -0.013}, {\"p_diff\": -0.04}, {\"p_diff\": -0.067}, {\"p_diff\": 0.147}, {\"p_diff\": -0.093}, {\"p_diff\": 0.04}, {\"p_diff\": 0.013}, {\"p_diff\": 0.04}, {\"p_diff\": 0.04}, {\"p_diff\": -0.067}, {\"p_diff\": -0.04}, {\"p_diff\": 0.067}, {\"p_diff\": 0.04}, {\"p_diff\": 0.04}, {\"p_diff\": -0.093}, {\"p_diff\": 0.013}, {\"p_diff\": 0.067}, {\"p_diff\": 0.067}, {\"p_diff\": 0.093}, {\"p_diff\": 0.093}, {\"p_diff\": -0.093}, {\"p_diff\": -0.067}, {\"p_diff\": 0.04}, {\"p_diff\": 0.093}, {\"p_diff\": -0.04}, {\"p_diff\": 0.04}, {\"p_diff\": -0.013}, {\"p_diff\": 0.067}, {\"p_diff\": -0.093}, {\"p_diff\": 0.04}, {\"p_diff\": 0.04}, {\"p_diff\": -0.147}, {\"p_diff\": -0.093}, {\"p_diff\": 0.093}, {\"p_diff\": 0.013}, {\"p_diff\": -0.04}, {\"p_diff\": 0.013}, {\"p_diff\": -0.067}, {\"p_diff\": -0.093}, {\"p_diff\": 0.067}, {\"p_diff\": -0.067}, {\"p_diff\": 0.013}, {\"p_diff\": -0.147}, {\"p_diff\": -0.04}, {\"p_diff\": -0.04}, {\"p_diff\": -0.067}, {\"p_diff\": 0.013}, {\"p_diff\": -0.12}, {\"p_diff\": 0.12}, {\"p_diff\": 0.12}, {\"p_diff\": -0.093}, {\"p_diff\": 0.067}, {\"p_diff\": -0.013}, {\"p_diff\": -0.013}, {\"p_diff\": -0.12}, {\"p_diff\": -0.093}, {\"p_diff\": 0.067}, {\"p_diff\": -0.04}, {\"p_diff\": -0.013}, {\"p_diff\": 0.04}, {\"p_diff\": 0.067}, {\"p_diff\": 0.013}, {\"p_diff\": -0.013}, {\"p_diff\": -0.013}, {\"p_diff\": 0.04}, {\"p_diff\": -0.013}, {\"p_diff\": -0.093}, {\"p_diff\": 0.013}, {\"p_diff\": -0.04}, {\"p_diff\": 0.2}, {\"p_diff\": 0.04}, {\"p_diff\": 0.013}, {\"p_diff\": -0.067}, {\"p_diff\": 0.093}, {\"p_diff\": -0.013}, {\"p_diff\": 0.04}, {\"p_diff\": 0.067}, {\"p_diff\": -0.067}, {\"p_diff\": -0.013}, {\"p_diff\": 0.067}, {\"p_diff\": -0.227}, {\"p_diff\": -0.04}, {\"p_diff\": -0.013}, {\"p_diff\": 0.093}, {\"p_diff\": 0.12}, {\"p_diff\": -0.04}, {\"p_diff\": 0.067}, {\"p_diff\": -0.067}, {\"p_diff\": -0.013}, {\"p_diff\": -0.013}, {\"p_diff\": -0.04}, {\"p_diff\": -0.067}, {\"p_diff\": 0.04}, {\"p_diff\": 0.013}, {\"p_diff\": 0.147}, {\"p_diff\": 0.067}, {\"p_diff\": -0.013}, {\"p_diff\": -0.04}, {\"p_diff\": -0.04}, {\"p_diff\": -0.12}, {\"p_diff\": -0.067}, {\"p_diff\": 0.093}, {\"p_diff\": -0.013}, {\"p_diff\": 0.013}, {\"p_diff\": 0.013}, {\"p_diff\": -0.093}, {\"p_diff\": 0.04}, {\"p_diff\": 0.013}, {\"p_diff\": 0.04}, {\"p_diff\": 0.04}, {\"p_diff\": 0.12}, {\"p_diff\": -0.093}, {\"p_diff\": 0.04}, {\"p_diff\": 0.093}, {\"p_diff\": 0.12}, {\"p_diff\": -0.013}, {\"p_diff\": 0.013}, {\"p_diff\": -0.013}, {\"p_diff\": -0.013}, {\"p_diff\": -0.067}, {\"p_diff\": -0.013}, {\"p_diff\": 0.04}, {\"p_diff\": 0.067}, {\"p_diff\": -0.147}, {\"p_diff\": 0.12}, {\"p_diff\": -0.12}, {\"p_diff\": 0.093}, {\"p_diff\": 0.093}, {\"p_diff\": 0.147}, {\"p_diff\": -0.013}, {\"p_diff\": 0.013}, {\"p_diff\": 0.067}, {\"p_diff\": 0.067}, {\"p_diff\": -0.067}, {\"p_diff\": -0.093}, {\"p_diff\": 0.093}, {\"p_diff\": -0.12}, {\"p_diff\": 0.013}, {\"p_diff\": 0.173}, {\"p_diff\": -0.067}, {\"p_diff\": -0.067}, {\"p_diff\": -0.013}, {\"p_diff\": 0.04}, {\"p_diff\": 0.013}, {\"p_diff\": -0.013}, {\"p_diff\": -0.093}, {\"p_diff\": -0.013}, {\"p_diff\": -0.04}, {\"p_diff\": 0.013}, {\"p_diff\": 0.04}, {\"p_diff\": -0.013}, {\"p_diff\": 0.093}, {\"p_diff\": -0.04}, {\"p_diff\": -0.013}, {\"p_diff\": 0.013}, {\"p_diff\": 0.093}, {\"p_diff\": 0.147}, {\"p_diff\": -0.04}, {\"p_diff\": -0.013}, {\"p_diff\": -0.013}, {\"p_diff\": 0.067}, {\"p_diff\": -0.067}, {\"p_diff\": 0.013}, {\"p_diff\": 0.04}, {\"p_diff\": -0.067}, {\"p_diff\": -0.12}, {\"p_diff\": 0.093}, {\"p_diff\": -0.067}, {\"p_diff\": 0.067}, {\"p_diff\": 0.147}, {\"p_diff\": -0.04}, {\"p_diff\": -0.013}, {\"p_diff\": 0.093}, {\"p_diff\": 0.04}, {\"p_diff\": -0.2}, {\"p_diff\": -0.013}, {\"p_diff\": -0.013}, {\"p_diff\": -0.04}, {\"p_diff\": 0.013}, {\"p_diff\": 0.067}, {\"p_diff\": 0.013}, {\"p_diff\": -0.12}, {\"p_diff\": -0.013}, {\"p_diff\": 0.013}, {\"p_diff\": -0.013}, {\"p_diff\": 0.067}, {\"p_diff\": -0.013}, {\"p_diff\": 0.013}, {\"p_diff\": -0.04}, {\"p_diff\": 0.12}, {\"p_diff\": 0.04}, {\"p_diff\": -0.04}, {\"p_diff\": -0.173}, {\"p_diff\": 0.067}, {\"p_diff\": 0.093}, {\"p_diff\": 0.013}, {\"p_diff\": 0.067}, {\"p_diff\": 0.013}, {\"p_diff\": 0.093}, {\"p_diff\": 0.067}, {\"p_diff\": -0.067}, {\"p_diff\": -0.067}, {\"p_diff\": -0.173}, {\"p_diff\": 0.04}, {\"p_diff\": -0.12}, {\"p_diff\": 0.013}, {\"p_diff\": -0.04}, {\"p_diff\": 0.013}, {\"p_diff\": -0.013}, {\"p_diff\": 0.067}, {\"p_diff\": 0.147}, {\"p_diff\": 0.067}, {\"p_diff\": 0.067}, {\"p_diff\": 0.093}, {\"p_diff\": -0.147}, {\"p_diff\": 0.067}, {\"p_diff\": 0.067}, {\"p_diff\": -0.067}, {\"p_diff\": 0.12}, {\"p_diff\": -0.2}, {\"p_diff\": -0.013}, {\"p_diff\": -0.013}, {\"p_diff\": 0.04}, {\"p_diff\": -0.013}, {\"p_diff\": -0.2}, {\"p_diff\": 0.12}, {\"p_diff\": 0.093}, {\"p_diff\": -0.12}, {\"p_diff\": -0.013}, {\"p_diff\": -0.12}, {\"p_diff\": 0.067}, {\"p_diff\": 0.013}, {\"p_diff\": 0.12}, {\"p_diff\": -0.013}, {\"p_diff\": 0.12}, {\"p_diff\": -0.04}, {\"p_diff\": -0.04}, {\"p_diff\": -0.04}, {\"p_diff\": -0.067}, {\"p_diff\": -0.12}, {\"p_diff\": -0.093}, {\"p_diff\": 0.013}, {\"p_diff\": -0.067}, {\"p_diff\": 0.067}, {\"p_diff\": 0.067}, {\"p_diff\": -0.067}, {\"p_diff\": -0.04}, {\"p_diff\": -0.067}, {\"p_diff\": 0.04}, {\"p_diff\": -0.04}, {\"p_diff\": -0.067}, {\"p_diff\": -0.013}, {\"p_diff\": -0.013}, {\"p_diff\": -0.04}, {\"p_diff\": -0.173}, {\"p_diff\": 0.013}, {\"p_diff\": 0.04}, {\"p_diff\": -0.147}, {\"p_diff\": 0.067}, {\"p_diff\": 0.013}, {\"p_diff\": 0.013}, {\"p_diff\": -0.067}, {\"p_diff\": -0.093}, {\"p_diff\": -0.04}, {\"p_diff\": 0.067}, {\"p_diff\": -0.12}, {\"p_diff\": 0.013}, {\"p_diff\": -0.04}, {\"p_diff\": 0.067}, {\"p_diff\": 0.093}, {\"p_diff\": -0.067}, {\"p_diff\": 0.067}, {\"p_diff\": 0.067}, {\"p_diff\": -0.013}, {\"p_diff\": 0.013}, {\"p_diff\": -0.04}, {\"p_diff\": 0.093}, {\"p_diff\": -0.067}, {\"p_diff\": 0.067}, {\"p_diff\": 0.093}, {\"p_diff\": 0.013}, {\"p_diff\": -0.013}, {\"p_diff\": 0.013}, {\"p_diff\": 0.093}, {\"p_diff\": 0.067}, {\"p_diff\": -0.067}, {\"p_diff\": 0.04}, {\"p_diff\": -0.04}, {\"p_diff\": 0.147}, {\"p_diff\": -0.013}, {\"p_diff\": 0.013}, {\"p_diff\": -0.04}, {\"p_diff\": 0.04}, {\"p_diff\": 0.013}, {\"p_diff\": 0.013}, {\"p_diff\": 0.04}, {\"p_diff\": -0.093}, {\"p_diff\": -0.12}, {\"p_diff\": 0.013}, {\"p_diff\": 0.067}, {\"p_diff\": 0.013}, {\"p_diff\": 0.067}, {\"p_diff\": -0.12}, {\"p_diff\": -0.04}, {\"p_diff\": -0.093}, {\"p_diff\": -0.04}, {\"p_diff\": -0.04}, {\"p_diff\": 0.04}, {\"p_diff\": 0.12}, {\"p_diff\": -0.04}, {\"p_diff\": 0.067}, {\"p_diff\": 0.04}, {\"p_diff\": 0.013}, {\"p_diff\": 0.067}, {\"p_diff\": -0.013}, {\"p_diff\": -0.04}, {\"p_diff\": -0.067}, {\"p_diff\": 0.013}, {\"p_diff\": -0.04}, {\"p_diff\": -0.04}, {\"p_diff\": -0.013}, {\"p_diff\": -0.147}, {\"p_diff\": -0.04}, {\"p_diff\": 0.04}, {\"p_diff\": 0.04}, {\"p_diff\": 0.12}, {\"p_diff\": 0.013}, {\"p_diff\": -0.12}, {\"p_diff\": -0.04}, {\"p_diff\": 0.147}, {\"p_diff\": -0.067}, {\"p_diff\": -0.04}, {\"p_diff\": 0.04}, {\"p_diff\": -0.013}, {\"p_diff\": -0.013}, {\"p_diff\": 0.093}, {\"p_diff\": 0.12}, {\"p_diff\": 0.013}, {\"p_diff\": 0.147}, {\"p_diff\": -0.04}, {\"p_diff\": 0.04}, {\"p_diff\": -0.093}, {\"p_diff\": -0.147}, {\"p_diff\": -0.067}, {\"p_diff\": 0.04}, {\"p_diff\": -0.013}, {\"p_diff\": 0.04}, {\"p_diff\": 0.013}, {\"p_diff\": -0.2}, {\"p_diff\": 0.04}, {\"p_diff\": -0.013}, {\"p_diff\": 0.093}, {\"p_diff\": -0.067}, {\"p_diff\": 0.04}, {\"p_diff\": -0.04}, {\"p_diff\": -0.173}, {\"p_diff\": -0.093}, {\"p_diff\": -0.093}, {\"p_diff\": -0.04}, {\"p_diff\": 0.013}, {\"p_diff\": -0.093}, {\"p_diff\": 0.093}, {\"p_diff\": 0.093}, {\"p_diff\": 0.013}, {\"p_diff\": -0.04}, {\"p_diff\": 0.093}, {\"p_diff\": -0.067}, {\"p_diff\": -0.04}, {\"p_diff\": -0.013}, {\"p_diff\": 0.147}, {\"p_diff\": 0.093}, {\"p_diff\": -0.013}, {\"p_diff\": 0.147}, {\"p_diff\": 0.013}, {\"p_diff\": 0.04}, {\"p_diff\": -0.04}, {\"p_diff\": -0.04}, {\"p_diff\": -0.12}, {\"p_diff\": -0.013}, {\"p_diff\": 0.04}, {\"p_diff\": -0.013}, {\"p_diff\": -0.04}, {\"p_diff\": -0.147}, {\"p_diff\": -0.067}, {\"p_diff\": -0.093}, {\"p_diff\": 0.067}, {\"p_diff\": -0.04}, {\"p_diff\": -0.093}, {\"p_diff\": 0.12}, {\"p_diff\": -0.013}, {\"p_diff\": -0.04}, {\"p_diff\": -0.04}, {\"p_diff\": -0.093}, {\"p_diff\": -0.093}, {\"p_diff\": -0.12}, {\"p_diff\": 0.067}, {\"p_diff\": 0.04}, {\"p_diff\": -0.093}, {\"p_diff\": -0.04}, {\"p_diff\": 0.093}, {\"p_diff\": 0.04}, {\"p_diff\": -0.013}, {\"p_diff\": -0.093}, {\"p_diff\": -0.093}, {\"p_diff\": -0.067}, {\"p_diff\": 0.04}, {\"p_diff\": -0.04}, {\"p_diff\": -0.067}, {\"p_diff\": -0.013}, {\"p_diff\": -0.067}, {\"p_diff\": 0.147}, {\"p_diff\": 0.12}, {\"p_diff\": -0.013}, {\"p_diff\": 0.04}, {\"p_diff\": -0.093}, {\"p_diff\": 0.093}, {\"p_diff\": -0.013}, {\"p_diff\": 0.04}, {\"p_diff\": -0.093}, {\"p_diff\": -0.067}, {\"p_diff\": -0.013}, {\"p_diff\": 0.013}, {\"p_diff\": -0.013}, {\"p_diff\": 0.013}, {\"p_diff\": 0.013}, {\"p_diff\": 0.04}, {\"p_diff\": -0.067}, {\"p_diff\": -0.147}, {\"p_diff\": 0.067}, {\"p_diff\": 0.067}, {\"p_diff\": 0.12}, {\"p_diff\": 0.013}, {\"p_diff\": 0.067}, {\"p_diff\": -0.093}, {\"p_diff\": 0.067}, {\"p_diff\": 0.067}, {\"p_diff\": -0.093}, {\"p_diff\": 0.067}, {\"p_diff\": 0.093}, {\"p_diff\": -0.04}, {\"p_diff\": -0.04}, {\"p_diff\": -0.2}, {\"p_diff\": -0.013}, {\"p_diff\": -0.093}, {\"p_diff\": -0.147}, {\"p_diff\": -0.093}, {\"p_diff\": 0.013}, {\"p_diff\": -0.013}, {\"p_diff\": 0.12}, {\"p_diff\": 0.147}, {\"p_diff\": 0.04}, {\"p_diff\": 0.013}, {\"p_diff\": 0.12}, {\"p_diff\": -0.067}, {\"p_diff\": 0.04}, {\"p_diff\": 0.093}, {\"p_diff\": 0.013}, {\"p_diff\": -0.067}, {\"p_diff\": -0.013}, {\"p_diff\": -0.12}, {\"p_diff\": -0.173}, {\"p_diff\": 0.227}, {\"p_diff\": -0.013}, {\"p_diff\": -0.013}, {\"p_diff\": -0.12}, {\"p_diff\": -0.093}, {\"p_diff\": -0.04}, {\"p_diff\": 0.147}, {\"p_diff\": 0.04}, {\"p_diff\": 0.013}, {\"p_diff\": 0.227}, {\"p_diff\": -0.067}, {\"p_diff\": 0.12}, {\"p_diff\": -0.04}, {\"p_diff\": -0.093}, {\"p_diff\": -0.013}, {\"p_diff\": -0.093}, {\"p_diff\": -0.067}, {\"p_diff\": -0.013}, {\"p_diff\": -0.067}, {\"p_diff\": -0.067}, {\"p_diff\": 0.04}, {\"p_diff\": 0.013}, {\"p_diff\": -0.013}, {\"p_diff\": -0.067}, {\"p_diff\": 0.04}, {\"p_diff\": 0.04}, {\"p_diff\": 0.04}, {\"p_diff\": 0.04}, {\"p_diff\": -0.013}, {\"p_diff\": 0.04}, {\"p_diff\": 0.013}, {\"p_diff\": 0.013}, {\"p_diff\": -0.013}, {\"p_diff\": 0.093}, {\"p_diff\": -0.04}, {\"p_diff\": -0.013}, {\"p_diff\": -0.173}, {\"p_diff\": -0.04}, {\"p_diff\": 0.147}, {\"p_diff\": -0.067}, {\"p_diff\": -0.04}, {\"p_diff\": 0.013}, {\"p_diff\": -0.147}, {\"p_diff\": -0.04}, {\"p_diff\": -0.04}, {\"p_diff\": -0.067}, {\"p_diff\": 0.067}, {\"p_diff\": -0.173}, {\"p_diff\": 0.04}, {\"p_diff\": 0.013}, {\"p_diff\": 0.12}, {\"p_diff\": -0.013}, {\"p_diff\": -0.093}, {\"p_diff\": 0.12}, {\"p_diff\": -0.04}, {\"p_diff\": 0.28}, {\"p_diff\": 0.093}, {\"p_diff\": 0.227}, {\"p_diff\": 0.12}, {\"p_diff\": -0.093}, {\"p_diff\": 0.04}, {\"p_diff\": -0.013}, {\"p_diff\": 0.067}, {\"p_diff\": -0.093}, {\"p_diff\": -0.093}, {\"p_diff\": -0.147}, {\"p_diff\": -0.093}, {\"p_diff\": 0.04}, {\"p_diff\": 0.067}, {\"p_diff\": -0.067}, {\"p_diff\": -0.04}, {\"p_diff\": -0.173}, {\"p_diff\": -0.013}, {\"p_diff\": -0.067}, {\"p_diff\": 0.093}, {\"p_diff\": -0.067}, {\"p_diff\": -0.173}, {\"p_diff\": -0.04}, {\"p_diff\": 0.093}, {\"p_diff\": 0.12}, {\"p_diff\": -0.12}, {\"p_diff\": -0.067}, {\"p_diff\": 0.013}, {\"p_diff\": -0.093}, {\"p_diff\": 0.067}, {\"p_diff\": -0.067}, {\"p_diff\": 0.04}, {\"p_diff\": 0.013}, {\"p_diff\": -0.04}, {\"p_diff\": 0.04}, {\"p_diff\": 0.093}, {\"p_diff\": 0.12}, {\"p_diff\": 0.173}, {\"p_diff\": 0.013}, {\"p_diff\": 0.067}, {\"p_diff\": 0.067}, {\"p_diff\": -0.093}, {\"p_diff\": -0.067}, {\"p_diff\": -0.067}, {\"p_diff\": 0.013}, {\"p_diff\": -0.12}, {\"p_diff\": 0.147}, {\"p_diff\": 0.067}, {\"p_diff\": 0.093}, {\"p_diff\": 0.2}, {\"p_diff\": -0.067}, {\"p_diff\": -0.147}, {\"p_diff\": 0.093}, {\"p_diff\": -0.04}, {\"p_diff\": 0.067}, {\"p_diff\": 0.04}, {\"p_diff\": -0.067}, {\"p_diff\": 0.067}, {\"p_diff\": -0.067}, {\"p_diff\": 0.093}, {\"p_diff\": -0.067}, {\"p_diff\": -0.12}, {\"p_diff\": 0.013}, {\"p_diff\": 0.013}, {\"p_diff\": -0.093}, {\"p_diff\": -0.067}, {\"p_diff\": 0.013}, {\"p_diff\": 0.067}, {\"p_diff\": -0.147}, {\"p_diff\": -0.12}, {\"p_diff\": 0.013}, {\"p_diff\": 0.013}, {\"p_diff\": -0.093}, {\"p_diff\": -0.013}, {\"p_diff\": -0.013}, {\"p_diff\": -0.013}, {\"p_diff\": 0.013}, {\"p_diff\": -0.12}, {\"p_diff\": -0.013}, {\"p_diff\": -0.013}, {\"p_diff\": 0.2}, {\"p_diff\": 0.04}, {\"p_diff\": -0.04}, {\"p_diff\": 0.093}, {\"p_diff\": -0.147}, {\"p_diff\": 0.013}, {\"p_diff\": -0.013}, {\"p_diff\": 0.067}, {\"p_diff\": 0.147}, {\"p_diff\": 0.013}, {\"p_diff\": 0.093}, {\"p_diff\": -0.04}, {\"p_diff\": 0.067}, {\"p_diff\": -0.067}, {\"p_diff\": 0.04}, {\"p_diff\": -0.067}, {\"p_diff\": -0.093}, {\"p_diff\": 0.173}, {\"p_diff\": -0.04}, {\"p_diff\": 0.067}, {\"p_diff\": -0.093}, {\"p_diff\": 0.04}, {\"p_diff\": -0.067}, {\"p_diff\": 0.12}, {\"p_diff\": 0.04}, {\"p_diff\": -0.013}, {\"p_diff\": 0.147}, {\"p_diff\": 0.013}, {\"p_diff\": -0.093}, {\"p_diff\": -0.067}, {\"p_diff\": 0.067}, {\"p_diff\": 0.12}, {\"p_diff\": -0.173}, {\"p_diff\": -0.013}, {\"p_diff\": 0.093}, {\"p_diff\": 0.013}, {\"p_diff\": 0.013}, {\"p_diff\": -0.013}, {\"p_diff\": -0.12}, {\"p_diff\": 0.147}, {\"p_diff\": -0.04}, {\"p_diff\": 0.093}, {\"p_diff\": 0.013}, {\"p_diff\": -0.013}, {\"p_diff\": -0.067}, {\"p_diff\": -0.013}, {\"p_diff\": -0.12}, {\"p_diff\": -0.04}, {\"p_diff\": -0.067}, {\"p_diff\": -0.013}, {\"p_diff\": 0.173}, {\"p_diff\": 0.093}, {\"p_diff\": -0.013}, {\"p_diff\": 0.067}, {\"p_diff\": -0.04}, {\"p_diff\": -0.013}, {\"p_diff\": -0.093}, {\"p_diff\": 0.013}, {\"p_diff\": -0.067}, {\"p_diff\": 0.013}, {\"p_diff\": 0.04}, {\"p_diff\": 0.067}, {\"p_diff\": 0.067}, {\"p_diff\": -0.04}, {\"p_diff\": 0.093}, {\"p_diff\": 0.067}, {\"p_diff\": 0.067}, {\"p_diff\": -0.013}, {\"p_diff\": 0.147}, {\"p_diff\": -0.04}, {\"p_diff\": -0.067}, {\"p_diff\": 0.067}, {\"p_diff\": 0.013}, {\"p_diff\": -0.093}, {\"p_diff\": 0.093}, {\"p_diff\": 0.013}, {\"p_diff\": -0.013}, {\"p_diff\": -0.013}, {\"p_diff\": 0.013}, {\"p_diff\": 0.067}, {\"p_diff\": -0.013}, {\"p_diff\": -0.013}, {\"p_diff\": -0.12}, {\"p_diff\": 0.04}, {\"p_diff\": -0.093}, {\"p_diff\": 0.013}, {\"p_diff\": -0.147}, {\"p_diff\": -0.093}, {\"p_diff\": 0.04}, {\"p_diff\": -0.147}, {\"p_diff\": -0.067}, {\"p_diff\": 0.04}, {\"p_diff\": -0.147}, {\"p_diff\": 0.093}, {\"p_diff\": -0.227}, {\"p_diff\": 0.093}, {\"p_diff\": -0.04}, {\"p_diff\": -0.093}, {\"p_diff\": -0.12}, {\"p_diff\": 0.067}, {\"p_diff\": -0.067}, {\"p_diff\": 0.013}, {\"p_diff\": 0.013}, {\"p_diff\": 0.067}, {\"p_diff\": -0.067}, {\"p_diff\": 0.093}, {\"p_diff\": 0.12}, {\"p_diff\": -0.093}, {\"p_diff\": -0.12}, {\"p_diff\": -0.04}, {\"p_diff\": 0.12}, {\"p_diff\": -0.067}, {\"p_diff\": 0.067}, {\"p_diff\": -0.093}, {\"p_diff\": 0.013}, {\"p_diff\": 0.067}, {\"p_diff\": 0.12}, {\"p_diff\": -0.04}, {\"p_diff\": -0.013}, {\"p_diff\": 0.067}, {\"p_diff\": 0.013}, {\"p_diff\": -0.04}, {\"p_diff\": 0.013}, {\"p_diff\": -0.227}, {\"p_diff\": -0.147}, {\"p_diff\": 0.013}, {\"p_diff\": 0.013}, {\"p_diff\": -0.067}, {\"p_diff\": -0.04}, {\"p_diff\": -0.12}, {\"p_diff\": -0.04}, {\"p_diff\": -0.04}, {\"p_diff\": 0.093}, {\"p_diff\": -0.067}, {\"p_diff\": 0.013}, {\"p_diff\": 0.093}, {\"p_diff\": 0.04}, {\"p_diff\": -0.04}, {\"p_diff\": -0.067}, {\"p_diff\": -0.067}, {\"p_diff\": 0.12}, {\"p_diff\": 0.04}, {\"p_diff\": -0.04}, {\"p_diff\": -0.04}, {\"p_diff\": -0.04}, {\"p_diff\": 0.013}, {\"p_diff\": 0.04}, {\"p_diff\": -0.067}, {\"p_diff\": -0.12}, {\"p_diff\": -0.04}, {\"p_diff\": -0.013}, {\"p_diff\": -0.067}, {\"p_diff\": -0.04}, {\"p_diff\": 0.04}, {\"p_diff\": 0.013}, {\"p_diff\": 0.147}, {\"p_diff\": -0.067}, {\"p_diff\": -0.04}, {\"p_diff\": 0.013}, {\"p_diff\": 0.04}, {\"p_diff\": -0.013}, {\"p_diff\": 0.04}, {\"p_diff\": -0.013}, {\"p_diff\": 0.04}, {\"p_diff\": -0.12}, {\"p_diff\": 0.04}, {\"p_diff\": -0.04}, {\"p_diff\": -0.067}, {\"p_diff\": -0.04}, {\"p_diff\": -0.067}, {\"p_diff\": 0.093}], \"data-29aba0052327c4585632ecaf2e23ba91\": [{\"p_diff\": 0.2}]}}, {\"mode\": \"vega-lite\"});\n",
       "</script>"
      ],
      "text/plain": [
       "alt.LayerChart(...)"
      ]
     },
     "execution_count": 91,
     "metadata": {},
     "output_type": "execute_result"
    }
   ],
   "source": [
    "chart1 = alt.Chart(df_random).mark_circle(size=100).transform_window(\n",
    "    id='rank()',\n",
    "    groupby=['p_diff']\n",
    ").encode(\n",
    "    alt.X('p_diff:O', title='Differences across 1000 shuffles'),\n",
    "    alt.Y('id:O',\n",
    "          axis=None,\n",
    "          sort='descending')\n",
    ").properties(height=300, width=400)\n",
    "\n",
    "\n",
    "chart2 = alt.Chart(df_p_diff_ob).mark_circle(size=100).transform_window(\n",
    "    id='rank()',\n",
    "    groupby=['p_diff']\n",
    ").encode(\n",
    "    alt.X('p_diff:O'),\n",
    "    alt.Y('id:O',\n",
    "          axis=None,\n",
    "          sort='descending'),\n",
    "    color=alt.value('orange')\n",
    ")\n",
    "\n",
    "chart1 + chart2 \n"
   ]
  },
  {
   "cell_type": "code",
   "execution_count": 92,
   "metadata": {},
   "outputs": [
    {
     "data": {
      "text/html": [
       "\n",
       "<div id=\"altair-viz-eb89ea0d4e06497aa33381245de6a4eb\"></div>\n",
       "<script type=\"text/javascript\">\n",
       "  var VEGA_DEBUG = (typeof VEGA_DEBUG == \"undefined\") ? {} : VEGA_DEBUG;\n",
       "  (function(spec, embedOpt){\n",
       "    let outputDiv = document.currentScript.previousElementSibling;\n",
       "    if (outputDiv.id !== \"altair-viz-eb89ea0d4e06497aa33381245de6a4eb\") {\n",
       "      outputDiv = document.getElementById(\"altair-viz-eb89ea0d4e06497aa33381245de6a4eb\");\n",
       "    }\n",
       "    const paths = {\n",
       "      \"vega\": \"https://cdn.jsdelivr.net/npm//vega@5?noext\",\n",
       "      \"vega-lib\": \"https://cdn.jsdelivr.net/npm//vega-lib?noext\",\n",
       "      \"vega-lite\": \"https://cdn.jsdelivr.net/npm//vega-lite@4.17.0?noext\",\n",
       "      \"vega-embed\": \"https://cdn.jsdelivr.net/npm//vega-embed@6?noext\",\n",
       "    };\n",
       "\n",
       "    function maybeLoadScript(lib, version) {\n",
       "      var key = `${lib.replace(\"-\", \"\")}_version`;\n",
       "      return (VEGA_DEBUG[key] == version) ?\n",
       "        Promise.resolve(paths[lib]) :\n",
       "        new Promise(function(resolve, reject) {\n",
       "          var s = document.createElement('script');\n",
       "          document.getElementsByTagName(\"head\")[0].appendChild(s);\n",
       "          s.async = true;\n",
       "          s.onload = () => {\n",
       "            VEGA_DEBUG[key] = version;\n",
       "            return resolve(paths[lib]);\n",
       "          };\n",
       "          s.onerror = () => reject(`Error loading script: ${paths[lib]}`);\n",
       "          s.src = paths[lib];\n",
       "        });\n",
       "    }\n",
       "\n",
       "    function showError(err) {\n",
       "      outputDiv.innerHTML = `<div class=\"error\" style=\"color:red;\">${err}</div>`;\n",
       "      throw err;\n",
       "    }\n",
       "\n",
       "    function displayChart(vegaEmbed) {\n",
       "      vegaEmbed(outputDiv, spec, embedOpt)\n",
       "        .catch(err => showError(`Javascript Error: ${err.message}<br>This usually means there's a typo in your chart specification. See the javascript console for the full traceback.`));\n",
       "    }\n",
       "\n",
       "    if(typeof define === \"function\" && define.amd) {\n",
       "      requirejs.config({paths});\n",
       "      require([\"vega-embed\"], displayChart, err => showError(`Error loading script: ${err.message}`));\n",
       "    } else {\n",
       "      maybeLoadScript(\"vega\", \"5\")\n",
       "        .then(() => maybeLoadScript(\"vega-lite\", \"4.17.0\"))\n",
       "        .then(() => maybeLoadScript(\"vega-embed\", \"6\"))\n",
       "        .catch(showError)\n",
       "        .then(() => displayChart(vegaEmbed));\n",
       "    }\n",
       "  })({\"config\": {\"view\": {\"continuousWidth\": 400, \"continuousHeight\": 300}}, \"data\": {\"name\": \"data-741f887dc031521a4ef32ad1f84b13da\"}, \"mark\": \"bar\", \"encoding\": {\"x\": {\"bin\": true, \"field\": \"p_diff\", \"title\": \"Differences across 100 shuffles\", \"type\": \"quantitative\"}, \"y\": {\"aggregate\": \"count\", \"type\": \"quantitative\"}}, \"height\": 300, \"width\": 400, \"$schema\": \"https://vega.github.io/schema/vega-lite/v4.17.0.json\", \"datasets\": {\"data-741f887dc031521a4ef32ad1f84b13da\": [{\"p_diff\": 0.067}, {\"p_diff\": -0.013}, {\"p_diff\": -0.04}, {\"p_diff\": 0.067}, {\"p_diff\": -0.013}, {\"p_diff\": 0.067}, {\"p_diff\": 0.093}, {\"p_diff\": -0.147}, {\"p_diff\": 0.093}, {\"p_diff\": 0.12}, {\"p_diff\": 0.067}, {\"p_diff\": 0.093}, {\"p_diff\": 0.253}, {\"p_diff\": -0.093}, {\"p_diff\": 0.093}, {\"p_diff\": -0.067}, {\"p_diff\": 0.04}, {\"p_diff\": -0.253}, {\"p_diff\": -0.04}, {\"p_diff\": -0.04}, {\"p_diff\": -0.013}, {\"p_diff\": -0.013}, {\"p_diff\": -0.067}, {\"p_diff\": -0.067}, {\"p_diff\": 0.04}, {\"p_diff\": 0.147}, {\"p_diff\": -0.04}, {\"p_diff\": -0.04}, {\"p_diff\": -0.013}, {\"p_diff\": -0.013}, {\"p_diff\": -0.04}, {\"p_diff\": 0.067}, {\"p_diff\": 0.067}, {\"p_diff\": 0.04}, {\"p_diff\": 0.013}, {\"p_diff\": -0.12}, {\"p_diff\": 0.04}, {\"p_diff\": -0.013}, {\"p_diff\": -0.013}, {\"p_diff\": 0.013}, {\"p_diff\": -0.093}, {\"p_diff\": -0.013}, {\"p_diff\": 0.04}, {\"p_diff\": -0.093}, {\"p_diff\": 0.173}, {\"p_diff\": -0.093}, {\"p_diff\": 0.12}, {\"p_diff\": -0.067}, {\"p_diff\": 0.013}, {\"p_diff\": -0.013}, {\"p_diff\": -0.013}, {\"p_diff\": -0.013}, {\"p_diff\": -0.04}, {\"p_diff\": -0.093}, {\"p_diff\": -0.12}, {\"p_diff\": -0.093}, {\"p_diff\": -0.093}, {\"p_diff\": 0.04}, {\"p_diff\": -0.067}, {\"p_diff\": -0.067}, {\"p_diff\": 0.147}, {\"p_diff\": -0.067}, {\"p_diff\": 0.04}, {\"p_diff\": -0.04}, {\"p_diff\": 0.013}, {\"p_diff\": 0.067}, {\"p_diff\": -0.093}, {\"p_diff\": 0.04}, {\"p_diff\": -0.04}, {\"p_diff\": -0.093}, {\"p_diff\": -0.04}, {\"p_diff\": -0.12}, {\"p_diff\": -0.04}, {\"p_diff\": -0.04}, {\"p_diff\": -0.067}, {\"p_diff\": 0.04}, {\"p_diff\": 0.067}, {\"p_diff\": 0.013}, {\"p_diff\": -0.067}, {\"p_diff\": 0.013}, {\"p_diff\": 0.067}, {\"p_diff\": -0.013}, {\"p_diff\": -0.093}, {\"p_diff\": 0.013}, {\"p_diff\": 0.04}, {\"p_diff\": 0.2}, {\"p_diff\": 0.013}, {\"p_diff\": 0.093}, {\"p_diff\": 0.013}, {\"p_diff\": 0.013}, {\"p_diff\": -0.093}, {\"p_diff\": -0.013}, {\"p_diff\": 0.013}, {\"p_diff\": -0.067}, {\"p_diff\": 0.067}, {\"p_diff\": 0.067}, {\"p_diff\": 0.147}, {\"p_diff\": 0.093}, {\"p_diff\": -0.173}, {\"p_diff\": -0.2}, {\"p_diff\": 0.04}, {\"p_diff\": 0.12}, {\"p_diff\": -0.013}, {\"p_diff\": -0.147}, {\"p_diff\": 0.12}, {\"p_diff\": -0.173}, {\"p_diff\": -0.013}, {\"p_diff\": 0.04}, {\"p_diff\": 0.173}, {\"p_diff\": -0.093}, {\"p_diff\": -0.013}, {\"p_diff\": -0.04}, {\"p_diff\": -0.04}, {\"p_diff\": -0.093}, {\"p_diff\": 0.013}, {\"p_diff\": 0.067}, {\"p_diff\": -0.173}, {\"p_diff\": -0.067}, {\"p_diff\": -0.067}, {\"p_diff\": -0.093}, {\"p_diff\": 0.04}, {\"p_diff\": 0.013}, {\"p_diff\": 0.013}, {\"p_diff\": 0.093}, {\"p_diff\": -0.253}, {\"p_diff\": 0.013}, {\"p_diff\": 0.12}, {\"p_diff\": -0.12}, {\"p_diff\": -0.147}, {\"p_diff\": 0.04}, {\"p_diff\": 0.04}, {\"p_diff\": 0.013}, {\"p_diff\": -0.04}, {\"p_diff\": 0.173}, {\"p_diff\": -0.013}, {\"p_diff\": -0.04}, {\"p_diff\": -0.067}, {\"p_diff\": 0.013}, {\"p_diff\": 0.04}, {\"p_diff\": -0.013}, {\"p_diff\": 0.093}, {\"p_diff\": -0.067}, {\"p_diff\": -0.013}, {\"p_diff\": 0.04}, {\"p_diff\": -0.013}, {\"p_diff\": -0.067}, {\"p_diff\": 0.04}, {\"p_diff\": 0.013}, {\"p_diff\": -0.093}, {\"p_diff\": -0.093}, {\"p_diff\": 0.067}, {\"p_diff\": -0.013}, {\"p_diff\": 0.013}, {\"p_diff\": 0.12}, {\"p_diff\": 0.093}, {\"p_diff\": 0.013}, {\"p_diff\": -0.093}, {\"p_diff\": 0.013}, {\"p_diff\": -0.093}, {\"p_diff\": 0.067}, {\"p_diff\": -0.067}, {\"p_diff\": -0.013}, {\"p_diff\": 0.12}, {\"p_diff\": 0.093}, {\"p_diff\": -0.067}, {\"p_diff\": 0.04}, {\"p_diff\": 0.013}, {\"p_diff\": 0.04}, {\"p_diff\": -0.147}, {\"p_diff\": -0.04}, {\"p_diff\": -0.253}, {\"p_diff\": 0.12}, {\"p_diff\": 0.147}, {\"p_diff\": 0.013}, {\"p_diff\": -0.04}, {\"p_diff\": 0.04}, {\"p_diff\": 0.013}, {\"p_diff\": 0.147}, {\"p_diff\": -0.093}, {\"p_diff\": 0.013}, {\"p_diff\": 0.013}, {\"p_diff\": -0.093}, {\"p_diff\": -0.173}, {\"p_diff\": 0.04}, {\"p_diff\": -0.12}, {\"p_diff\": 0.04}, {\"p_diff\": 0.067}, {\"p_diff\": -0.013}, {\"p_diff\": -0.067}, {\"p_diff\": 0.093}, {\"p_diff\": 0.227}, {\"p_diff\": -0.093}, {\"p_diff\": 0.147}, {\"p_diff\": -0.04}, {\"p_diff\": -0.04}, {\"p_diff\": -0.013}, {\"p_diff\": -0.013}, {\"p_diff\": -0.12}, {\"p_diff\": 0.013}, {\"p_diff\": -0.067}, {\"p_diff\": -0.04}, {\"p_diff\": -0.147}, {\"p_diff\": 0.12}, {\"p_diff\": -0.013}, {\"p_diff\": -0.067}, {\"p_diff\": -0.04}, {\"p_diff\": -0.04}, {\"p_diff\": 0.093}, {\"p_diff\": -0.093}, {\"p_diff\": -0.067}, {\"p_diff\": 0.04}, {\"p_diff\": -0.013}, {\"p_diff\": -0.12}, {\"p_diff\": -0.067}, {\"p_diff\": 0.04}, {\"p_diff\": -0.067}, {\"p_diff\": 0.147}, {\"p_diff\": 0.04}, {\"p_diff\": 0.013}, {\"p_diff\": 0.04}, {\"p_diff\": -0.04}, {\"p_diff\": -0.04}, {\"p_diff\": -0.013}, {\"p_diff\": 0.04}, {\"p_diff\": 0.013}, {\"p_diff\": 0.147}, {\"p_diff\": 0.147}, {\"p_diff\": 0.013}, {\"p_diff\": 0.013}, {\"p_diff\": -0.013}, {\"p_diff\": -0.093}, {\"p_diff\": 0.067}, {\"p_diff\": -0.12}, {\"p_diff\": -0.013}, {\"p_diff\": -0.04}, {\"p_diff\": -0.067}, {\"p_diff\": 0.147}, {\"p_diff\": -0.093}, {\"p_diff\": 0.04}, {\"p_diff\": 0.013}, {\"p_diff\": 0.04}, {\"p_diff\": 0.04}, {\"p_diff\": -0.067}, {\"p_diff\": -0.04}, {\"p_diff\": 0.067}, {\"p_diff\": 0.04}, {\"p_diff\": 0.04}, {\"p_diff\": -0.093}, {\"p_diff\": 0.013}, {\"p_diff\": 0.067}, {\"p_diff\": 0.067}, {\"p_diff\": 0.093}, {\"p_diff\": 0.093}, {\"p_diff\": -0.093}, {\"p_diff\": -0.067}, {\"p_diff\": 0.04}, {\"p_diff\": 0.093}, {\"p_diff\": -0.04}, {\"p_diff\": 0.04}, {\"p_diff\": -0.013}, {\"p_diff\": 0.067}, {\"p_diff\": -0.093}, {\"p_diff\": 0.04}, {\"p_diff\": 0.04}, {\"p_diff\": -0.147}, {\"p_diff\": -0.093}, {\"p_diff\": 0.093}, {\"p_diff\": 0.013}, {\"p_diff\": -0.04}, {\"p_diff\": 0.013}, {\"p_diff\": -0.067}, {\"p_diff\": -0.093}, {\"p_diff\": 0.067}, {\"p_diff\": -0.067}, {\"p_diff\": 0.013}, {\"p_diff\": -0.147}, {\"p_diff\": -0.04}, {\"p_diff\": -0.04}, {\"p_diff\": -0.067}, {\"p_diff\": 0.013}, {\"p_diff\": -0.12}, {\"p_diff\": 0.12}, {\"p_diff\": 0.12}, {\"p_diff\": -0.093}, {\"p_diff\": 0.067}, {\"p_diff\": -0.013}, {\"p_diff\": -0.013}, {\"p_diff\": -0.12}, {\"p_diff\": -0.093}, {\"p_diff\": 0.067}, {\"p_diff\": -0.04}, {\"p_diff\": -0.013}, {\"p_diff\": 0.04}, {\"p_diff\": 0.067}, {\"p_diff\": 0.013}, {\"p_diff\": -0.013}, {\"p_diff\": -0.013}, {\"p_diff\": 0.04}, {\"p_diff\": -0.013}, {\"p_diff\": -0.093}, {\"p_diff\": 0.013}, {\"p_diff\": -0.04}, {\"p_diff\": 0.2}, {\"p_diff\": 0.04}, {\"p_diff\": 0.013}, {\"p_diff\": -0.067}, {\"p_diff\": 0.093}, {\"p_diff\": -0.013}, {\"p_diff\": 0.04}, {\"p_diff\": 0.067}, {\"p_diff\": -0.067}, {\"p_diff\": -0.013}, {\"p_diff\": 0.067}, {\"p_diff\": -0.227}, {\"p_diff\": -0.04}, {\"p_diff\": -0.013}, {\"p_diff\": 0.093}, {\"p_diff\": 0.12}, {\"p_diff\": -0.04}, {\"p_diff\": 0.067}, {\"p_diff\": -0.067}, {\"p_diff\": -0.013}, {\"p_diff\": -0.013}, {\"p_diff\": -0.04}, {\"p_diff\": -0.067}, {\"p_diff\": 0.04}, {\"p_diff\": 0.013}, {\"p_diff\": 0.147}, {\"p_diff\": 0.067}, {\"p_diff\": -0.013}, {\"p_diff\": -0.04}, {\"p_diff\": -0.04}, {\"p_diff\": -0.12}, {\"p_diff\": -0.067}, {\"p_diff\": 0.093}, {\"p_diff\": -0.013}, {\"p_diff\": 0.013}, {\"p_diff\": 0.013}, {\"p_diff\": -0.093}, {\"p_diff\": 0.04}, {\"p_diff\": 0.013}, {\"p_diff\": 0.04}, {\"p_diff\": 0.04}, {\"p_diff\": 0.12}, {\"p_diff\": -0.093}, {\"p_diff\": 0.04}, {\"p_diff\": 0.093}, {\"p_diff\": 0.12}, {\"p_diff\": -0.013}, {\"p_diff\": 0.013}, {\"p_diff\": -0.013}, {\"p_diff\": -0.013}, {\"p_diff\": -0.067}, {\"p_diff\": -0.013}, {\"p_diff\": 0.04}, {\"p_diff\": 0.067}, {\"p_diff\": -0.147}, {\"p_diff\": 0.12}, {\"p_diff\": -0.12}, {\"p_diff\": 0.093}, {\"p_diff\": 0.093}, {\"p_diff\": 0.147}, {\"p_diff\": -0.013}, {\"p_diff\": 0.013}, {\"p_diff\": 0.067}, {\"p_diff\": 0.067}, {\"p_diff\": -0.067}, {\"p_diff\": -0.093}, {\"p_diff\": 0.093}, {\"p_diff\": -0.12}, {\"p_diff\": 0.013}, {\"p_diff\": 0.173}, {\"p_diff\": -0.067}, {\"p_diff\": -0.067}, {\"p_diff\": -0.013}, {\"p_diff\": 0.04}, {\"p_diff\": 0.013}, {\"p_diff\": -0.013}, {\"p_diff\": -0.093}, {\"p_diff\": -0.013}, {\"p_diff\": -0.04}, {\"p_diff\": 0.013}, {\"p_diff\": 0.04}, {\"p_diff\": -0.013}, {\"p_diff\": 0.093}, {\"p_diff\": -0.04}, {\"p_diff\": -0.013}, {\"p_diff\": 0.013}, {\"p_diff\": 0.093}, {\"p_diff\": 0.147}, {\"p_diff\": -0.04}, {\"p_diff\": -0.013}, {\"p_diff\": -0.013}, {\"p_diff\": 0.067}, {\"p_diff\": -0.067}, {\"p_diff\": 0.013}, {\"p_diff\": 0.04}, {\"p_diff\": -0.067}, {\"p_diff\": -0.12}, {\"p_diff\": 0.093}, {\"p_diff\": -0.067}, {\"p_diff\": 0.067}, {\"p_diff\": 0.147}, {\"p_diff\": -0.04}, {\"p_diff\": -0.013}, {\"p_diff\": 0.093}, {\"p_diff\": 0.04}, {\"p_diff\": -0.2}, {\"p_diff\": -0.013}, {\"p_diff\": -0.013}, {\"p_diff\": -0.04}, {\"p_diff\": 0.013}, {\"p_diff\": 0.067}, {\"p_diff\": 0.013}, {\"p_diff\": -0.12}, {\"p_diff\": -0.013}, {\"p_diff\": 0.013}, {\"p_diff\": -0.013}, {\"p_diff\": 0.067}, {\"p_diff\": -0.013}, {\"p_diff\": 0.013}, {\"p_diff\": -0.04}, {\"p_diff\": 0.12}, {\"p_diff\": 0.04}, {\"p_diff\": -0.04}, {\"p_diff\": -0.173}, {\"p_diff\": 0.067}, {\"p_diff\": 0.093}, {\"p_diff\": 0.013}, {\"p_diff\": 0.067}, {\"p_diff\": 0.013}, {\"p_diff\": 0.093}, {\"p_diff\": 0.067}, {\"p_diff\": -0.067}, {\"p_diff\": -0.067}, {\"p_diff\": -0.173}, {\"p_diff\": 0.04}, {\"p_diff\": -0.12}, {\"p_diff\": 0.013}, {\"p_diff\": -0.04}, {\"p_diff\": 0.013}, {\"p_diff\": -0.013}, {\"p_diff\": 0.067}, {\"p_diff\": 0.147}, {\"p_diff\": 0.067}, {\"p_diff\": 0.067}, {\"p_diff\": 0.093}, {\"p_diff\": -0.147}, {\"p_diff\": 0.067}, {\"p_diff\": 0.067}, {\"p_diff\": -0.067}, {\"p_diff\": 0.12}, {\"p_diff\": -0.2}, {\"p_diff\": -0.013}, {\"p_diff\": -0.013}, {\"p_diff\": 0.04}, {\"p_diff\": -0.013}, {\"p_diff\": -0.2}, {\"p_diff\": 0.12}, {\"p_diff\": 0.093}, {\"p_diff\": -0.12}, {\"p_diff\": -0.013}, {\"p_diff\": -0.12}, {\"p_diff\": 0.067}, {\"p_diff\": 0.013}, {\"p_diff\": 0.12}, {\"p_diff\": -0.013}, {\"p_diff\": 0.12}, {\"p_diff\": -0.04}, {\"p_diff\": -0.04}, {\"p_diff\": -0.04}, {\"p_diff\": -0.067}, {\"p_diff\": -0.12}, {\"p_diff\": -0.093}, {\"p_diff\": 0.013}, {\"p_diff\": -0.067}, {\"p_diff\": 0.067}, {\"p_diff\": 0.067}, {\"p_diff\": -0.067}, {\"p_diff\": -0.04}, {\"p_diff\": -0.067}, {\"p_diff\": 0.04}, {\"p_diff\": -0.04}, {\"p_diff\": -0.067}, {\"p_diff\": -0.013}, {\"p_diff\": -0.013}, {\"p_diff\": -0.04}, {\"p_diff\": -0.173}, {\"p_diff\": 0.013}, {\"p_diff\": 0.04}, {\"p_diff\": -0.147}, {\"p_diff\": 0.067}, {\"p_diff\": 0.013}, {\"p_diff\": 0.013}, {\"p_diff\": -0.067}, {\"p_diff\": -0.093}, {\"p_diff\": -0.04}, {\"p_diff\": 0.067}, {\"p_diff\": -0.12}, {\"p_diff\": 0.013}, {\"p_diff\": -0.04}, {\"p_diff\": 0.067}, {\"p_diff\": 0.093}, {\"p_diff\": -0.067}, {\"p_diff\": 0.067}, {\"p_diff\": 0.067}, {\"p_diff\": -0.013}, {\"p_diff\": 0.013}, {\"p_diff\": -0.04}, {\"p_diff\": 0.093}, {\"p_diff\": -0.067}, {\"p_diff\": 0.067}, {\"p_diff\": 0.093}, {\"p_diff\": 0.013}, {\"p_diff\": -0.013}, {\"p_diff\": 0.013}, {\"p_diff\": 0.093}, {\"p_diff\": 0.067}, {\"p_diff\": -0.067}, {\"p_diff\": 0.04}, {\"p_diff\": -0.04}, {\"p_diff\": 0.147}, {\"p_diff\": -0.013}, {\"p_diff\": 0.013}, {\"p_diff\": -0.04}, {\"p_diff\": 0.04}, {\"p_diff\": 0.013}, {\"p_diff\": 0.013}, {\"p_diff\": 0.04}, {\"p_diff\": -0.093}, {\"p_diff\": -0.12}, {\"p_diff\": 0.013}, {\"p_diff\": 0.067}, {\"p_diff\": 0.013}, {\"p_diff\": 0.067}, {\"p_diff\": -0.12}, {\"p_diff\": -0.04}, {\"p_diff\": -0.093}, {\"p_diff\": -0.04}, {\"p_diff\": -0.04}, {\"p_diff\": 0.04}, {\"p_diff\": 0.12}, {\"p_diff\": -0.04}, {\"p_diff\": 0.067}, {\"p_diff\": 0.04}, {\"p_diff\": 0.013}, {\"p_diff\": 0.067}, {\"p_diff\": -0.013}, {\"p_diff\": -0.04}, {\"p_diff\": -0.067}, {\"p_diff\": 0.013}, {\"p_diff\": -0.04}, {\"p_diff\": -0.04}, {\"p_diff\": -0.013}, {\"p_diff\": -0.147}, {\"p_diff\": -0.04}, {\"p_diff\": 0.04}, {\"p_diff\": 0.04}, {\"p_diff\": 0.12}, {\"p_diff\": 0.013}, {\"p_diff\": -0.12}, {\"p_diff\": -0.04}, {\"p_diff\": 0.147}, {\"p_diff\": -0.067}, {\"p_diff\": -0.04}, {\"p_diff\": 0.04}, {\"p_diff\": -0.013}, {\"p_diff\": -0.013}, {\"p_diff\": 0.093}, {\"p_diff\": 0.12}, {\"p_diff\": 0.013}, {\"p_diff\": 0.147}, {\"p_diff\": -0.04}, {\"p_diff\": 0.04}, {\"p_diff\": -0.093}, {\"p_diff\": -0.147}, {\"p_diff\": -0.067}, {\"p_diff\": 0.04}, {\"p_diff\": -0.013}, {\"p_diff\": 0.04}, {\"p_diff\": 0.013}, {\"p_diff\": -0.2}, {\"p_diff\": 0.04}, {\"p_diff\": -0.013}, {\"p_diff\": 0.093}, {\"p_diff\": -0.067}, {\"p_diff\": 0.04}, {\"p_diff\": -0.04}, {\"p_diff\": -0.173}, {\"p_diff\": -0.093}, {\"p_diff\": -0.093}, {\"p_diff\": -0.04}, {\"p_diff\": 0.013}, {\"p_diff\": -0.093}, {\"p_diff\": 0.093}, {\"p_diff\": 0.093}, {\"p_diff\": 0.013}, {\"p_diff\": -0.04}, {\"p_diff\": 0.093}, {\"p_diff\": -0.067}, {\"p_diff\": -0.04}, {\"p_diff\": -0.013}, {\"p_diff\": 0.147}, {\"p_diff\": 0.093}, {\"p_diff\": -0.013}, {\"p_diff\": 0.147}, {\"p_diff\": 0.013}, {\"p_diff\": 0.04}, {\"p_diff\": -0.04}, {\"p_diff\": -0.04}, {\"p_diff\": -0.12}, {\"p_diff\": -0.013}, {\"p_diff\": 0.04}, {\"p_diff\": -0.013}, {\"p_diff\": -0.04}, {\"p_diff\": -0.147}, {\"p_diff\": -0.067}, {\"p_diff\": -0.093}, {\"p_diff\": 0.067}, {\"p_diff\": -0.04}, {\"p_diff\": -0.093}, {\"p_diff\": 0.12}, {\"p_diff\": -0.013}, {\"p_diff\": -0.04}, {\"p_diff\": -0.04}, {\"p_diff\": -0.093}, {\"p_diff\": -0.093}, {\"p_diff\": -0.12}, {\"p_diff\": 0.067}, {\"p_diff\": 0.04}, {\"p_diff\": -0.093}, {\"p_diff\": -0.04}, {\"p_diff\": 0.093}, {\"p_diff\": 0.04}, {\"p_diff\": -0.013}, {\"p_diff\": -0.093}, {\"p_diff\": -0.093}, {\"p_diff\": -0.067}, {\"p_diff\": 0.04}, {\"p_diff\": -0.04}, {\"p_diff\": -0.067}, {\"p_diff\": -0.013}, {\"p_diff\": -0.067}, {\"p_diff\": 0.147}, {\"p_diff\": 0.12}, {\"p_diff\": -0.013}, {\"p_diff\": 0.04}, {\"p_diff\": -0.093}, {\"p_diff\": 0.093}, {\"p_diff\": -0.013}, {\"p_diff\": 0.04}, {\"p_diff\": -0.093}, {\"p_diff\": -0.067}, {\"p_diff\": -0.013}, {\"p_diff\": 0.013}, {\"p_diff\": -0.013}, {\"p_diff\": 0.013}, {\"p_diff\": 0.013}, {\"p_diff\": 0.04}, {\"p_diff\": -0.067}, {\"p_diff\": -0.147}, {\"p_diff\": 0.067}, {\"p_diff\": 0.067}, {\"p_diff\": 0.12}, {\"p_diff\": 0.013}, {\"p_diff\": 0.067}, {\"p_diff\": -0.093}, {\"p_diff\": 0.067}, {\"p_diff\": 0.067}, {\"p_diff\": -0.093}, {\"p_diff\": 0.067}, {\"p_diff\": 0.093}, {\"p_diff\": -0.04}, {\"p_diff\": -0.04}, {\"p_diff\": -0.2}, {\"p_diff\": -0.013}, {\"p_diff\": -0.093}, {\"p_diff\": -0.147}, {\"p_diff\": -0.093}, {\"p_diff\": 0.013}, {\"p_diff\": -0.013}, {\"p_diff\": 0.12}, {\"p_diff\": 0.147}, {\"p_diff\": 0.04}, {\"p_diff\": 0.013}, {\"p_diff\": 0.12}, {\"p_diff\": -0.067}, {\"p_diff\": 0.04}, {\"p_diff\": 0.093}, {\"p_diff\": 0.013}, {\"p_diff\": -0.067}, {\"p_diff\": -0.013}, {\"p_diff\": -0.12}, {\"p_diff\": -0.173}, {\"p_diff\": 0.227}, {\"p_diff\": -0.013}, {\"p_diff\": -0.013}, {\"p_diff\": -0.12}, {\"p_diff\": -0.093}, {\"p_diff\": -0.04}, {\"p_diff\": 0.147}, {\"p_diff\": 0.04}, {\"p_diff\": 0.013}, {\"p_diff\": 0.227}, {\"p_diff\": -0.067}, {\"p_diff\": 0.12}, {\"p_diff\": -0.04}, {\"p_diff\": -0.093}, {\"p_diff\": -0.013}, {\"p_diff\": -0.093}, {\"p_diff\": -0.067}, {\"p_diff\": -0.013}, {\"p_diff\": -0.067}, {\"p_diff\": -0.067}, {\"p_diff\": 0.04}, {\"p_diff\": 0.013}, {\"p_diff\": -0.013}, {\"p_diff\": -0.067}, {\"p_diff\": 0.04}, {\"p_diff\": 0.04}, {\"p_diff\": 0.04}, {\"p_diff\": 0.04}, {\"p_diff\": -0.013}, {\"p_diff\": 0.04}, {\"p_diff\": 0.013}, {\"p_diff\": 0.013}, {\"p_diff\": -0.013}, {\"p_diff\": 0.093}, {\"p_diff\": -0.04}, {\"p_diff\": -0.013}, {\"p_diff\": -0.173}, {\"p_diff\": -0.04}, {\"p_diff\": 0.147}, {\"p_diff\": -0.067}, {\"p_diff\": -0.04}, {\"p_diff\": 0.013}, {\"p_diff\": -0.147}, {\"p_diff\": -0.04}, {\"p_diff\": -0.04}, {\"p_diff\": -0.067}, {\"p_diff\": 0.067}, {\"p_diff\": -0.173}, {\"p_diff\": 0.04}, {\"p_diff\": 0.013}, {\"p_diff\": 0.12}, {\"p_diff\": -0.013}, {\"p_diff\": -0.093}, {\"p_diff\": 0.12}, {\"p_diff\": -0.04}, {\"p_diff\": 0.28}, {\"p_diff\": 0.093}, {\"p_diff\": 0.227}, {\"p_diff\": 0.12}, {\"p_diff\": -0.093}, {\"p_diff\": 0.04}, {\"p_diff\": -0.013}, {\"p_diff\": 0.067}, {\"p_diff\": -0.093}, {\"p_diff\": -0.093}, {\"p_diff\": -0.147}, {\"p_diff\": -0.093}, {\"p_diff\": 0.04}, {\"p_diff\": 0.067}, {\"p_diff\": -0.067}, {\"p_diff\": -0.04}, {\"p_diff\": -0.173}, {\"p_diff\": -0.013}, {\"p_diff\": -0.067}, {\"p_diff\": 0.093}, {\"p_diff\": -0.067}, {\"p_diff\": -0.173}, {\"p_diff\": -0.04}, {\"p_diff\": 0.093}, {\"p_diff\": 0.12}, {\"p_diff\": -0.12}, {\"p_diff\": -0.067}, {\"p_diff\": 0.013}, {\"p_diff\": -0.093}, {\"p_diff\": 0.067}, {\"p_diff\": -0.067}, {\"p_diff\": 0.04}, {\"p_diff\": 0.013}, {\"p_diff\": -0.04}, {\"p_diff\": 0.04}, {\"p_diff\": 0.093}, {\"p_diff\": 0.12}, {\"p_diff\": 0.173}, {\"p_diff\": 0.013}, {\"p_diff\": 0.067}, {\"p_diff\": 0.067}, {\"p_diff\": -0.093}, {\"p_diff\": -0.067}, {\"p_diff\": -0.067}, {\"p_diff\": 0.013}, {\"p_diff\": -0.12}, {\"p_diff\": 0.147}, {\"p_diff\": 0.067}, {\"p_diff\": 0.093}, {\"p_diff\": 0.2}, {\"p_diff\": -0.067}, {\"p_diff\": -0.147}, {\"p_diff\": 0.093}, {\"p_diff\": -0.04}, {\"p_diff\": 0.067}, {\"p_diff\": 0.04}, {\"p_diff\": -0.067}, {\"p_diff\": 0.067}, {\"p_diff\": -0.067}, {\"p_diff\": 0.093}, {\"p_diff\": -0.067}, {\"p_diff\": -0.12}, {\"p_diff\": 0.013}, {\"p_diff\": 0.013}, {\"p_diff\": -0.093}, {\"p_diff\": -0.067}, {\"p_diff\": 0.013}, {\"p_diff\": 0.067}, {\"p_diff\": -0.147}, {\"p_diff\": -0.12}, {\"p_diff\": 0.013}, {\"p_diff\": 0.013}, {\"p_diff\": -0.093}, {\"p_diff\": -0.013}, {\"p_diff\": -0.013}, {\"p_diff\": -0.013}, {\"p_diff\": 0.013}, {\"p_diff\": -0.12}, {\"p_diff\": -0.013}, {\"p_diff\": -0.013}, {\"p_diff\": 0.2}, {\"p_diff\": 0.04}, {\"p_diff\": -0.04}, {\"p_diff\": 0.093}, {\"p_diff\": -0.147}, {\"p_diff\": 0.013}, {\"p_diff\": -0.013}, {\"p_diff\": 0.067}, {\"p_diff\": 0.147}, {\"p_diff\": 0.013}, {\"p_diff\": 0.093}, {\"p_diff\": -0.04}, {\"p_diff\": 0.067}, {\"p_diff\": -0.067}, {\"p_diff\": 0.04}, {\"p_diff\": -0.067}, {\"p_diff\": -0.093}, {\"p_diff\": 0.173}, {\"p_diff\": -0.04}, {\"p_diff\": 0.067}, {\"p_diff\": -0.093}, {\"p_diff\": 0.04}, {\"p_diff\": -0.067}, {\"p_diff\": 0.12}, {\"p_diff\": 0.04}, {\"p_diff\": -0.013}, {\"p_diff\": 0.147}, {\"p_diff\": 0.013}, {\"p_diff\": -0.093}, {\"p_diff\": -0.067}, {\"p_diff\": 0.067}, {\"p_diff\": 0.12}, {\"p_diff\": -0.173}, {\"p_diff\": -0.013}, {\"p_diff\": 0.093}, {\"p_diff\": 0.013}, {\"p_diff\": 0.013}, {\"p_diff\": -0.013}, {\"p_diff\": -0.12}, {\"p_diff\": 0.147}, {\"p_diff\": -0.04}, {\"p_diff\": 0.093}, {\"p_diff\": 0.013}, {\"p_diff\": -0.013}, {\"p_diff\": -0.067}, {\"p_diff\": -0.013}, {\"p_diff\": -0.12}, {\"p_diff\": -0.04}, {\"p_diff\": -0.067}, {\"p_diff\": -0.013}, {\"p_diff\": 0.173}, {\"p_diff\": 0.093}, {\"p_diff\": -0.013}, {\"p_diff\": 0.067}, {\"p_diff\": -0.04}, {\"p_diff\": -0.013}, {\"p_diff\": -0.093}, {\"p_diff\": 0.013}, {\"p_diff\": -0.067}, {\"p_diff\": 0.013}, {\"p_diff\": 0.04}, {\"p_diff\": 0.067}, {\"p_diff\": 0.067}, {\"p_diff\": -0.04}, {\"p_diff\": 0.093}, {\"p_diff\": 0.067}, {\"p_diff\": 0.067}, {\"p_diff\": -0.013}, {\"p_diff\": 0.147}, {\"p_diff\": -0.04}, {\"p_diff\": -0.067}, {\"p_diff\": 0.067}, {\"p_diff\": 0.013}, {\"p_diff\": -0.093}, {\"p_diff\": 0.093}, {\"p_diff\": 0.013}, {\"p_diff\": -0.013}, {\"p_diff\": -0.013}, {\"p_diff\": 0.013}, {\"p_diff\": 0.067}, {\"p_diff\": -0.013}, {\"p_diff\": -0.013}, {\"p_diff\": -0.12}, {\"p_diff\": 0.04}, {\"p_diff\": -0.093}, {\"p_diff\": 0.013}, {\"p_diff\": -0.147}, {\"p_diff\": -0.093}, {\"p_diff\": 0.04}, {\"p_diff\": -0.147}, {\"p_diff\": -0.067}, {\"p_diff\": 0.04}, {\"p_diff\": -0.147}, {\"p_diff\": 0.093}, {\"p_diff\": -0.227}, {\"p_diff\": 0.093}, {\"p_diff\": -0.04}, {\"p_diff\": -0.093}, {\"p_diff\": -0.12}, {\"p_diff\": 0.067}, {\"p_diff\": -0.067}, {\"p_diff\": 0.013}, {\"p_diff\": 0.013}, {\"p_diff\": 0.067}, {\"p_diff\": -0.067}, {\"p_diff\": 0.093}, {\"p_diff\": 0.12}, {\"p_diff\": -0.093}, {\"p_diff\": -0.12}, {\"p_diff\": -0.04}, {\"p_diff\": 0.12}, {\"p_diff\": -0.067}, {\"p_diff\": 0.067}, {\"p_diff\": -0.093}, {\"p_diff\": 0.013}, {\"p_diff\": 0.067}, {\"p_diff\": 0.12}, {\"p_diff\": -0.04}, {\"p_diff\": -0.013}, {\"p_diff\": 0.067}, {\"p_diff\": 0.013}, {\"p_diff\": -0.04}, {\"p_diff\": 0.013}, {\"p_diff\": -0.227}, {\"p_diff\": -0.147}, {\"p_diff\": 0.013}, {\"p_diff\": 0.013}, {\"p_diff\": -0.067}, {\"p_diff\": -0.04}, {\"p_diff\": -0.12}, {\"p_diff\": -0.04}, {\"p_diff\": -0.04}, {\"p_diff\": 0.093}, {\"p_diff\": -0.067}, {\"p_diff\": 0.013}, {\"p_diff\": 0.093}, {\"p_diff\": 0.04}, {\"p_diff\": -0.04}, {\"p_diff\": -0.067}, {\"p_diff\": -0.067}, {\"p_diff\": 0.12}, {\"p_diff\": 0.04}, {\"p_diff\": -0.04}, {\"p_diff\": -0.04}, {\"p_diff\": -0.04}, {\"p_diff\": 0.013}, {\"p_diff\": 0.04}, {\"p_diff\": -0.067}, {\"p_diff\": -0.12}, {\"p_diff\": -0.04}, {\"p_diff\": -0.013}, {\"p_diff\": -0.067}, {\"p_diff\": -0.04}, {\"p_diff\": 0.04}, {\"p_diff\": 0.013}, {\"p_diff\": 0.147}, {\"p_diff\": -0.067}, {\"p_diff\": -0.04}, {\"p_diff\": 0.013}, {\"p_diff\": 0.04}, {\"p_diff\": -0.013}, {\"p_diff\": 0.04}, {\"p_diff\": -0.013}, {\"p_diff\": 0.04}, {\"p_diff\": -0.12}, {\"p_diff\": 0.04}, {\"p_diff\": -0.04}, {\"p_diff\": -0.067}, {\"p_diff\": -0.04}, {\"p_diff\": -0.067}, {\"p_diff\": 0.093}]}}, {\"mode\": \"vega-lite\"});\n",
       "</script>"
      ],
      "text/plain": [
       "alt.Chart(...)"
      ]
     },
     "execution_count": 92,
     "metadata": {},
     "output_type": "execute_result"
    }
   ],
   "source": [
    "alt.Chart(df_random).mark_bar().encode(\n",
    "    alt.X('p_diff:Q', bin=True, title='Differences across 100 shuffles'),\n",
    "    alt.Y('count()')\n",
    ").properties(height=300, width=400)"
   ]
  },
  {
   "cell_type": "markdown",
   "metadata": {},
   "source": [
    "## Result"
   ]
  },
  {
   "cell_type": "code",
   "execution_count": 93,
   "metadata": {},
   "outputs": [
    {
     "data": {
      "text/plain": [
       "0.01"
      ]
     },
     "execution_count": 93,
     "metadata": {},
     "output_type": "execute_result"
    }
   ],
   "source": [
    "count_diff = df_random[df_random['p_diff'] >= p_diff_ob].count().p_diff\n",
    "\n",
    "p_value = count_diff/len(df_random)\n",
    "p_value"
   ]
  },
  {
   "cell_type": "markdown",
   "metadata": {},
   "source": [
    "- Under the null hypothesis (no treatment effect), we would observe a difference of at least +20% about 1% of the time."
   ]
  },
  {
   "cell_type": "markdown",
   "metadata": {},
   "source": [
    "That is really rare! Instead, we will conclude the data provide strong evidence there is a treatment effect: reminding students before a purchase that they could instead spend the money later on something else lowers the chance that they will continue with the purchase. Notice that we are able to make a causal statement for this study since the study is an experiment, although we do not know why the reminder induces a lower purchase rate."
   ]
  },
  {
   "cell_type": "markdown",
   "metadata": {},
   "source": [
    " ## p-value and statistical significance"
   ]
  },
  {
   "cell_type": "markdown",
   "metadata": {},
   "source": [
    "- H0: Null hypothesis. Reminding students that they can save money for later purchases will not have any impact on students’ spending decisions.\n",
    "\n",
    "- HA: Alternative hypothesis. Reminding students that they can save money for later purchases will reduce the chance they will continue with a purchase."
   ]
  },
  {
   "cell_type": "code",
   "execution_count": 94,
   "metadata": {},
   "outputs": [
    {
     "data": {
      "text/plain": [
       "0.01"
      ]
     },
     "execution_count": 94,
     "metadata": {},
     "output_type": "execute_result"
    }
   ],
   "source": [
    "p_value"
   ]
  },
  {
   "cell_type": "code",
   "execution_count": 95,
   "metadata": {},
   "outputs": [],
   "source": [
    "def significance(p_value):\n",
    "    if p_value <= 0.05:\n",
    "        return \"Reject Null Hypothesis\"\n",
    "    else:\n",
    "        return \"Accept Null Hypothesis\""
   ]
  },
  {
   "cell_type": "code",
   "execution_count": 96,
   "metadata": {},
   "outputs": [
    {
     "data": {
      "text/plain": [
       "'Reject Null Hypothesis'"
      ]
     },
     "execution_count": 96,
     "metadata": {},
     "output_type": "execute_result"
    }
   ],
   "source": [
    "significance(p_value)"
   ]
  }
 ],
 "metadata": {
  "celltoolbar": "Slideshow",
  "kernelspec": {
   "display_name": "Python 3.9.13 ('ds')",
   "language": "python",
   "name": "python3"
  },
  "language_info": {
   "codemirror_mode": {
    "name": "ipython",
    "version": 3
   },
   "file_extension": ".py",
   "mimetype": "text/x-python",
   "name": "python",
   "nbconvert_exporter": "python",
   "pygments_lexer": "ipython3",
   "version": "3.9.13"
  },
  "varInspector": {
   "cols": {
    "lenName": 16,
    "lenType": 16,
    "lenVar": 40
   },
   "kernels_config": {
    "python": {
     "delete_cmd_postfix": "",
     "delete_cmd_prefix": "del ",
     "library": "var_list.py",
     "varRefreshCmd": "print(var_dic_list())"
    },
    "r": {
     "delete_cmd_postfix": ") ",
     "delete_cmd_prefix": "rm(",
     "library": "var_list.r",
     "varRefreshCmd": "cat(var_dic_list()) "
    }
   },
   "types_to_exclude": [
    "module",
    "function",
    "builtin_function_or_method",
    "instance",
    "_Feature"
   ],
   "window_display": false
  },
  "vscode": {
   "interpreter": {
    "hash": "0de8387c967863cc622aba8b7ea5b466d4dfde089153d484429677aa77034389"
   }
  }
 },
 "nbformat": 4,
 "nbformat_minor": 2
}
