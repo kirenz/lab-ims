{
 "cells": [
  {
   "attachments": {},
   "cell_type": "markdown",
   "metadata": {
    "slideshow": {
     "slide_type": "slide"
    }
   },
   "source": [
    "# Case study: Opportunity cost"
   ]
  },
  {
   "attachments": {},
   "cell_type": "markdown",
   "metadata": {},
   "source": [
    "## Setup"
   ]
  },
  {
   "cell_type": "code",
   "execution_count": null,
   "metadata": {},
   "outputs": [],
   "source": [
    "# import pandas and altair\n",
    "\n",
    "alt.data_transformers.disable_max_rows()"
   ]
  },
  {
   "attachments": {},
   "cell_type": "markdown",
   "metadata": {
    "slideshow": {
     "slide_type": "slide"
    }
   },
   "source": [
    "## Import data"
   ]
  },
  {
   "cell_type": "code",
   "execution_count": null,
   "metadata": {
    "slideshow": {
     "slide_type": "fragment"
    }
   },
   "outputs": [],
   "source": [
    "# import data as df\n",
    "\n",
    "LINK = \"https://raw.githubusercontent.com/kirenz/datasets/master/opportunity_cost.csv\")\n"
   ]
  },
  {
   "cell_type": "code",
   "execution_count": null,
   "metadata": {},
   "outputs": [],
   "source": [
    "# inspect data"
   ]
  },
  {
   "cell_type": "code",
   "execution_count": null,
   "metadata": {},
   "outputs": [],
   "source": [
    "# count the number of people in control and treatment\n"
   ]
  },
  {
   "attachments": {},
   "cell_type": "markdown",
   "metadata": {},
   "source": [
    "## Observed data"
   ]
  },
  {
   "attachments": {},
   "cell_type": "markdown",
   "metadata": {
    "slideshow": {
     "slide_type": "slide"
    }
   },
   "source": [
    "## Crosstable"
   ]
  },
  {
   "cell_type": "code",
   "execution_count": null,
   "metadata": {
    "slideshow": {
     "slide_type": "fragment"
    }
   },
   "outputs": [],
   "source": [
    "# create a crosstable with group and decision, use margins\n",
    "___.___(___, ___,  ___=___)"
   ]
  },
  {
   "cell_type": "code",
   "execution_count": null,
   "metadata": {},
   "outputs": [],
   "source": [
    "# now create a crosstab with percentages and round the result to the second decimale\n"
   ]
  },
  {
   "attachments": {},
   "cell_type": "markdown",
   "metadata": {},
   "source": [
    "## Calculate difference"
   ]
  },
  {
   "cell_type": "code",
   "execution_count": null,
   "metadata": {},
   "outputs": [],
   "source": [
    "df_control = df[(df[\"___\"] == \"control\")]\n",
    "df_treatment = df[(df[\"___\"] == \"treatment\")]\n",
    "\n",
    "control_total = ___(df_control)\n",
    "treatment_total = ___(df_treatment)\n",
    "\n",
    "control_not_buy = len(df_control[df_control['decision']==\"___\"])\n",
    "treatment_not_buy = len(df_treatment[df_treatment['decision']==\"___\"])\n",
    "\n",
    "control_p = round(control_not_buy / ___, 3)\n",
    "treatment_p = round(treatment_not_buy / ___, 3)\n",
    "\n",
    "p_diff_ob = round(___ - ___, 3)\n",
    "\n",
    "df_p_diff_ob = pd.DataFrame({'p_diff': [p_diff_ob] })\n",
    "df_p_diff_ob"
   ]
  },
  {
   "attachments": {},
   "cell_type": "markdown",
   "metadata": {},
   "source": [
    "The proportion of students who chose not to buy the video was 20 percentage points higher in the treatment group than the control group."
   ]
  },
  {
   "attachments": {},
   "cell_type": "markdown",
   "metadata": {},
   "source": [
    "## Randomization"
   ]
  },
  {
   "attachments": {},
   "cell_type": "markdown",
   "metadata": {},
   "source": [
    "### Crosstable"
   ]
  },
  {
   "attachments": {},
   "cell_type": "markdown",
   "metadata": {},
   "source": [
    "Example with only one randomization:"
   ]
  },
  {
   "cell_type": "code",
   "execution_count": null,
   "metadata": {},
   "outputs": [],
   "source": [
    "# use the sample function\n",
    "df['group_random'] = df['group'].___(frac=1, random_state=0).reset_index(drop=True)"
   ]
  },
  {
   "attachments": {},
   "cell_type": "markdown",
   "metadata": {},
   "source": [
    "Since the randomization of files in this simulation is independent of the promotion decisions, any difference in promotion rates is due to chance."
   ]
  },
  {
   "cell_type": "code",
   "execution_count": null,
   "metadata": {},
   "outputs": [],
   "source": [
    "pd.crosstab(___, ___,  margins=True)"
   ]
  },
  {
   "attachments": {},
   "cell_type": "markdown",
   "metadata": {},
   "source": [
    "### Calculate difference"
   ]
  },
  {
   "attachments": {},
   "cell_type": "markdown",
   "metadata": {},
   "source": [
    "#### One randomization"
   ]
  },
  {
   "cell_type": "code",
   "execution_count": null,
   "metadata": {},
   "outputs": [],
   "source": [
    "df_control = df[(df[\"group_random\"] == \"control\")]\n",
    "df_treatment = df[(df[\"group_random\"] == \"treatment\")]\n",
    "\n",
    "control_total = len(df_control)\n",
    "treatment_total = len(df_treatment)\n",
    "\n",
    "control_not_buy = len(df_control[df_control['decision']==\"not buy video\"])\n",
    "treatment_not_buy = len(df_treatment[df_treatment['decision']==\"not buy video\"])\n",
    "\n",
    "control_p = round(control_not_buy / control_total, 3)\n",
    "treatment_p = round(treatment_not_buy / treatment_total, 3)\n",
    "\n",
    "p_diff = round(treatment_p - control_p, 3)\n",
    "\n",
    "p_diff"
   ]
  },
  {
   "attachments": {},
   "cell_type": "markdown",
   "metadata": {},
   "source": [
    "#### Multiple randomizations"
   ]
  },
  {
   "cell_type": "code",
   "execution_count": null,
   "metadata": {},
   "outputs": [],
   "source": [
    "# create an empty list\n",
    "random_difference = []\n",
    "\n",
    "# make 1000 randomizations and save results\n",
    "for i in range(0, 1000):\n",
    "\n",
    "    df['group_random'] = df['group'].sample(frac=1, random_state=i).reset_index(drop=True)\n",
    "\n",
    "    df_control = df[(df[\"group_random\"] == \"control\")]\n",
    "    df_treatment = df[(df[\"group_random\"] == \"treatment\")]\n",
    "\n",
    "    control_total = len(df_control)\n",
    "    treatment_total = len(df_treatment)\n",
    "\n",
    "    control_not_buy = len(df_control[df_control['decision']==\"not buy video\"])\n",
    "    treatment_not_buy = len(df_treatment[df_treatment['decision']==\"not buy video\"])\n",
    "\n",
    "    control_p = round(control_not_buy / control_total, 3)\n",
    "    treatment_p = round(treatment_not_buy / treatment_total, 3)\n",
    "\n",
    "    p_diff = round(treatment_p - control_p, 3)\n",
    "\n",
    "    random_difference.append(p_diff)"
   ]
  },
  {
   "cell_type": "code",
   "execution_count": null,
   "metadata": {},
   "outputs": [],
   "source": [
    "# create pandas dataframe\n",
    "df_random = pd.DataFrame({'p_diff': random_difference})\n"
   ]
  },
  {
   "cell_type": "code",
   "execution_count": null,
   "metadata": {},
   "outputs": [],
   "source": [
    "df_random.describe().T"
   ]
  },
  {
   "cell_type": "code",
   "execution_count": null,
   "metadata": {},
   "outputs": [],
   "source": [
    "chart1 = alt.Chart(df_random).mark_circle(size=100).transform_window(\n",
    "    id='rank()',\n",
    "    groupby=['p_diff']\n",
    ").encode(\n",
    "    alt.X('p_diff:O', title='Differences across 1000 shuffles'),\n",
    "    alt.Y('id:O',\n",
    "          axis=None,\n",
    "          sort='descending')\n",
    ").properties(height=300, width=400)\n",
    "\n",
    "\n",
    "chart2 = alt.Chart(df_p_diff_ob).mark_circle(size=100).transform_window(\n",
    "    id='rank()',\n",
    "    groupby=['p_diff']\n",
    ").encode(\n",
    "    alt.X('p_diff:O'),\n",
    "    alt.Y('id:O',\n",
    "          axis=None,\n",
    "          sort='descending'),\n",
    "    color=alt.value('orange')\n",
    ")\n",
    "\n",
    "chart1 + chart2 \n"
   ]
  },
  {
   "cell_type": "code",
   "execution_count": null,
   "metadata": {},
   "outputs": [],
   "source": [
    "alt.Chart(df_random).mark_bar().encode(\n",
    "    alt.X('p_diff:Q', bin=True, title='Differences across 100 shuffles'),\n",
    "    alt.Y('count()')\n",
    ").properties(height=300, width=400)"
   ]
  },
  {
   "attachments": {},
   "cell_type": "markdown",
   "metadata": {},
   "source": [
    "## Result"
   ]
  },
  {
   "cell_type": "code",
   "execution_count": null,
   "metadata": {},
   "outputs": [],
   "source": [
    "count_diff = df_random[df_random['___'] >= ___].count().p_diff\n",
    "\n",
    "p_value = count_diff/len(___)\n",
    "p_value"
   ]
  },
  {
   "attachments": {},
   "cell_type": "markdown",
   "metadata": {},
   "source": [
    "- Under the null hypothesis (no treatment effect), we would observe a difference of at least +20% about 1% of the time."
   ]
  },
  {
   "attachments": {},
   "cell_type": "markdown",
   "metadata": {},
   "source": [
    "That is really rare! Instead, we will conclude the data provide strong evidence there is a treatment effect: reminding students before a purchase that they could instead spend the money later on something else lowers the chance that they will continue with the purchase. Notice that we are able to make a causal statement for this study since the study is an experiment, although we do not know why the reminder induces a lower purchase rate."
   ]
  },
  {
   "attachments": {},
   "cell_type": "markdown",
   "metadata": {},
   "source": [
    " ## p-value and statistical significance"
   ]
  },
  {
   "attachments": {},
   "cell_type": "markdown",
   "metadata": {},
   "source": [
    "- H0: Null hypothesis. Reminding students that they can save money for later purchases will not have any impact on students’ spending decisions.\n",
    "\n",
    "- HA: Alternative hypothesis. Reminding students that they can save money for later purchases will reduce the chance they will continue with a purchase."
   ]
  },
  {
   "cell_type": "code",
   "execution_count": null,
   "metadata": {},
   "outputs": [],
   "source": [
    "p_value"
   ]
  },
  {
   "cell_type": "code",
   "execution_count": null,
   "metadata": {},
   "outputs": [],
   "source": [
    "def significance(p_value):\n",
    "    if p_value <= 0.05:\n",
    "        return \"___ Null Hypothesis\"\n",
    "    else:\n",
    "        return \"___ Null Hypothesis\""
   ]
  },
  {
   "cell_type": "code",
   "execution_count": null,
   "metadata": {},
   "outputs": [],
   "source": [
    "significance(p_value)"
   ]
  }
 ],
 "metadata": {
  "celltoolbar": "Slideshow",
  "kernelspec": {
   "display_name": "Python 3.9.13 ('ds')",
   "language": "python",
   "name": "python3"
  },
  "language_info": {
   "codemirror_mode": {
    "name": "ipython",
    "version": 3
   },
   "file_extension": ".py",
   "mimetype": "text/x-python",
   "name": "python",
   "nbconvert_exporter": "python",
   "pygments_lexer": "ipython3",
   "version": "3.9.13"
  },
  "varInspector": {
   "cols": {
    "lenName": 16,
    "lenType": 16,
    "lenVar": 40
   },
   "kernels_config": {
    "python": {
     "delete_cmd_postfix": "",
     "delete_cmd_prefix": "del ",
     "library": "var_list.py",
     "varRefreshCmd": "print(var_dic_list())"
    },
    "r": {
     "delete_cmd_postfix": ") ",
     "delete_cmd_prefix": "rm(",
     "library": "var_list.r",
     "varRefreshCmd": "cat(var_dic_list()) "
    }
   },
   "types_to_exclude": [
    "module",
    "function",
    "builtin_function_or_method",
    "instance",
    "_Feature"
   ],
   "window_display": false
  },
  "vscode": {
   "interpreter": {
    "hash": "0de8387c967863cc622aba8b7ea5b466d4dfde089153d484429677aa77034389"
   }
  }
 },
 "nbformat": 4,
 "nbformat_minor": 2
}
