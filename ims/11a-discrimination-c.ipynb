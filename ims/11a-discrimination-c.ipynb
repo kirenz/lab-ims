{
 "cells": [
  {
   "attachments": {},
   "cell_type": "markdown",
   "metadata": {
    "slideshow": {
     "slide_type": "slide"
    }
   },
   "source": [
    "# Case study: Gender discrimination"
   ]
  },
  {
   "attachments": {},
   "cell_type": "markdown",
   "metadata": {},
   "source": [
    "## Setup"
   ]
  },
  {
   "cell_type": "code",
   "execution_count": null,
   "metadata": {},
   "outputs": [],
   "source": [
    "import pandas as pd\n",
    "import altair as alt"
   ]
  },
  {
   "attachments": {},
   "cell_type": "markdown",
   "metadata": {
    "slideshow": {
     "slide_type": "slide"
    }
   },
   "source": [
    "## Import data"
   ]
  },
  {
   "cell_type": "code",
   "execution_count": null,
   "metadata": {
    "slideshow": {
     "slide_type": "fragment"
    }
   },
   "outputs": [],
   "source": [
    "df = pd.read_csv(\"https://raw.githubusercontent.com/kirenz/datasets/master/gender_discrimination.csv\")"
   ]
  },
  {
   "cell_type": "code",
   "execution_count": null,
   "metadata": {},
   "outputs": [],
   "source": [
    "# Take a look at the data"
   ]
  },
  {
   "cell_type": "code",
   "execution_count": null,
   "metadata": {},
   "outputs": [],
   "source": []
  },
  {
   "attachments": {},
   "cell_type": "markdown",
   "metadata": {},
   "source": [
    "## Observed data"
   ]
  },
  {
   "attachments": {},
   "cell_type": "markdown",
   "metadata": {
    "slideshow": {
     "slide_type": "slide"
    }
   },
   "source": [
    "### Crosstable"
   ]
  },
  {
   "cell_type": "code",
   "execution_count": null,
   "metadata": {
    "slideshow": {
     "slide_type": "fragment"
    }
   },
   "outputs": [],
   "source": [
    "pd.___(___, ___,  margins=True)"
   ]
  },
  {
   "attachments": {},
   "cell_type": "markdown",
   "metadata": {},
   "source": [
    "### Calculate difference"
   ]
  },
  {
   "cell_type": "code",
   "execution_count": null,
   "metadata": {},
   "outputs": [],
   "source": [
    "df_male = df[(df[\"gender\"] == \"___\")]\n",
    "df_female = df[(df[\"___\"] == \"female\")]"
   ]
  },
  {
   "cell_type": "code",
   "execution_count": null,
   "metadata": {},
   "outputs": [],
   "source": [
    "df_female"
   ]
  },
  {
   "cell_type": "code",
   "execution_count": null,
   "metadata": {},
   "outputs": [],
   "source": [
    "# Calculate lenght of dataframe (number of people)\n",
    "male_total = ___(df_male)\n",
    "female_total = len(___)\n"
   ]
  },
  {
   "cell_type": "code",
   "execution_count": null,
   "metadata": {},
   "outputs": [],
   "source": [
    "\n",
    "male_promoted = df_male['___'].value_counts().promoted\n",
    "female_promoted = df_female['decision'].___().promoted\n"
   ]
  },
  {
   "cell_type": "code",
   "execution_count": null,
   "metadata": {},
   "outputs": [],
   "source": [
    "\n",
    "male_p = round(male_promoted/___, 3)\n",
    "female_p = round(female_promoted/___, 3)\n"
   ]
  },
  {
   "cell_type": "code",
   "execution_count": null,
   "metadata": {},
   "outputs": [],
   "source": [
    "\n",
    "p_diff_ob = round(male_p - ___, 3)\n"
   ]
  },
  {
   "cell_type": "code",
   "execution_count": null,
   "metadata": {},
   "outputs": [],
   "source": [
    "\n",
    "df_p_diff_ob = pd.DataFrame({'p_diff': [___] })\n",
    "df_p_diff_ob"
   ]
  },
  {
   "attachments": {},
   "cell_type": "markdown",
   "metadata": {},
   "source": [
    "## Randomization"
   ]
  },
  {
   "attachments": {},
   "cell_type": "markdown",
   "metadata": {},
   "source": [
    "### Crosstable"
   ]
  },
  {
   "attachments": {},
   "cell_type": "markdown",
   "metadata": {},
   "source": [
    "Example with only one randomization:"
   ]
  },
  {
   "cell_type": "code",
   "execution_count": null,
   "metadata": {},
   "outputs": [],
   "source": [
    "df['gender_random'] = df['gender'].sample(frac=1, random_state=123).reset_index(drop=True)"
   ]
  },
  {
   "attachments": {},
   "cell_type": "markdown",
   "metadata": {},
   "source": [
    "Since the randomization of files in this simulation is independent of the promotion decisions, any difference in promotion rates is due to chance."
   ]
  },
  {
   "cell_type": "code",
   "execution_count": null,
   "metadata": {},
   "outputs": [],
   "source": [
    "pd.crosstab(df.gender_random, ___,  margins=True)"
   ]
  },
  {
   "attachments": {},
   "cell_type": "markdown",
   "metadata": {},
   "source": [
    "### Calculate difference"
   ]
  },
  {
   "attachments": {},
   "cell_type": "markdown",
   "metadata": {},
   "source": [
    "#### One randomization"
   ]
  },
  {
   "cell_type": "code",
   "execution_count": null,
   "metadata": {},
   "outputs": [],
   "source": [
    "df_male = df[(df[\"gender_random\"] == \"male\")]\n",
    "df_female = df[(df[\"gender_random\"] == \"female\")]\n",
    "\n",
    "male_total = len(df_male)\n",
    "female_total = len(df_female)\n",
    "\n",
    "male_promoted = len(df_male[df_male['decision']==\"promoted\"])\n",
    "female_promoted = len(df_female[df_female['decision']==\"promoted\"])\n",
    "\n",
    "male_p = round(male_promoted/male_total, 3)\n",
    "female_p = round(female_promoted/female_total, 3)\n",
    "\n",
    "p_diff = round(male_p - female_p, 3)\n",
    "p_diff"
   ]
  },
  {
   "attachments": {},
   "cell_type": "markdown",
   "metadata": {},
   "source": [
    "#### Multiple randomizations"
   ]
  },
  {
   "cell_type": "code",
   "execution_count": null,
   "metadata": {},
   "outputs": [],
   "source": [
    "# create an empty list\n",
    "random_difference = []\n",
    "\n",
    "# make 100 randomizations and save results\n",
    "for i in range(0, 100):\n",
    "\n",
    "    df['gender_random'] = df['gender'].sample(frac=1, random_state=i).reset_index(drop=True)\n",
    "\n",
    "    df_male = df[(df[\"gender_random\"] == \"male\")]\n",
    "    df_female = df[(df[\"gender_random\"] == \"female\")]\n",
    "\n",
    "    male_total = len(df_male)\n",
    "    female_total = len(df_female)\n",
    "\n",
    "    male_promoted = df_male['decision'].value_counts().promoted\n",
    "    female_promoted = df_female['decision'].value_counts().promoted\n",
    "\n",
    "    male_p = round(male_promoted/male_total, 3)\n",
    "    female_p = round(female_promoted/female_total, 3)\n",
    "\n",
    "    p_diff = round(male_p - female_p, 3)\n",
    "\n",
    "    random_difference.append(p_diff)"
   ]
  },
  {
   "cell_type": "code",
   "execution_count": null,
   "metadata": {},
   "outputs": [],
   "source": [
    "# create pandas dataframe\n",
    "df_random = pd.DataFrame({'p_diff': random_difference})\n"
   ]
  },
  {
   "cell_type": "code",
   "execution_count": null,
   "metadata": {},
   "outputs": [],
   "source": [
    "df_random.describe().T"
   ]
  },
  {
   "cell_type": "code",
   "execution_count": null,
   "metadata": {},
   "outputs": [],
   "source": [
    "chart1 = alt.Chart(df_random).mark_circle(size=100).transform_window(\n",
    "    id='rank()',\n",
    "    groupby=['p_diff']\n",
    ").encode(\n",
    "    alt.X('p_diff:O', title='Differences in promotion rates (male - female) across 100 shuffles'),\n",
    "    alt.Y('id:O',\n",
    "          axis=None,\n",
    "          sort='descending')\n",
    ").properties(height=300, width=400)\n",
    "\n",
    "\n",
    "chart2 = alt.Chart(df_p_diff_ob).mark_circle(size=100).transform_window(\n",
    "    id='rank()',\n",
    "    groupby=['p_diff']\n",
    ").encode(\n",
    "    alt.X('p_diff:O'),\n",
    "    alt.Y('id:O',\n",
    "          axis=None,\n",
    "          sort='descending'),\n",
    "    color=alt.value('orange')\n",
    ")\n",
    "\n",
    "chart1 + chart2 \n"
   ]
  },
  {
   "attachments": {},
   "cell_type": "markdown",
   "metadata": {},
   "source": [
    "## Result"
   ]
  },
  {
   "cell_type": "code",
   "execution_count": null,
   "metadata": {},
   "outputs": [],
   "source": [
    "count_diff = df_random[df_random['p_diff'] >= p_diff_ob].count().p_diff\n",
    "\n",
    "p_value = count_diff/len(df_random)\n",
    "p_value"
   ]
  },
  {
   "attachments": {},
   "cell_type": "markdown",
   "metadata": {},
   "source": [
    "\n",
    "For our simulation, we get a ___% probability of obtaining a sample where ≥ 29.2% more male candidates than female candidates get promoted under the null hypothesis, \n",
    "We conclude The data provide strong evidence of sex discrimination against female candidates \n",
    "We reject the null hypothesis in favor of the alternative"
   ]
  },
  {
   "attachments": {},
   "cell_type": "markdown",
   "metadata": {},
   "source": [
    " ## p-value and statistical significance"
   ]
  },
  {
   "attachments": {},
   "cell_type": "markdown",
   "metadata": {},
   "source": [
    "- H0: Sex has no effect on promotion decisions.\n",
    "\n",
    "- HA: Female candidates are discriminated against in promotion decisions."
   ]
  },
  {
   "attachments": {},
   "cell_type": "markdown",
   "metadata": {},
   "source": [
    "The 1-in-100 chance is what we call a p-value, which is a probability quantifying the strength of the evidence against the null hypothesis, given the observed data."
   ]
  },
  {
   "cell_type": "code",
   "execution_count": null,
   "metadata": {},
   "outputs": [],
   "source": [
    "p_value"
   ]
  },
  {
   "attachments": {},
   "cell_type": "markdown",
   "metadata": {},
   "source": [
    "When the p-value is small (usually less than 0.05), less than a previously set threshold, we say the results are statistically significant. This means the data provide such strong evidence against H0 that we reject the null hypothesis in favor of the alternative hypothesis. "
   ]
  },
  {
   "cell_type": "code",
   "execution_count": null,
   "metadata": {},
   "outputs": [],
   "source": [
    "def significance(p_value):\n",
    "    if p_value <= 0.05:\n",
    "        return \"Reject Null Hypothesis\"\n",
    "    else:\n",
    "        return \"Accept Null Hypothesis\""
   ]
  },
  {
   "cell_type": "code",
   "execution_count": null,
   "metadata": {},
   "outputs": [],
   "source": [
    "significance(p_value)"
   ]
  }
 ],
 "metadata": {
  "celltoolbar": "Slideshow",
  "kernelspec": {
   "display_name": "Python 3.9.13 ('ds')",
   "language": "python",
   "name": "python3"
  },
  "language_info": {
   "codemirror_mode": {
    "name": "ipython",
    "version": 3
   },
   "file_extension": ".py",
   "mimetype": "text/x-python",
   "name": "python",
   "nbconvert_exporter": "python",
   "pygments_lexer": "ipython3",
   "version": "3.9.16"
  },
  "varInspector": {
   "cols": {
    "lenName": 16,
    "lenType": 16,
    "lenVar": 40
   },
   "kernels_config": {
    "python": {
     "delete_cmd_postfix": "",
     "delete_cmd_prefix": "del ",
     "library": "var_list.py",
     "varRefreshCmd": "print(var_dic_list())"
    },
    "r": {
     "delete_cmd_postfix": ") ",
     "delete_cmd_prefix": "rm(",
     "library": "var_list.r",
     "varRefreshCmd": "cat(var_dic_list()) "
    }
   },
   "types_to_exclude": [
    "module",
    "function",
    "builtin_function_or_method",
    "instance",
    "_Feature"
   ],
   "window_display": false
  },
  "vscode": {
   "interpreter": {
    "hash": "0de8387c967863cc622aba8b7ea5b466d4dfde089153d484429677aa77034389"
   }
  }
 },
 "nbformat": 4,
 "nbformat_minor": 2
}
