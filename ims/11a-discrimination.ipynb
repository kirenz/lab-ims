{
 "cells": [
  {
   "cell_type": "markdown",
   "metadata": {
    "slideshow": {
     "slide_type": "slide"
    }
   },
   "source": [
    "# Case study: Gender discrimination"
   ]
  },
  {
   "cell_type": "markdown",
   "metadata": {},
   "source": [
    "## Setup"
   ]
  },
  {
   "cell_type": "code",
   "execution_count": 9,
   "metadata": {},
   "outputs": [],
   "source": [
    "import pandas as pd\n",
    "import altair as alt"
   ]
  },
  {
   "cell_type": "markdown",
   "metadata": {
    "slideshow": {
     "slide_type": "slide"
    }
   },
   "source": [
    "## Import data"
   ]
  },
  {
   "cell_type": "code",
   "execution_count": 10,
   "metadata": {
    "slideshow": {
     "slide_type": "fragment"
    }
   },
   "outputs": [
    {
     "data": {
      "text/html": [
       "<div>\n",
       "<style scoped>\n",
       "    .dataframe tbody tr th:only-of-type {\n",
       "        vertical-align: middle;\n",
       "    }\n",
       "\n",
       "    .dataframe tbody tr th {\n",
       "        vertical-align: top;\n",
       "    }\n",
       "\n",
       "    .dataframe thead th {\n",
       "        text-align: right;\n",
       "    }\n",
       "</style>\n",
       "<table border=\"1\" class=\"dataframe\">\n",
       "  <thead>\n",
       "    <tr style=\"text-align: right;\">\n",
       "      <th></th>\n",
       "      <th>gender</th>\n",
       "      <th>decision</th>\n",
       "    </tr>\n",
       "  </thead>\n",
       "  <tbody>\n",
       "    <tr>\n",
       "      <th>0</th>\n",
       "      <td>male</td>\n",
       "      <td>promoted</td>\n",
       "    </tr>\n",
       "    <tr>\n",
       "      <th>1</th>\n",
       "      <td>male</td>\n",
       "      <td>promoted</td>\n",
       "    </tr>\n",
       "    <tr>\n",
       "      <th>2</th>\n",
       "      <td>male</td>\n",
       "      <td>promoted</td>\n",
       "    </tr>\n",
       "    <tr>\n",
       "      <th>3</th>\n",
       "      <td>male</td>\n",
       "      <td>promoted</td>\n",
       "    </tr>\n",
       "    <tr>\n",
       "      <th>4</th>\n",
       "      <td>male</td>\n",
       "      <td>promoted</td>\n",
       "    </tr>\n",
       "  </tbody>\n",
       "</table>\n",
       "</div>"
      ],
      "text/plain": [
       "  gender  decision\n",
       "0   male  promoted\n",
       "1   male  promoted\n",
       "2   male  promoted\n",
       "3   male  promoted\n",
       "4   male  promoted"
      ]
     },
     "execution_count": 10,
     "metadata": {},
     "output_type": "execute_result"
    }
   ],
   "source": [
    "df = pd.read_csv(\"https://raw.githubusercontent.com/kirenz/datasets/master/gender_discrimination.csv\")\n",
    "df.head()"
   ]
  },
  {
   "cell_type": "code",
   "execution_count": 11,
   "metadata": {},
   "outputs": [
    {
     "name": "stdout",
     "output_type": "stream",
     "text": [
      "<class 'pandas.core.frame.DataFrame'>\n",
      "RangeIndex: 48 entries, 0 to 47\n",
      "Data columns (total 2 columns):\n",
      " #   Column    Non-Null Count  Dtype \n",
      "---  ------    --------------  ----- \n",
      " 0   gender    48 non-null     object\n",
      " 1   decision  48 non-null     object\n",
      "dtypes: object(2)\n",
      "memory usage: 896.0+ bytes\n"
     ]
    }
   ],
   "source": [
    "df.info()"
   ]
  },
  {
   "cell_type": "markdown",
   "metadata": {},
   "source": [
    "## Observed data"
   ]
  },
  {
   "cell_type": "markdown",
   "metadata": {
    "slideshow": {
     "slide_type": "slide"
    }
   },
   "source": [
    "## Crosstable"
   ]
  },
  {
   "cell_type": "code",
   "execution_count": 12,
   "metadata": {
    "slideshow": {
     "slide_type": "fragment"
    }
   },
   "outputs": [
    {
     "data": {
      "text/html": [
       "<div>\n",
       "<style scoped>\n",
       "    .dataframe tbody tr th:only-of-type {\n",
       "        vertical-align: middle;\n",
       "    }\n",
       "\n",
       "    .dataframe tbody tr th {\n",
       "        vertical-align: top;\n",
       "    }\n",
       "\n",
       "    .dataframe thead th {\n",
       "        text-align: right;\n",
       "    }\n",
       "</style>\n",
       "<table border=\"1\" class=\"dataframe\">\n",
       "  <thead>\n",
       "    <tr style=\"text-align: right;\">\n",
       "      <th>decision</th>\n",
       "      <th>not promoted</th>\n",
       "      <th>promoted</th>\n",
       "      <th>All</th>\n",
       "    </tr>\n",
       "    <tr>\n",
       "      <th>gender</th>\n",
       "      <th></th>\n",
       "      <th></th>\n",
       "      <th></th>\n",
       "    </tr>\n",
       "  </thead>\n",
       "  <tbody>\n",
       "    <tr>\n",
       "      <th>female</th>\n",
       "      <td>10</td>\n",
       "      <td>14</td>\n",
       "      <td>24</td>\n",
       "    </tr>\n",
       "    <tr>\n",
       "      <th>male</th>\n",
       "      <td>3</td>\n",
       "      <td>21</td>\n",
       "      <td>24</td>\n",
       "    </tr>\n",
       "    <tr>\n",
       "      <th>All</th>\n",
       "      <td>13</td>\n",
       "      <td>35</td>\n",
       "      <td>48</td>\n",
       "    </tr>\n",
       "  </tbody>\n",
       "</table>\n",
       "</div>"
      ],
      "text/plain": [
       "decision  not promoted  promoted  All\n",
       "gender                               \n",
       "female              10        14   24\n",
       "male                 3        21   24\n",
       "All                 13        35   48"
      ]
     },
     "execution_count": 12,
     "metadata": {},
     "output_type": "execute_result"
    }
   ],
   "source": [
    "pd.crosstab(df.gender, df.decision,  margins=True)"
   ]
  },
  {
   "cell_type": "markdown",
   "metadata": {},
   "source": [
    "## Calculate difference"
   ]
  },
  {
   "cell_type": "code",
   "execution_count": 13,
   "metadata": {},
   "outputs": [
    {
     "data": {
      "text/html": [
       "<div>\n",
       "<style scoped>\n",
       "    .dataframe tbody tr th:only-of-type {\n",
       "        vertical-align: middle;\n",
       "    }\n",
       "\n",
       "    .dataframe tbody tr th {\n",
       "        vertical-align: top;\n",
       "    }\n",
       "\n",
       "    .dataframe thead th {\n",
       "        text-align: right;\n",
       "    }\n",
       "</style>\n",
       "<table border=\"1\" class=\"dataframe\">\n",
       "  <thead>\n",
       "    <tr style=\"text-align: right;\">\n",
       "      <th></th>\n",
       "      <th>p_diff</th>\n",
       "    </tr>\n",
       "  </thead>\n",
       "  <tbody>\n",
       "    <tr>\n",
       "      <th>0</th>\n",
       "      <td>0.292</td>\n",
       "    </tr>\n",
       "  </tbody>\n",
       "</table>\n",
       "</div>"
      ],
      "text/plain": [
       "   p_diff\n",
       "0   0.292"
      ]
     },
     "execution_count": 13,
     "metadata": {},
     "output_type": "execute_result"
    }
   ],
   "source": [
    "df_male = df[(df[\"gender\"] == \"male\")]\n",
    "df_female = df[(df[\"gender\"] == \"female\")]\n",
    "\n",
    "male_total = len(df_male)\n",
    "female_total = len(df_female)\n",
    "\n",
    "male_promoted = df_male['decision'].value_counts().promoted\n",
    "female_promoted = df_female['decision'].value_counts().promoted\n",
    "\n",
    "male_p = round(male_promoted/male_total, 3)\n",
    "female_p = round(female_promoted/female_total, 3)\n",
    "\n",
    "p_diff_ob = round(male_p - female_p, 3)\n",
    "\n",
    "df_p_diff_ob = pd.DataFrame({'p_diff': [p_diff_ob] })\n",
    "df_p_diff_ob"
   ]
  },
  {
   "cell_type": "markdown",
   "metadata": {},
   "source": [
    "## Randomization"
   ]
  },
  {
   "cell_type": "markdown",
   "metadata": {},
   "source": [
    "### Crosstable"
   ]
  },
  {
   "cell_type": "markdown",
   "metadata": {},
   "source": [
    "Example with only one randomization:"
   ]
  },
  {
   "cell_type": "code",
   "execution_count": 14,
   "metadata": {},
   "outputs": [],
   "source": [
    "df['gender_random'] = df['gender'].sample(frac=1, random_state=123).reset_index(drop=True)"
   ]
  },
  {
   "cell_type": "markdown",
   "metadata": {},
   "source": [
    "Since the randomization of files in this simulation is independent of the promotion decisions, any difference in promotion rates is due to chance."
   ]
  },
  {
   "cell_type": "code",
   "execution_count": 15,
   "metadata": {},
   "outputs": [
    {
     "data": {
      "text/html": [
       "<div>\n",
       "<style scoped>\n",
       "    .dataframe tbody tr th:only-of-type {\n",
       "        vertical-align: middle;\n",
       "    }\n",
       "\n",
       "    .dataframe tbody tr th {\n",
       "        vertical-align: top;\n",
       "    }\n",
       "\n",
       "    .dataframe thead th {\n",
       "        text-align: right;\n",
       "    }\n",
       "</style>\n",
       "<table border=\"1\" class=\"dataframe\">\n",
       "  <thead>\n",
       "    <tr style=\"text-align: right;\">\n",
       "      <th>decision</th>\n",
       "      <th>not promoted</th>\n",
       "      <th>promoted</th>\n",
       "      <th>All</th>\n",
       "    </tr>\n",
       "    <tr>\n",
       "      <th>gender_random</th>\n",
       "      <th></th>\n",
       "      <th></th>\n",
       "      <th></th>\n",
       "    </tr>\n",
       "  </thead>\n",
       "  <tbody>\n",
       "    <tr>\n",
       "      <th>female</th>\n",
       "      <td>7</td>\n",
       "      <td>17</td>\n",
       "      <td>24</td>\n",
       "    </tr>\n",
       "    <tr>\n",
       "      <th>male</th>\n",
       "      <td>6</td>\n",
       "      <td>18</td>\n",
       "      <td>24</td>\n",
       "    </tr>\n",
       "    <tr>\n",
       "      <th>All</th>\n",
       "      <td>13</td>\n",
       "      <td>35</td>\n",
       "      <td>48</td>\n",
       "    </tr>\n",
       "  </tbody>\n",
       "</table>\n",
       "</div>"
      ],
      "text/plain": [
       "decision       not promoted  promoted  All\n",
       "gender_random                             \n",
       "female                    7        17   24\n",
       "male                      6        18   24\n",
       "All                      13        35   48"
      ]
     },
     "execution_count": 15,
     "metadata": {},
     "output_type": "execute_result"
    }
   ],
   "source": [
    "pd.crosstab(df.gender_random, df.decision,  margins=True)"
   ]
  },
  {
   "cell_type": "markdown",
   "metadata": {},
   "source": [
    "### Calculate difference"
   ]
  },
  {
   "cell_type": "markdown",
   "metadata": {},
   "source": [
    "#### One randomization"
   ]
  },
  {
   "cell_type": "code",
   "execution_count": 16,
   "metadata": {},
   "outputs": [
    {
     "data": {
      "text/plain": [
       "0.042"
      ]
     },
     "execution_count": 16,
     "metadata": {},
     "output_type": "execute_result"
    }
   ],
   "source": [
    "df_male = df[(df[\"gender_random\"] == \"male\")]\n",
    "df_female = df[(df[\"gender_random\"] == \"female\")]\n",
    "\n",
    "male_total = len(df_male)\n",
    "female_total = len(df_female)\n",
    "\n",
    "male_promoted = len(df_male[df_male['decision']==\"promoted\"])\n",
    "female_promoted = len(df_female[df_female['decision']==\"promoted\"])\n",
    "\n",
    "male_p = round(male_promoted/male_total, 3)\n",
    "female_p = round(female_promoted/female_total, 3)\n",
    "\n",
    "p_diff = round(male_p - female_p, 3)\n",
    "p_diff"
   ]
  },
  {
   "cell_type": "markdown",
   "metadata": {},
   "source": [
    "#### Multiple randomizations"
   ]
  },
  {
   "cell_type": "code",
   "execution_count": 17,
   "metadata": {},
   "outputs": [],
   "source": [
    "# create an empty list\n",
    "random_difference = []\n",
    "\n",
    "# make 100 randomizations and save results\n",
    "for i in range(0, 100):\n",
    "\n",
    "    df['gender_random'] = df['gender'].sample(frac=1, random_state=i).reset_index(drop=True)\n",
    "\n",
    "    df_male = df[(df[\"gender_random\"] == \"male\")]\n",
    "    df_female = df[(df[\"gender_random\"] == \"female\")]\n",
    "\n",
    "    male_total = len(df_male)\n",
    "    female_total = len(df_female)\n",
    "\n",
    "    male_promoted = df_male['decision'].value_counts().promoted\n",
    "    female_promoted = df_female['decision'].value_counts().promoted\n",
    "\n",
    "    male_p = round(male_promoted/male_total, 3)\n",
    "    female_p = round(female_promoted/female_total, 3)\n",
    "\n",
    "    p_diff = round(male_p - female_p, 3)\n",
    "\n",
    "    random_difference.append(p_diff)"
   ]
  },
  {
   "cell_type": "code",
   "execution_count": 18,
   "metadata": {},
   "outputs": [],
   "source": [
    "# create pandas dataframe\n",
    "df_random = pd.DataFrame({'p_diff': random_difference})\n"
   ]
  },
  {
   "cell_type": "code",
   "execution_count": 19,
   "metadata": {},
   "outputs": [
    {
     "data": {
      "text/html": [
       "<div>\n",
       "<style scoped>\n",
       "    .dataframe tbody tr th:only-of-type {\n",
       "        vertical-align: middle;\n",
       "    }\n",
       "\n",
       "    .dataframe tbody tr th {\n",
       "        vertical-align: top;\n",
       "    }\n",
       "\n",
       "    .dataframe thead th {\n",
       "        text-align: right;\n",
       "    }\n",
       "</style>\n",
       "<table border=\"1\" class=\"dataframe\">\n",
       "  <thead>\n",
       "    <tr style=\"text-align: right;\">\n",
       "      <th></th>\n",
       "      <th>count</th>\n",
       "      <th>mean</th>\n",
       "      <th>std</th>\n",
       "      <th>min</th>\n",
       "      <th>25%</th>\n",
       "      <th>50%</th>\n",
       "      <th>75%</th>\n",
       "      <th>max</th>\n",
       "    </tr>\n",
       "  </thead>\n",
       "  <tbody>\n",
       "    <tr>\n",
       "      <th>p_diff</th>\n",
       "      <td>100.0</td>\n",
       "      <td>-0.01501</td>\n",
       "      <td>0.124152</td>\n",
       "      <td>-0.292</td>\n",
       "      <td>-0.125</td>\n",
       "      <td>-0.042</td>\n",
       "      <td>0.042</td>\n",
       "      <td>0.292</td>\n",
       "    </tr>\n",
       "  </tbody>\n",
       "</table>\n",
       "</div>"
      ],
      "text/plain": [
       "        count     mean       std    min    25%    50%    75%    max\n",
       "p_diff  100.0 -0.01501  0.124152 -0.292 -0.125 -0.042  0.042  0.292"
      ]
     },
     "execution_count": 19,
     "metadata": {},
     "output_type": "execute_result"
    }
   ],
   "source": [
    "df_random.describe().T"
   ]
  },
  {
   "cell_type": "code",
   "execution_count": 20,
   "metadata": {},
   "outputs": [
    {
     "data": {
      "text/html": [
       "\n",
       "<div id=\"altair-viz-4ba67140ee3e435cb5cad47f53bac6ef\"></div>\n",
       "<script type=\"text/javascript\">\n",
       "  var VEGA_DEBUG = (typeof VEGA_DEBUG == \"undefined\") ? {} : VEGA_DEBUG;\n",
       "  (function(spec, embedOpt){\n",
       "    let outputDiv = document.currentScript.previousElementSibling;\n",
       "    if (outputDiv.id !== \"altair-viz-4ba67140ee3e435cb5cad47f53bac6ef\") {\n",
       "      outputDiv = document.getElementById(\"altair-viz-4ba67140ee3e435cb5cad47f53bac6ef\");\n",
       "    }\n",
       "    const paths = {\n",
       "      \"vega\": \"https://cdn.jsdelivr.net/npm//vega@5?noext\",\n",
       "      \"vega-lib\": \"https://cdn.jsdelivr.net/npm//vega-lib?noext\",\n",
       "      \"vega-lite\": \"https://cdn.jsdelivr.net/npm//vega-lite@4.17.0?noext\",\n",
       "      \"vega-embed\": \"https://cdn.jsdelivr.net/npm//vega-embed@6?noext\",\n",
       "    };\n",
       "\n",
       "    function maybeLoadScript(lib, version) {\n",
       "      var key = `${lib.replace(\"-\", \"\")}_version`;\n",
       "      return (VEGA_DEBUG[key] == version) ?\n",
       "        Promise.resolve(paths[lib]) :\n",
       "        new Promise(function(resolve, reject) {\n",
       "          var s = document.createElement('script');\n",
       "          document.getElementsByTagName(\"head\")[0].appendChild(s);\n",
       "          s.async = true;\n",
       "          s.onload = () => {\n",
       "            VEGA_DEBUG[key] = version;\n",
       "            return resolve(paths[lib]);\n",
       "          };\n",
       "          s.onerror = () => reject(`Error loading script: ${paths[lib]}`);\n",
       "          s.src = paths[lib];\n",
       "        });\n",
       "    }\n",
       "\n",
       "    function showError(err) {\n",
       "      outputDiv.innerHTML = `<div class=\"error\" style=\"color:red;\">${err}</div>`;\n",
       "      throw err;\n",
       "    }\n",
       "\n",
       "    function displayChart(vegaEmbed) {\n",
       "      vegaEmbed(outputDiv, spec, embedOpt)\n",
       "        .catch(err => showError(`Javascript Error: ${err.message}<br>This usually means there's a typo in your chart specification. See the javascript console for the full traceback.`));\n",
       "    }\n",
       "\n",
       "    if(typeof define === \"function\" && define.amd) {\n",
       "      requirejs.config({paths});\n",
       "      require([\"vega-embed\"], displayChart, err => showError(`Error loading script: ${err.message}`));\n",
       "    } else {\n",
       "      maybeLoadScript(\"vega\", \"5\")\n",
       "        .then(() => maybeLoadScript(\"vega-lite\", \"4.17.0\"))\n",
       "        .then(() => maybeLoadScript(\"vega-embed\", \"6\"))\n",
       "        .catch(showError)\n",
       "        .then(() => displayChart(vegaEmbed));\n",
       "    }\n",
       "  })({\"config\": {\"view\": {\"continuousWidth\": 400, \"continuousHeight\": 300}}, \"layer\": [{\"data\": {\"name\": \"data-b039fea37eecaceac36a74f433faa9f8\"}, \"mark\": {\"type\": \"circle\", \"size\": 100}, \"encoding\": {\"x\": {\"field\": \"p_diff\", \"title\": \"Differences in promotion rates (male - female) across 100 shuffles\", \"type\": \"ordinal\"}, \"y\": {\"axis\": null, \"field\": \"id\", \"sort\": \"descending\", \"type\": \"ordinal\"}}, \"height\": 300, \"transform\": [{\"window\": [{\"op\": \"rank\", \"field\": \"\", \"as\": \"id\"}], \"groupby\": [\"p_diff\"]}], \"width\": 400}, {\"data\": {\"name\": \"data-5929b266e49bb3ebc25a6139aee464f7\"}, \"mark\": {\"type\": \"circle\", \"size\": 100}, \"encoding\": {\"color\": {\"value\": \"orange\"}, \"x\": {\"field\": \"p_diff\", \"type\": \"ordinal\"}, \"y\": {\"axis\": null, \"field\": \"id\", \"sort\": \"descending\", \"type\": \"ordinal\"}}, \"transform\": [{\"window\": [{\"op\": \"rank\", \"field\": \"\", \"as\": \"id\"}], \"groupby\": [\"p_diff\"]}]}], \"$schema\": \"https://vega.github.io/schema/vega-lite/v4.17.0.json\", \"datasets\": {\"data-b039fea37eecaceac36a74f433faa9f8\": [{\"p_diff\": -0.125}, {\"p_diff\": -0.292}, {\"p_diff\": -0.042}, {\"p_diff\": 0.042}, {\"p_diff\": -0.042}, {\"p_diff\": 0.042}, {\"p_diff\": -0.125}, {\"p_diff\": -0.125}, {\"p_diff\": -0.125}, {\"p_diff\": 0.042}, {\"p_diff\": 0.125}, {\"p_diff\": -0.125}, {\"p_diff\": -0.125}, {\"p_diff\": 0.125}, {\"p_diff\": -0.042}, {\"p_diff\": -0.208}, {\"p_diff\": 0.042}, {\"p_diff\": -0.125}, {\"p_diff\": 0.042}, {\"p_diff\": 0.125}, {\"p_diff\": 0.042}, {\"p_diff\": 0.042}, {\"p_diff\": 0.125}, {\"p_diff\": 0.125}, {\"p_diff\": -0.125}, {\"p_diff\": -0.042}, {\"p_diff\": -0.042}, {\"p_diff\": 0.125}, {\"p_diff\": -0.125}, {\"p_diff\": 0.292}, {\"p_diff\": -0.125}, {\"p_diff\": 0.125}, {\"p_diff\": -0.125}, {\"p_diff\": -0.208}, {\"p_diff\": -0.042}, {\"p_diff\": -0.042}, {\"p_diff\": 0.208}, {\"p_diff\": -0.125}, {\"p_diff\": -0.042}, {\"p_diff\": -0.042}, {\"p_diff\": -0.125}, {\"p_diff\": -0.042}, {\"p_diff\": 0.042}, {\"p_diff\": -0.208}, {\"p_diff\": 0.208}, {\"p_diff\": -0.042}, {\"p_diff\": -0.042}, {\"p_diff\": -0.042}, {\"p_diff\": 0.042}, {\"p_diff\": 0.208}, {\"p_diff\": -0.042}, {\"p_diff\": 0.042}, {\"p_diff\": -0.125}, {\"p_diff\": -0.042}, {\"p_diff\": -0.292}, {\"p_diff\": 0.208}, {\"p_diff\": -0.042}, {\"p_diff\": 0.042}, {\"p_diff\": 0.208}, {\"p_diff\": -0.125}, {\"p_diff\": -0.125}, {\"p_diff\": 0.042}, {\"p_diff\": 0.125}, {\"p_diff\": -0.208}, {\"p_diff\": 0.042}, {\"p_diff\": -0.042}, {\"p_diff\": -0.125}, {\"p_diff\": -0.042}, {\"p_diff\": -0.042}, {\"p_diff\": 0.208}, {\"p_diff\": -0.208}, {\"p_diff\": 0.208}, {\"p_diff\": 0.042}, {\"p_diff\": -0.125}, {\"p_diff\": 0.125}, {\"p_diff\": -0.042}, {\"p_diff\": -0.042}, {\"p_diff\": 0.125}, {\"p_diff\": -0.208}, {\"p_diff\": -0.125}, {\"p_diff\": -0.125}, {\"p_diff\": 0.125}, {\"p_diff\": -0.125}, {\"p_diff\": 0.125}, {\"p_diff\": -0.208}, {\"p_diff\": 0.125}, {\"p_diff\": 0.125}, {\"p_diff\": -0.125}, {\"p_diff\": 0.042}, {\"p_diff\": 0.042}, {\"p_diff\": 0.125}, {\"p_diff\": 0.042}, {\"p_diff\": -0.125}, {\"p_diff\": -0.042}, {\"p_diff\": -0.125}, {\"p_diff\": 0.042}, {\"p_diff\": 0.042}, {\"p_diff\": 0.042}, {\"p_diff\": 0.042}, {\"p_diff\": -0.042}], \"data-5929b266e49bb3ebc25a6139aee464f7\": [{\"p_diff\": 0.292}]}}, {\"mode\": \"vega-lite\"});\n",
       "</script>"
      ],
      "text/plain": [
       "alt.LayerChart(...)"
      ]
     },
     "execution_count": 20,
     "metadata": {},
     "output_type": "execute_result"
    }
   ],
   "source": [
    "chart1 = alt.Chart(df_random).mark_circle(size=100).transform_window(\n",
    "    id='rank()',\n",
    "    groupby=['p_diff']\n",
    ").encode(\n",
    "    alt.X('p_diff:O', title='Differences in promotion rates (male - female) across 100 shuffles'),\n",
    "    alt.Y('id:O',\n",
    "          axis=None,\n",
    "          sort='descending')\n",
    ").properties(height=300, width=400)\n",
    "\n",
    "\n",
    "chart2 = alt.Chart(df_p_diff_ob).mark_circle(size=100).transform_window(\n",
    "    id='rank()',\n",
    "    groupby=['p_diff']\n",
    ").encode(\n",
    "    alt.X('p_diff:O'),\n",
    "    alt.Y('id:O',\n",
    "          axis=None,\n",
    "          sort='descending'),\n",
    "    color=alt.value('orange')\n",
    ")\n",
    "\n",
    "chart1 + chart2 \n"
   ]
  },
  {
   "cell_type": "markdown",
   "metadata": {},
   "source": [
    "## Result"
   ]
  },
  {
   "cell_type": "code",
   "execution_count": 42,
   "metadata": {},
   "outputs": [
    {
     "data": {
      "text/plain": [
       "0.01"
      ]
     },
     "execution_count": 42,
     "metadata": {},
     "output_type": "execute_result"
    }
   ],
   "source": [
    "count_diff = df_random[df_random['p_diff'] >= p_diff_ob].count().p_diff\n",
    "\n",
    "p_value = count_diff/len(df_random)\n",
    "p_value"
   ]
  },
  {
   "cell_type": "markdown",
   "metadata": {},
   "source": [
    "\n",
    "For our simulation, we get a 1% probability of obtaining a sample where ≥ 29.2% more male candidates than female candidates get promoted under the null hypothesis, \n",
    "We conclude The data provide strong evidence of sex discrimination against female candidates \n",
    "We reject the null hypothesis in favor of the alternative"
   ]
  },
  {
   "cell_type": "markdown",
   "metadata": {},
   "source": [
    " ## p-value and statistical significance"
   ]
  },
  {
   "cell_type": "markdown",
   "metadata": {},
   "source": [
    "- H0: Sex has no effect on promotion decisions.\n",
    "\n",
    "- HA: Female candidates are discriminated against in promotion decisions."
   ]
  },
  {
   "cell_type": "markdown",
   "metadata": {},
   "source": [
    "The 1-in-100 chance is what we call a p-value, which is a probability quantifying the strength of the evidence against the null hypothesis, given the observed data."
   ]
  },
  {
   "cell_type": "code",
   "execution_count": 43,
   "metadata": {},
   "outputs": [
    {
     "data": {
      "text/plain": [
       "0.01"
      ]
     },
     "execution_count": 43,
     "metadata": {},
     "output_type": "execute_result"
    }
   ],
   "source": [
    "p_value"
   ]
  },
  {
   "cell_type": "markdown",
   "metadata": {},
   "source": [
    "When the p-value is small (usually less than 0.05), less than a previously set threshold, we say the results are statistically significant. This means the data provide such strong evidence against H0 that we reject the null hypothesis in favor of the alternative hypothesis. "
   ]
  },
  {
   "cell_type": "code",
   "execution_count": 44,
   "metadata": {},
   "outputs": [],
   "source": [
    "def significance(p_value):\n",
    "    if p_value <= 0.05:\n",
    "        return \"Reject Null Hypothesis\"\n",
    "    else:\n",
    "        return \"Accept Null Hypothesis\""
   ]
  },
  {
   "cell_type": "code",
   "execution_count": 45,
   "metadata": {},
   "outputs": [
    {
     "data": {
      "text/plain": [
       "'Reject Null Hypothesis'"
      ]
     },
     "execution_count": 45,
     "metadata": {},
     "output_type": "execute_result"
    }
   ],
   "source": [
    "significance(p_value)"
   ]
  }
 ],
 "metadata": {
  "celltoolbar": "Slideshow",
  "kernelspec": {
   "display_name": "Python 3.9.13 ('ds')",
   "language": "python",
   "name": "python3"
  },
  "language_info": {
   "codemirror_mode": {
    "name": "ipython",
    "version": 3
   },
   "file_extension": ".py",
   "mimetype": "text/x-python",
   "name": "python",
   "nbconvert_exporter": "python",
   "pygments_lexer": "ipython3",
   "version": "3.9.13"
  },
  "varInspector": {
   "cols": {
    "lenName": 16,
    "lenType": 16,
    "lenVar": 40
   },
   "kernels_config": {
    "python": {
     "delete_cmd_postfix": "",
     "delete_cmd_prefix": "del ",
     "library": "var_list.py",
     "varRefreshCmd": "print(var_dic_list())"
    },
    "r": {
     "delete_cmd_postfix": ") ",
     "delete_cmd_prefix": "rm(",
     "library": "var_list.r",
     "varRefreshCmd": "cat(var_dic_list()) "
    }
   },
   "types_to_exclude": [
    "module",
    "function",
    "builtin_function_or_method",
    "instance",
    "_Feature"
   ],
   "window_display": false
  },
  "vscode": {
   "interpreter": {
    "hash": "0de8387c967863cc622aba8b7ea5b466d4dfde089153d484429677aa77034389"
   }
  }
 },
 "nbformat": 4,
 "nbformat_minor": 2
}
