{
 "cells": [
  {
   "cell_type": "markdown",
   "metadata": {
    "slideshow": {
     "slide_type": "slide"
    }
   },
   "source": [
    "# Categorical"
   ]
  },
  {
   "cell_type": "markdown",
   "metadata": {
    "slideshow": {
     "slide_type": "fragment"
    }
   },
   "source": [
    "## Setup"
   ]
  },
  {
   "cell_type": "code",
   "execution_count": 1,
   "metadata": {
    "slideshow": {
     "slide_type": "fragment"
    }
   },
   "outputs": [
    {
     "data": {
      "text/plain": [
       "DataTransformerRegistry.enable('default')"
      ]
     },
     "execution_count": 1,
     "metadata": {},
     "output_type": "execute_result"
    }
   ],
   "source": [
    "import pandas as pd\n",
    "import altair as alt\n",
    "\n",
    "from sklearn.linear_model import LinearRegression\n",
    "from sklearn.metrics import mean_squared_error\n",
    "from sklearn.metrics import r2_score\n",
    "\n",
    "import warnings\n",
    "\n",
    "warnings.simplefilter(action='ignore', category=FutureWarning)\n",
    "alt.data_transformers.disable_max_rows()"
   ]
  },
  {
   "cell_type": "markdown",
   "metadata": {
    "slideshow": {
     "slide_type": "slide"
    }
   },
   "source": [
    "## Data"
   ]
  },
  {
   "cell_type": "markdown",
   "metadata": {
    "slideshow": {
     "slide_type": "slide"
    }
   },
   "source": [
    "### Import data"
   ]
  },
  {
   "cell_type": "code",
   "execution_count": 2,
   "metadata": {
    "slideshow": {
     "slide_type": "subslide"
    }
   },
   "outputs": [],
   "source": [
    "df = pd.read_csv('https://raw.githubusercontent.com/kirenz/datasets/master/mariokart.csv')"
   ]
  },
  {
   "cell_type": "markdown",
   "metadata": {
    "slideshow": {
     "slide_type": "slide"
    }
   },
   "source": [
    "### Data structure"
   ]
  },
  {
   "cell_type": "code",
   "execution_count": 3,
   "metadata": {
    "slideshow": {
     "slide_type": "subslide"
    }
   },
   "outputs": [
    {
     "data": {
      "text/html": [
       "<div>\n",
       "<style scoped>\n",
       "    .dataframe tbody tr th:only-of-type {\n",
       "        vertical-align: middle;\n",
       "    }\n",
       "\n",
       "    .dataframe tbody tr th {\n",
       "        vertical-align: top;\n",
       "    }\n",
       "\n",
       "    .dataframe thead th {\n",
       "        text-align: right;\n",
       "    }\n",
       "</style>\n",
       "<table border=\"1\" class=\"dataframe\">\n",
       "  <thead>\n",
       "    <tr style=\"text-align: right;\">\n",
       "      <th></th>\n",
       "      <th>id</th>\n",
       "      <th>duration</th>\n",
       "      <th>n_bids</th>\n",
       "      <th>cond</th>\n",
       "      <th>start_pr</th>\n",
       "      <th>ship_pr</th>\n",
       "      <th>total_pr</th>\n",
       "      <th>ship_sp</th>\n",
       "      <th>seller_rate</th>\n",
       "      <th>stock_photo</th>\n",
       "      <th>wheels</th>\n",
       "      <th>title</th>\n",
       "    </tr>\n",
       "  </thead>\n",
       "  <tbody>\n",
       "    <tr>\n",
       "      <th>0</th>\n",
       "      <td>150377422259</td>\n",
       "      <td>3</td>\n",
       "      <td>20</td>\n",
       "      <td>new</td>\n",
       "      <td>0.99</td>\n",
       "      <td>4.00</td>\n",
       "      <td>51.55</td>\n",
       "      <td>standard</td>\n",
       "      <td>1580</td>\n",
       "      <td>yes</td>\n",
       "      <td>1</td>\n",
       "      <td>~~ Wii MARIO KART &amp;amp; WHEEL ~ NINTENDO Wii ~...</td>\n",
       "    </tr>\n",
       "    <tr>\n",
       "      <th>1</th>\n",
       "      <td>260483376854</td>\n",
       "      <td>7</td>\n",
       "      <td>13</td>\n",
       "      <td>used</td>\n",
       "      <td>0.99</td>\n",
       "      <td>3.99</td>\n",
       "      <td>37.04</td>\n",
       "      <td>firstClass</td>\n",
       "      <td>365</td>\n",
       "      <td>yes</td>\n",
       "      <td>1</td>\n",
       "      <td>Mariokart Wii Nintendo with wheel - Mario Kart...</td>\n",
       "    </tr>\n",
       "    <tr>\n",
       "      <th>2</th>\n",
       "      <td>320432342985</td>\n",
       "      <td>3</td>\n",
       "      <td>16</td>\n",
       "      <td>new</td>\n",
       "      <td>0.99</td>\n",
       "      <td>3.50</td>\n",
       "      <td>45.50</td>\n",
       "      <td>firstClass</td>\n",
       "      <td>998</td>\n",
       "      <td>no</td>\n",
       "      <td>1</td>\n",
       "      <td>Mario Kart Wii (Wii)</td>\n",
       "    </tr>\n",
       "    <tr>\n",
       "      <th>3</th>\n",
       "      <td>280405224677</td>\n",
       "      <td>3</td>\n",
       "      <td>18</td>\n",
       "      <td>new</td>\n",
       "      <td>0.99</td>\n",
       "      <td>0.00</td>\n",
       "      <td>44.00</td>\n",
       "      <td>standard</td>\n",
       "      <td>7</td>\n",
       "      <td>yes</td>\n",
       "      <td>1</td>\n",
       "      <td>Brand New Mario Kart Wii Comes with Wheel. Fre...</td>\n",
       "    </tr>\n",
       "    <tr>\n",
       "      <th>4</th>\n",
       "      <td>170392227765</td>\n",
       "      <td>1</td>\n",
       "      <td>20</td>\n",
       "      <td>new</td>\n",
       "      <td>0.01</td>\n",
       "      <td>0.00</td>\n",
       "      <td>71.00</td>\n",
       "      <td>media</td>\n",
       "      <td>820</td>\n",
       "      <td>yes</td>\n",
       "      <td>2</td>\n",
       "      <td>BRAND NEW NINTENDO 1 WII MARIO KART WITH 2 WHE...</td>\n",
       "    </tr>\n",
       "    <tr>\n",
       "      <th>...</th>\n",
       "      <td>...</td>\n",
       "      <td>...</td>\n",
       "      <td>...</td>\n",
       "      <td>...</td>\n",
       "      <td>...</td>\n",
       "      <td>...</td>\n",
       "      <td>...</td>\n",
       "      <td>...</td>\n",
       "      <td>...</td>\n",
       "      <td>...</td>\n",
       "      <td>...</td>\n",
       "      <td>...</td>\n",
       "    </tr>\n",
       "    <tr>\n",
       "      <th>138</th>\n",
       "      <td>110441497272</td>\n",
       "      <td>1</td>\n",
       "      <td>20</td>\n",
       "      <td>used</td>\n",
       "      <td>0.01</td>\n",
       "      <td>0.00</td>\n",
       "      <td>39.51</td>\n",
       "      <td>standard</td>\n",
       "      <td>7284</td>\n",
       "      <td>yes</td>\n",
       "      <td>0</td>\n",
       "      <td>Mario Kart Wii (Wii) Nintendo Wii game *--WOW ...</td>\n",
       "    </tr>\n",
       "    <tr>\n",
       "      <th>139</th>\n",
       "      <td>150376936435</td>\n",
       "      <td>7</td>\n",
       "      <td>9</td>\n",
       "      <td>used</td>\n",
       "      <td>17.99</td>\n",
       "      <td>0.00</td>\n",
       "      <td>52.00</td>\n",
       "      <td>parcel</td>\n",
       "      <td>121</td>\n",
       "      <td>no</td>\n",
       "      <td>2</td>\n",
       "      <td>Mario Kart Wii (Wii)</td>\n",
       "    </tr>\n",
       "    <tr>\n",
       "      <th>140</th>\n",
       "      <td>140349730405</td>\n",
       "      <td>3</td>\n",
       "      <td>14</td>\n",
       "      <td>new</td>\n",
       "      <td>0.99</td>\n",
       "      <td>8.70</td>\n",
       "      <td>47.70</td>\n",
       "      <td>priority</td>\n",
       "      <td>251</td>\n",
       "      <td>yes</td>\n",
       "      <td>1</td>\n",
       "      <td>Wii Mario Kart game + wheel:  NIB, factory sealed</td>\n",
       "    </tr>\n",
       "    <tr>\n",
       "      <th>141</th>\n",
       "      <td>300352306018</td>\n",
       "      <td>7</td>\n",
       "      <td>13</td>\n",
       "      <td>used</td>\n",
       "      <td>1.00</td>\n",
       "      <td>4.90</td>\n",
       "      <td>38.76</td>\n",
       "      <td>parcel</td>\n",
       "      <td>41</td>\n",
       "      <td>no</td>\n",
       "      <td>0</td>\n",
       "      <td>Mario Kart Wii</td>\n",
       "    </tr>\n",
       "    <tr>\n",
       "      <th>142</th>\n",
       "      <td>110443320905</td>\n",
       "      <td>1</td>\n",
       "      <td>13</td>\n",
       "      <td>new</td>\n",
       "      <td>1.00</td>\n",
       "      <td>2.99</td>\n",
       "      <td>54.51</td>\n",
       "      <td>upsGround</td>\n",
       "      <td>4858</td>\n",
       "      <td>yes</td>\n",
       "      <td>2</td>\n",
       "      <td>BRAND NEW NINTENDO MARIO KART WITH 2 WHEELS</td>\n",
       "    </tr>\n",
       "  </tbody>\n",
       "</table>\n",
       "<p>143 rows × 12 columns</p>\n",
       "</div>"
      ],
      "text/plain": [
       "               id  duration  n_bids  cond  start_pr  ship_pr  total_pr  \\\n",
       "0    150377422259         3      20   new      0.99     4.00     51.55   \n",
       "1    260483376854         7      13  used      0.99     3.99     37.04   \n",
       "2    320432342985         3      16   new      0.99     3.50     45.50   \n",
       "3    280405224677         3      18   new      0.99     0.00     44.00   \n",
       "4    170392227765         1      20   new      0.01     0.00     71.00   \n",
       "..            ...       ...     ...   ...       ...      ...       ...   \n",
       "138  110441497272         1      20  used      0.01     0.00     39.51   \n",
       "139  150376936435         7       9  used     17.99     0.00     52.00   \n",
       "140  140349730405         3      14   new      0.99     8.70     47.70   \n",
       "141  300352306018         7      13  used      1.00     4.90     38.76   \n",
       "142  110443320905         1      13   new      1.00     2.99     54.51   \n",
       "\n",
       "        ship_sp  seller_rate stock_photo  wheels  \\\n",
       "0      standard         1580         yes       1   \n",
       "1    firstClass          365         yes       1   \n",
       "2    firstClass          998          no       1   \n",
       "3      standard            7         yes       1   \n",
       "4         media          820         yes       2   \n",
       "..          ...          ...         ...     ...   \n",
       "138    standard         7284         yes       0   \n",
       "139      parcel          121          no       2   \n",
       "140    priority          251         yes       1   \n",
       "141      parcel           41          no       0   \n",
       "142   upsGround         4858         yes       2   \n",
       "\n",
       "                                                 title  \n",
       "0    ~~ Wii MARIO KART &amp; WHEEL ~ NINTENDO Wii ~...  \n",
       "1    Mariokart Wii Nintendo with wheel - Mario Kart...  \n",
       "2                                 Mario Kart Wii (Wii)  \n",
       "3    Brand New Mario Kart Wii Comes with Wheel. Fre...  \n",
       "4    BRAND NEW NINTENDO 1 WII MARIO KART WITH 2 WHE...  \n",
       "..                                                 ...  \n",
       "138  Mario Kart Wii (Wii) Nintendo Wii game *--WOW ...  \n",
       "139                               Mario Kart Wii (Wii)  \n",
       "140  Wii Mario Kart game + wheel:  NIB, factory sealed  \n",
       "141                                     Mario Kart Wii  \n",
       "142        BRAND NEW NINTENDO MARIO KART WITH 2 WHEELS  \n",
       "\n",
       "[143 rows x 12 columns]"
      ]
     },
     "execution_count": 3,
     "metadata": {},
     "output_type": "execute_result"
    }
   ],
   "source": [
    "df"
   ]
  },
  {
   "cell_type": "code",
   "execution_count": 4,
   "metadata": {
    "slideshow": {
     "slide_type": "subslide"
    }
   },
   "outputs": [
    {
     "name": "stdout",
     "output_type": "stream",
     "text": [
      "<class 'pandas.core.frame.DataFrame'>\n",
      "RangeIndex: 143 entries, 0 to 142\n",
      "Data columns (total 12 columns):\n",
      " #   Column       Non-Null Count  Dtype  \n",
      "---  ------       --------------  -----  \n",
      " 0   id           143 non-null    int64  \n",
      " 1   duration     143 non-null    int64  \n",
      " 2   n_bids       143 non-null    int64  \n",
      " 3   cond         143 non-null    object \n",
      " 4   start_pr     143 non-null    float64\n",
      " 5   ship_pr      143 non-null    float64\n",
      " 6   total_pr     143 non-null    float64\n",
      " 7   ship_sp      143 non-null    object \n",
      " 8   seller_rate  143 non-null    int64  \n",
      " 9   stock_photo  143 non-null    object \n",
      " 10  wheels       143 non-null    int64  \n",
      " 11  title        142 non-null    object \n",
      "dtypes: float64(3), int64(5), object(4)\n",
      "memory usage: 13.5+ KB\n"
     ]
    }
   ],
   "source": [
    "df.info()"
   ]
  },
  {
   "cell_type": "markdown",
   "metadata": {
    "slideshow": {
     "slide_type": "slide"
    }
   },
   "source": [
    "### Data corrections"
   ]
  },
  {
   "cell_type": "code",
   "execution_count": 5,
   "metadata": {
    "slideshow": {
     "slide_type": "fragment"
    }
   },
   "outputs": [],
   "source": [
    "# we only need cond and total_pr\n",
    "df = df[['cond', 'total_pr']]"
   ]
  },
  {
   "cell_type": "code",
   "execution_count": 6,
   "metadata": {
    "slideshow": {
     "slide_type": "subslide"
    }
   },
   "outputs": [
    {
     "data": {
      "text/html": [
       "<div>\n",
       "<style scoped>\n",
       "    .dataframe tbody tr th:only-of-type {\n",
       "        vertical-align: middle;\n",
       "    }\n",
       "\n",
       "    .dataframe tbody tr th {\n",
       "        vertical-align: top;\n",
       "    }\n",
       "\n",
       "    .dataframe thead th {\n",
       "        text-align: right;\n",
       "    }\n",
       "</style>\n",
       "<table border=\"1\" class=\"dataframe\">\n",
       "  <thead>\n",
       "    <tr style=\"text-align: right;\">\n",
       "      <th></th>\n",
       "      <th>cond</th>\n",
       "      <th>total_pr</th>\n",
       "    </tr>\n",
       "  </thead>\n",
       "  <tbody>\n",
       "    <tr>\n",
       "      <th>0</th>\n",
       "      <td>new</td>\n",
       "      <td>51.55</td>\n",
       "    </tr>\n",
       "    <tr>\n",
       "      <th>1</th>\n",
       "      <td>used</td>\n",
       "      <td>37.04</td>\n",
       "    </tr>\n",
       "    <tr>\n",
       "      <th>2</th>\n",
       "      <td>new</td>\n",
       "      <td>45.50</td>\n",
       "    </tr>\n",
       "    <tr>\n",
       "      <th>3</th>\n",
       "      <td>new</td>\n",
       "      <td>44.00</td>\n",
       "    </tr>\n",
       "    <tr>\n",
       "      <th>4</th>\n",
       "      <td>new</td>\n",
       "      <td>71.00</td>\n",
       "    </tr>\n",
       "    <tr>\n",
       "      <th>...</th>\n",
       "      <td>...</td>\n",
       "      <td>...</td>\n",
       "    </tr>\n",
       "    <tr>\n",
       "      <th>138</th>\n",
       "      <td>used</td>\n",
       "      <td>39.51</td>\n",
       "    </tr>\n",
       "    <tr>\n",
       "      <th>139</th>\n",
       "      <td>used</td>\n",
       "      <td>52.00</td>\n",
       "    </tr>\n",
       "    <tr>\n",
       "      <th>140</th>\n",
       "      <td>new</td>\n",
       "      <td>47.70</td>\n",
       "    </tr>\n",
       "    <tr>\n",
       "      <th>141</th>\n",
       "      <td>used</td>\n",
       "      <td>38.76</td>\n",
       "    </tr>\n",
       "    <tr>\n",
       "      <th>142</th>\n",
       "      <td>new</td>\n",
       "      <td>54.51</td>\n",
       "    </tr>\n",
       "  </tbody>\n",
       "</table>\n",
       "<p>143 rows × 2 columns</p>\n",
       "</div>"
      ],
      "text/plain": [
       "     cond  total_pr\n",
       "0     new     51.55\n",
       "1    used     37.04\n",
       "2     new     45.50\n",
       "3     new     44.00\n",
       "4     new     71.00\n",
       "..    ...       ...\n",
       "138  used     39.51\n",
       "139  used     52.00\n",
       "140   new     47.70\n",
       "141  used     38.76\n",
       "142   new     54.51\n",
       "\n",
       "[143 rows x 2 columns]"
      ]
     },
     "execution_count": 6,
     "metadata": {},
     "output_type": "execute_result"
    }
   ],
   "source": [
    "df"
   ]
  },
  {
   "cell_type": "markdown",
   "metadata": {
    "slideshow": {
     "slide_type": "notes"
    }
   },
   "source": [
    " Note that the original dataset contains some Mario Kart games being sold at prices above $\\$100$ but for this analysis we will limit our focus to Mario Kart games that were sold below $\\$100$."
   ]
  },
  {
   "cell_type": "code",
   "execution_count": 7,
   "metadata": {
    "slideshow": {
     "slide_type": "slide"
    }
   },
   "outputs": [],
   "source": [
    "# only keep games with total price below 100\n",
    "df = df[df['total_pr']<100]"
   ]
  },
  {
   "cell_type": "code",
   "execution_count": 8,
   "metadata": {
    "scrolled": false,
    "slideshow": {
     "slide_type": "fragment"
    }
   },
   "outputs": [
    {
     "name": "stdout",
     "output_type": "stream",
     "text": [
      "<class 'pandas.core.frame.DataFrame'>\n",
      "Int64Index: 141 entries, 0 to 142\n",
      "Data columns (total 2 columns):\n",
      " #   Column    Non-Null Count  Dtype  \n",
      "---  ------    --------------  -----  \n",
      " 0   cond      141 non-null    object \n",
      " 1   total_pr  141 non-null    float64\n",
      "dtypes: float64(1), object(1)\n",
      "memory usage: 3.3+ KB\n"
     ]
    }
   ],
   "source": [
    "df.info()"
   ]
  },
  {
   "cell_type": "code",
   "execution_count": 9,
   "metadata": {},
   "outputs": [],
   "source": [
    "# make a copy of our original dataframe (before we change the data)\n",
    "df_orig = df.copy()"
   ]
  },
  {
   "cell_type": "code",
   "execution_count": 10,
   "metadata": {
    "slideshow": {
     "slide_type": "slide"
    }
   },
   "outputs": [],
   "source": [
    "# Convert categorical into binary numeric format\n",
    "df = pd.get_dummies(df)"
   ]
  },
  {
   "cell_type": "code",
   "execution_count": 11,
   "metadata": {
    "scrolled": true,
    "slideshow": {
     "slide_type": "fragment"
    }
   },
   "outputs": [
    {
     "data": {
      "text/html": [
       "<div>\n",
       "<style scoped>\n",
       "    .dataframe tbody tr th:only-of-type {\n",
       "        vertical-align: middle;\n",
       "    }\n",
       "\n",
       "    .dataframe tbody tr th {\n",
       "        vertical-align: top;\n",
       "    }\n",
       "\n",
       "    .dataframe thead th {\n",
       "        text-align: right;\n",
       "    }\n",
       "</style>\n",
       "<table border=\"1\" class=\"dataframe\">\n",
       "  <thead>\n",
       "    <tr style=\"text-align: right;\">\n",
       "      <th></th>\n",
       "      <th>total_pr</th>\n",
       "      <th>cond_new</th>\n",
       "      <th>cond_used</th>\n",
       "    </tr>\n",
       "  </thead>\n",
       "  <tbody>\n",
       "    <tr>\n",
       "      <th>0</th>\n",
       "      <td>51.55</td>\n",
       "      <td>1</td>\n",
       "      <td>0</td>\n",
       "    </tr>\n",
       "    <tr>\n",
       "      <th>1</th>\n",
       "      <td>37.04</td>\n",
       "      <td>0</td>\n",
       "      <td>1</td>\n",
       "    </tr>\n",
       "    <tr>\n",
       "      <th>2</th>\n",
       "      <td>45.50</td>\n",
       "      <td>1</td>\n",
       "      <td>0</td>\n",
       "    </tr>\n",
       "    <tr>\n",
       "      <th>3</th>\n",
       "      <td>44.00</td>\n",
       "      <td>1</td>\n",
       "      <td>0</td>\n",
       "    </tr>\n",
       "    <tr>\n",
       "      <th>4</th>\n",
       "      <td>71.00</td>\n",
       "      <td>1</td>\n",
       "      <td>0</td>\n",
       "    </tr>\n",
       "  </tbody>\n",
       "</table>\n",
       "</div>"
      ],
      "text/plain": [
       "   total_pr  cond_new  cond_used\n",
       "0     51.55         1          0\n",
       "1     37.04         0          1\n",
       "2     45.50         1          0\n",
       "3     44.00         1          0\n",
       "4     71.00         1          0"
      ]
     },
     "execution_count": 11,
     "metadata": {},
     "output_type": "execute_result"
    }
   ],
   "source": [
    "df.head()"
   ]
  },
  {
   "cell_type": "code",
   "execution_count": 12,
   "metadata": {
    "slideshow": {
     "slide_type": "slide"
    }
   },
   "outputs": [],
   "source": [
    "# we only keep condition new (1=new and 0=used)\n",
    "df = df.drop(columns = ['cond_used'])"
   ]
  },
  {
   "cell_type": "code",
   "execution_count": 13,
   "metadata": {
    "slideshow": {
     "slide_type": "fragment"
    }
   },
   "outputs": [
    {
     "data": {
      "text/html": [
       "<div>\n",
       "<style scoped>\n",
       "    .dataframe tbody tr th:only-of-type {\n",
       "        vertical-align: middle;\n",
       "    }\n",
       "\n",
       "    .dataframe tbody tr th {\n",
       "        vertical-align: top;\n",
       "    }\n",
       "\n",
       "    .dataframe thead th {\n",
       "        text-align: right;\n",
       "    }\n",
       "</style>\n",
       "<table border=\"1\" class=\"dataframe\">\n",
       "  <thead>\n",
       "    <tr style=\"text-align: right;\">\n",
       "      <th></th>\n",
       "      <th>total_pr</th>\n",
       "      <th>cond_new</th>\n",
       "    </tr>\n",
       "  </thead>\n",
       "  <tbody>\n",
       "    <tr>\n",
       "      <th>0</th>\n",
       "      <td>51.55</td>\n",
       "      <td>1</td>\n",
       "    </tr>\n",
       "    <tr>\n",
       "      <th>1</th>\n",
       "      <td>37.04</td>\n",
       "      <td>0</td>\n",
       "    </tr>\n",
       "    <tr>\n",
       "      <th>2</th>\n",
       "      <td>45.50</td>\n",
       "      <td>1</td>\n",
       "    </tr>\n",
       "    <tr>\n",
       "      <th>3</th>\n",
       "      <td>44.00</td>\n",
       "      <td>1</td>\n",
       "    </tr>\n",
       "    <tr>\n",
       "      <th>4</th>\n",
       "      <td>71.00</td>\n",
       "      <td>1</td>\n",
       "    </tr>\n",
       "  </tbody>\n",
       "</table>\n",
       "</div>"
      ],
      "text/plain": [
       "   total_pr  cond_new\n",
       "0     51.55         1\n",
       "1     37.04         0\n",
       "2     45.50         1\n",
       "3     44.00         1\n",
       "4     71.00         1"
      ]
     },
     "execution_count": 13,
     "metadata": {},
     "output_type": "execute_result"
    }
   ],
   "source": [
    "df.head()"
   ]
  },
  {
   "cell_type": "markdown",
   "metadata": {
    "slideshow": {
     "slide_type": "slide"
    }
   },
   "source": [
    "### Variable lists"
   ]
  },
  {
   "cell_type": "code",
   "execution_count": 14,
   "metadata": {
    "slideshow": {
     "slide_type": "fragment"
    }
   },
   "outputs": [],
   "source": [
    "# Prepare the data\n",
    "X = df[[\"cond_new\"]]\n",
    "y = df[[\"total_pr\"]]"
   ]
  },
  {
   "cell_type": "markdown",
   "metadata": {
    "slideshow": {
     "slide_type": "slide"
    }
   },
   "source": [
    "## Analysis"
   ]
  },
  {
   "cell_type": "code",
   "execution_count": 15,
   "metadata": {
    "slideshow": {
     "slide_type": "subslide"
    }
   },
   "outputs": [
    {
     "data": {
      "text/html": [
       "\n",
       "<div id=\"altair-viz-d8eeb2fd8f5244cba21feeb156c5bb0c\"></div>\n",
       "<script type=\"text/javascript\">\n",
       "  var VEGA_DEBUG = (typeof VEGA_DEBUG == \"undefined\") ? {} : VEGA_DEBUG;\n",
       "  (function(spec, embedOpt){\n",
       "    let outputDiv = document.currentScript.previousElementSibling;\n",
       "    if (outputDiv.id !== \"altair-viz-d8eeb2fd8f5244cba21feeb156c5bb0c\") {\n",
       "      outputDiv = document.getElementById(\"altair-viz-d8eeb2fd8f5244cba21feeb156c5bb0c\");\n",
       "    }\n",
       "    const paths = {\n",
       "      \"vega\": \"https://cdn.jsdelivr.net/npm//vega@5?noext\",\n",
       "      \"vega-lib\": \"https://cdn.jsdelivr.net/npm//vega-lib?noext\",\n",
       "      \"vega-lite\": \"https://cdn.jsdelivr.net/npm//vega-lite@4.17.0?noext\",\n",
       "      \"vega-embed\": \"https://cdn.jsdelivr.net/npm//vega-embed@6?noext\",\n",
       "    };\n",
       "\n",
       "    function maybeLoadScript(lib, version) {\n",
       "      var key = `${lib.replace(\"-\", \"\")}_version`;\n",
       "      return (VEGA_DEBUG[key] == version) ?\n",
       "        Promise.resolve(paths[lib]) :\n",
       "        new Promise(function(resolve, reject) {\n",
       "          var s = document.createElement('script');\n",
       "          document.getElementsByTagName(\"head\")[0].appendChild(s);\n",
       "          s.async = true;\n",
       "          s.onload = () => {\n",
       "            VEGA_DEBUG[key] = version;\n",
       "            return resolve(paths[lib]);\n",
       "          };\n",
       "          s.onerror = () => reject(`Error loading script: ${paths[lib]}`);\n",
       "          s.src = paths[lib];\n",
       "        });\n",
       "    }\n",
       "\n",
       "    function showError(err) {\n",
       "      outputDiv.innerHTML = `<div class=\"error\" style=\"color:red;\">${err}</div>`;\n",
       "      throw err;\n",
       "    }\n",
       "\n",
       "    function displayChart(vegaEmbed) {\n",
       "      vegaEmbed(outputDiv, spec, embedOpt)\n",
       "        .catch(err => showError(`Javascript Error: ${err.message}<br>This usually means there's a typo in your chart specification. See the javascript console for the full traceback.`));\n",
       "    }\n",
       "\n",
       "    if(typeof define === \"function\" && define.amd) {\n",
       "      requirejs.config({paths});\n",
       "      require([\"vega-embed\"], displayChart, err => showError(`Error loading script: ${err.message}`));\n",
       "    } else {\n",
       "      maybeLoadScript(\"vega\", \"5\")\n",
       "        .then(() => maybeLoadScript(\"vega-lite\", \"4.17.0\"))\n",
       "        .then(() => maybeLoadScript(\"vega-embed\", \"6\"))\n",
       "        .catch(showError)\n",
       "        .then(() => displayChart(vegaEmbed));\n",
       "    }\n",
       "  })({\"config\": {\"view\": {\"continuousWidth\": 400, \"continuousHeight\": 300}}, \"data\": {\"name\": \"data-456bdac2f106bf75f00d4df083675f96\"}, \"mark\": \"boxplot\", \"encoding\": {\"x\": {\"field\": \"total_pr\", \"type\": \"quantitative\"}, \"y\": {\"field\": \"cond\", \"type\": \"nominal\"}}, \"$schema\": \"https://vega.github.io/schema/vega-lite/v4.17.0.json\", \"datasets\": {\"data-456bdac2f106bf75f00d4df083675f96\": [{\"cond\": \"new\", \"total_pr\": 51.55}, {\"cond\": \"used\", \"total_pr\": 37.04}, {\"cond\": \"new\", \"total_pr\": 45.5}, {\"cond\": \"new\", \"total_pr\": 44.0}, {\"cond\": \"new\", \"total_pr\": 71.0}, {\"cond\": \"new\", \"total_pr\": 45.0}, {\"cond\": \"used\", \"total_pr\": 37.02}, {\"cond\": \"new\", \"total_pr\": 53.99}, {\"cond\": \"used\", \"total_pr\": 47.0}, {\"cond\": \"used\", \"total_pr\": 50.0}, {\"cond\": \"new\", \"total_pr\": 54.99}, {\"cond\": \"new\", \"total_pr\": 56.01}, {\"cond\": \"new\", \"total_pr\": 48.0}, {\"cond\": \"new\", \"total_pr\": 56.0}, {\"cond\": \"used\", \"total_pr\": 43.33}, {\"cond\": \"used\", \"total_pr\": 46.0}, {\"cond\": \"new\", \"total_pr\": 46.71}, {\"cond\": \"new\", \"total_pr\": 46.0}, {\"cond\": \"new\", \"total_pr\": 55.99}, {\"cond\": \"used\", \"total_pr\": 31.0}, {\"cond\": \"new\", \"total_pr\": 53.98}, {\"cond\": \"new\", \"total_pr\": 64.95}, {\"cond\": \"new\", \"total_pr\": 50.5}, {\"cond\": \"used\", \"total_pr\": 46.5}, {\"cond\": \"new\", \"total_pr\": 55.0}, {\"cond\": \"used\", \"total_pr\": 34.5}, {\"cond\": \"used\", \"total_pr\": 36.0}, {\"cond\": \"used\", \"total_pr\": 40.0}, {\"cond\": \"new\", \"total_pr\": 47.0}, {\"cond\": \"used\", \"total_pr\": 43.0}, {\"cond\": \"used\", \"total_pr\": 31.0}, {\"cond\": \"used\", \"total_pr\": 41.99}, {\"cond\": \"used\", \"total_pr\": 49.49}, {\"cond\": \"used\", \"total_pr\": 41.0}, {\"cond\": \"used\", \"total_pr\": 44.78}, {\"cond\": \"used\", \"total_pr\": 47.0}, {\"cond\": \"used\", \"total_pr\": 44.0}, {\"cond\": \"new\", \"total_pr\": 63.99}, {\"cond\": \"new\", \"total_pr\": 53.76}, {\"cond\": \"new\", \"total_pr\": 46.03}, {\"cond\": \"used\", \"total_pr\": 42.25}, {\"cond\": \"used\", \"total_pr\": 46.0}, {\"cond\": \"new\", \"total_pr\": 51.99}, {\"cond\": \"new\", \"total_pr\": 55.99}, {\"cond\": \"used\", \"total_pr\": 41.99}, {\"cond\": \"new\", \"total_pr\": 53.99}, {\"cond\": \"used\", \"total_pr\": 39.0}, {\"cond\": \"used\", \"total_pr\": 38.06}, {\"cond\": \"used\", \"total_pr\": 46.0}, {\"cond\": \"new\", \"total_pr\": 59.88}, {\"cond\": \"used\", \"total_pr\": 28.98}, {\"cond\": \"used\", \"total_pr\": 36.0}, {\"cond\": \"new\", \"total_pr\": 51.99}, {\"cond\": \"used\", \"total_pr\": 43.95}, {\"cond\": \"used\", \"total_pr\": 32.0}, {\"cond\": \"used\", \"total_pr\": 40.06}, {\"cond\": \"used\", \"total_pr\": 48.0}, {\"cond\": \"used\", \"total_pr\": 36.0}, {\"cond\": \"used\", \"total_pr\": 31.0}, {\"cond\": \"new\", \"total_pr\": 53.99}, {\"cond\": \"used\", \"total_pr\": 30.0}, {\"cond\": \"new\", \"total_pr\": 58.0}, {\"cond\": \"used\", \"total_pr\": 38.1}, {\"cond\": \"used\", \"total_pr\": 61.76}, {\"cond\": \"new\", \"total_pr\": 53.99}, {\"cond\": \"used\", \"total_pr\": 40.0}, {\"cond\": \"used\", \"total_pr\": 64.5}, {\"cond\": \"used\", \"total_pr\": 49.01}, {\"cond\": \"new\", \"total_pr\": 47.0}, {\"cond\": \"used\", \"total_pr\": 40.1}, {\"cond\": \"new\", \"total_pr\": 41.5}, {\"cond\": \"new\", \"total_pr\": 56.0}, {\"cond\": \"new\", \"total_pr\": 64.95}, {\"cond\": \"used\", \"total_pr\": 49.0}, {\"cond\": \"used\", \"total_pr\": 48.0}, {\"cond\": \"used\", \"total_pr\": 38.0}, {\"cond\": \"used\", \"total_pr\": 45.0}, {\"cond\": \"used\", \"total_pr\": 41.95}, {\"cond\": \"used\", \"total_pr\": 43.36}, {\"cond\": \"new\", \"total_pr\": 54.99}, {\"cond\": \"used\", \"total_pr\": 45.21}, {\"cond\": \"used\", \"total_pr\": 65.02}, {\"cond\": \"used\", \"total_pr\": 45.75}, {\"cond\": \"new\", \"total_pr\": 64.0}, {\"cond\": \"used\", \"total_pr\": 36.0}, {\"cond\": \"new\", \"total_pr\": 54.7}, {\"cond\": \"new\", \"total_pr\": 49.91}, {\"cond\": \"used\", \"total_pr\": 47.0}, {\"cond\": \"used\", \"total_pr\": 43.0}, {\"cond\": \"used\", \"total_pr\": 35.99}, {\"cond\": \"used\", \"total_pr\": 54.49}, {\"cond\": \"used\", \"total_pr\": 46.0}, {\"cond\": \"used\", \"total_pr\": 31.06}, {\"cond\": \"used\", \"total_pr\": 55.6}, {\"cond\": \"new\", \"total_pr\": 40.1}, {\"cond\": \"new\", \"total_pr\": 52.59}, {\"cond\": \"used\", \"total_pr\": 44.0}, {\"cond\": \"used\", \"total_pr\": 38.26}, {\"cond\": \"used\", \"total_pr\": 51.0}, {\"cond\": \"new\", \"total_pr\": 48.99}, {\"cond\": \"new\", \"total_pr\": 66.44}, {\"cond\": \"new\", \"total_pr\": 63.5}, {\"cond\": \"used\", \"total_pr\": 42.0}, {\"cond\": \"new\", \"total_pr\": 47.0}, {\"cond\": \"used\", \"total_pr\": 55.0}, {\"cond\": \"used\", \"total_pr\": 33.01}, {\"cond\": \"new\", \"total_pr\": 53.76}, {\"cond\": \"new\", \"total_pr\": 46.0}, {\"cond\": \"used\", \"total_pr\": 43.0}, {\"cond\": \"used\", \"total_pr\": 42.55}, {\"cond\": \"used\", \"total_pr\": 52.5}, {\"cond\": \"new\", \"total_pr\": 57.5}, {\"cond\": \"new\", \"total_pr\": 75.0}, {\"cond\": \"used\", \"total_pr\": 48.92}, {\"cond\": \"new\", \"total_pr\": 45.99}, {\"cond\": \"used\", \"total_pr\": 40.05}, {\"cond\": \"new\", \"total_pr\": 45.0}, {\"cond\": \"used\", \"total_pr\": 50.0}, {\"cond\": \"new\", \"total_pr\": 49.75}, {\"cond\": \"used\", \"total_pr\": 47.0}, {\"cond\": \"new\", \"total_pr\": 56.0}, {\"cond\": \"used\", \"total_pr\": 41.0}, {\"cond\": \"new\", \"total_pr\": 46.0}, {\"cond\": \"used\", \"total_pr\": 34.99}, {\"cond\": \"used\", \"total_pr\": 49.0}, {\"cond\": \"new\", \"total_pr\": 61.0}, {\"cond\": \"new\", \"total_pr\": 62.89}, {\"cond\": \"new\", \"total_pr\": 46.0}, {\"cond\": \"new\", \"total_pr\": 64.95}, {\"cond\": \"used\", \"total_pr\": 36.99}, {\"cond\": \"used\", \"total_pr\": 44.0}, {\"cond\": \"used\", \"total_pr\": 41.35}, {\"cond\": \"used\", \"total_pr\": 37.0}, {\"cond\": \"new\", \"total_pr\": 58.98}, {\"cond\": \"used\", \"total_pr\": 39.0}, {\"cond\": \"used\", \"total_pr\": 40.7}, {\"cond\": \"used\", \"total_pr\": 39.51}, {\"cond\": \"used\", \"total_pr\": 52.0}, {\"cond\": \"new\", \"total_pr\": 47.7}, {\"cond\": \"used\", \"total_pr\": 38.76}, {\"cond\": \"new\", \"total_pr\": 54.51}]}}, {\"mode\": \"vega-lite\"});\n",
       "</script>"
      ],
      "text/plain": [
       "alt.Chart(...)"
      ]
     },
     "execution_count": 15,
     "metadata": {},
     "output_type": "execute_result"
    }
   ],
   "source": [
    "alt.Chart(df_orig).mark_boxplot().encode(\n",
    "    x='total_pr',\n",
    "    y='cond'\n",
    ")"
   ]
  },
  {
   "cell_type": "markdown",
   "metadata": {
    "slideshow": {
     "slide_type": "slide"
    }
   },
   "source": [
    "## Model"
   ]
  },
  {
   "cell_type": "markdown",
   "metadata": {
    "slideshow": {
     "slide_type": "fragment"
    }
   },
   "source": [
    "### Select model"
   ]
  },
  {
   "cell_type": "code",
   "execution_count": 16,
   "metadata": {
    "slideshow": {
     "slide_type": "fragment"
    }
   },
   "outputs": [],
   "source": [
    "# linear regression model\n",
    "reg = LinearRegression()"
   ]
  },
  {
   "cell_type": "markdown",
   "metadata": {
    "slideshow": {
     "slide_type": "fragment"
    }
   },
   "source": [
    "### Fit the model"
   ]
  },
  {
   "cell_type": "code",
   "execution_count": null,
   "metadata": {},
   "outputs": [],
   "source": [
    "# Fit the model\n",
    "reg.fit(X, y)"
   ]
  },
  {
   "cell_type": "markdown",
   "metadata": {
    "slideshow": {
     "slide_type": "slide"
    }
   },
   "source": [
    "### Coefficients"
   ]
  },
  {
   "cell_type": "code",
   "execution_count": 17,
   "metadata": {
    "slideshow": {
     "slide_type": "fragment"
    }
   },
   "outputs": [
    {
     "data": {
      "text/plain": [
       "array([42.87109756])"
      ]
     },
     "execution_count": 17,
     "metadata": {},
     "output_type": "execute_result"
    }
   ],
   "source": [
    "reg.intercept_"
   ]
  },
  {
   "cell_type": "code",
   "execution_count": 18,
   "metadata": {
    "slideshow": {
     "slide_type": "fragment"
    }
   },
   "outputs": [
    {
     "data": {
      "text/plain": [
       "array([[10.89958041]])"
      ]
     },
     "execution_count": 18,
     "metadata": {},
     "output_type": "execute_result"
    }
   ],
   "source": [
    "reg.coef_"
   ]
  },
  {
   "cell_type": "markdown",
   "metadata": {
    "slideshow": {
     "slide_type": "slide"
    }
   },
   "source": [
    "### Make predictions"
   ]
  },
  {
   "cell_type": "code",
   "execution_count": null,
   "metadata": {},
   "outputs": [],
   "source": [
    "# Make predictions\n",
    "y_pred = reg.predict(X)"
   ]
  },
  {
   "cell_type": "markdown",
   "metadata": {
    "slideshow": {
     "slide_type": "slide"
    }
   },
   "source": [
    "### Evaluation"
   ]
  },
  {
   "cell_type": "markdown",
   "metadata": {
    "slideshow": {
     "slide_type": "slide"
    }
   },
   "source": [
    "#### R-squared"
   ]
  },
  {
   "cell_type": "code",
   "execution_count": 19,
   "metadata": {
    "slideshow": {
     "slide_type": "fragment"
    }
   },
   "outputs": [
    {
     "data": {
      "text/plain": [
       "0.3505528034705867"
      ]
     },
     "execution_count": 19,
     "metadata": {},
     "output_type": "execute_result"
    }
   ],
   "source": [
    "r2_score(y, y_pred)"
   ]
  },
  {
   "cell_type": "markdown",
   "metadata": {
    "slideshow": {
     "slide_type": "slide"
    }
   },
   "source": [
    "#### RMSE"
   ]
  },
  {
   "cell_type": "code",
   "execution_count": 20,
   "metadata": {
    "slideshow": {
     "slide_type": "fragment"
    }
   },
   "outputs": [
    {
     "data": {
      "text/plain": [
       "7.318444770500862"
      ]
     },
     "execution_count": 20,
     "metadata": {},
     "output_type": "execute_result"
    }
   ],
   "source": [
    "mean_squared_error(y, y_pred, squared=False)"
   ]
  }
 ],
 "metadata": {
  "celltoolbar": "Slideshow",
  "kernelspec": {
   "display_name": "Python 3.9.13 ('mr')",
   "language": "python",
   "name": "python3"
  },
  "language_info": {
   "codemirror_mode": {
    "name": "ipython",
    "version": 3
   },
   "file_extension": ".py",
   "mimetype": "text/x-python",
   "name": "python",
   "nbconvert_exporter": "python",
   "pygments_lexer": "ipython3",
   "version": "3.9.13"
  },
  "vscode": {
   "interpreter": {
    "hash": "f67a6e0a9398ad1027ae219b06127e0fb4d07effe0ce32feaf43ec972fa20a12"
   }
  }
 },
 "nbformat": 4,
 "nbformat_minor": 2
}
