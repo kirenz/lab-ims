{
 "cells": [
  {
   "cell_type": "markdown",
   "metadata": {},
   "source": [
    "**Important notes:**\n",
    "\n",
    "- Activate the conda environment `mr` before you start: `conda activate mr`\n",
    "\n",
    "- Don't change the name of the file and don't delete any cells.\n",
    "\n",
    "- Make sure you fill in any place that says `YOUR CODE HERE` or \"YOUR ANSWER HERE\", as well as your name and (if necessary) collaborators below.\n",
    "\n",
    "- The function `NotImplementedError()` prevents you from hand in assignments with empty cells. Simply delete the function if you start working on a cell with this entry.\n",
    "\n",
    "- Before you turn this problem in (i.e., after you completed all tasks), make sure everything runs as expected: Restart the kernel and run all cells:\n",
    "  - if you use a *Jupyter Notebook*: in the menubar, select `Kernel` and click on `Restart & Run All`\n",
    "  - if you use *Visual Studio Code*: select \"Restart\" and then \"Run All\" \n",
    "\n",
    "Good luck!"
   ]
  },
  {
   "cell_type": "code",
   "execution_count": null,
   "metadata": {},
   "outputs": [],
   "source": [
    "NAME = \"\"\n",
    "COLLABORATORS = \"\""
   ]
  },
  {
   "cell_type": "code",
   "execution_count": null,
   "metadata": {},
   "outputs": [],
   "source": [
    "import IPython\n",
    "assert IPython.version_info[0] >= 3, \"Your version of IPython is too old, please update it.\""
   ]
  },
  {
   "cell_type": "markdown",
   "metadata": {},
   "source": [
    "---"
   ]
  },
  {
   "cell_type": "markdown",
   "metadata": {},
   "source": [
    "# Netflix user engagement analyse"
   ]
  },
  {
   "cell_type": "markdown",
   "metadata": {},
   "source": [
    "## Setup"
   ]
  },
  {
   "cell_type": "code",
   "execution_count": null,
   "metadata": {
    "tags": []
   },
   "outputs": [],
   "source": [
    "# Wir importieren die Bibliothek pandas\n",
    "import pandas as pd"
   ]
  },
  {
   "cell_type": "markdown",
   "metadata": {},
   "source": [
    "---\n",
    "## Daten\n",
    "\n",
    "### Daten importieren (2 Punkte)\n",
    "\n",
    "- Wir haben Pandas mit der Bezeichnung `pd` importiert.\n",
    "\n",
    "- Die Pandas-Funktion zum Einlesen von CSV-Dateien: `.read_csv`\n",
    "\n",
    "- CSV-Daten mit Pandas importieren und mit der Bezeichnung `df` speichern. \n",
    "\n",
    "- Pfad zu den Daten in GitHub: 'https://raw.githubusercontent.com/kirenz/datasets/master/netflix.csv'\n",
    "\n",
    "\n",
    "- Hinweis:\n",
    "\n",
    "```python\n",
    "___ = ___.___(___)\n",
    "```"
   ]
  },
  {
   "cell_type": "code",
   "execution_count": null,
   "metadata": {
    "deletable": false,
    "nbgrader": {
     "cell_type": "code",
     "checksum": "9db3ca972642b1447dba3ebd5f2db24b",
     "grade": false,
     "grade_id": "import",
     "locked": false,
     "schema_version": 3,
     "solution": true,
     "task": false
    },
    "tags": []
   },
   "outputs": [],
   "source": [
    "# YOUR CODE HERE\n",
    "raise NotImplementedError()"
   ]
  },
  {
   "cell_type": "code",
   "execution_count": null,
   "metadata": {
    "deletable": false,
    "editable": false,
    "nbgrader": {
     "cell_type": "code",
     "checksum": "5b57079732c6166dea9ead30926b2249",
     "grade": true,
     "grade_id": "correct_import",
     "locked": true,
     "points": 2,
     "schema_version": 3,
     "solution": false,
     "task": false
    }
   },
   "outputs": [],
   "source": [
    "\"\"\"Check that df returns the correct output\"\"\"\n",
    "assert len(df) == 2000\n",
    "assert df.columns.tolist() == ['group', 'outcome']"
   ]
  },
  {
   "cell_type": "markdown",
   "metadata": {},
   "source": [
    "---\n",
    "## Analyse \n",
    "\n",
    "### Kreuztabelle (4 Punkte)\n",
    "\n",
    "Schreiben Sie den Code, der eine Kreuztabelle erzeugt erzeugt:\n",
    "\n",
    "- Die Funktion in Pandas zur Erzeugung von Kreuztabellen: `.crosstab`\n",
    "- Speichern Sie die Tabelle unter der Bezeichnung: `cross_table` \n",
    "- Zeilen: `group`\n",
    "- Spalten: `outcome` \n",
    "- Geben Sie die Spalten- und Zeilensummen aus (`margins`) \n",
    "- Geben Sie die Werte als Prozentwerte aus (`normalize`)\n",
    "- Die Variable `group` soll in der Tabelle \"Gruppe\" genannt werden (`rownames`)\n",
    "- Die Variable `group` soll in der Tabelle \"Gruppe\" genannt werden (`colnames`)\n",
    "- Formatierung der Prozent-Werte: bspw. sollte ein Wert von 0.1775 als 17.75 angezeigt werden\n",
    "- Geben Sie die Tabelle aus\n",
    "\n",
    "- Hinweis:\n",
    "\n",
    "```python\n",
    "\n",
    "___ = __.__(__['___'], ___['___'],\n",
    "            ___=True,\n",
    "            ___=True,\n",
    "            ___=['___'],  # Umbenennung der Zeilen\n",
    "            ___=['___'] # Umbenennung der Spalten\n",
    "            ) * ___ # Multiplikation mit 100 für eine bessere Darstellung der Prozentwerte\n",
    "\n",
    "___\n",
    "\n",
    "```"
   ]
  },
  {
   "cell_type": "code",
   "execution_count": null,
   "metadata": {
    "deletable": false,
    "nbgrader": {
     "cell_type": "code",
     "checksum": "0b953e4ca139974a11fde0daa61ba827",
     "grade": false,
     "grade_id": "cross_table",
     "locked": false,
     "schema_version": 3,
     "solution": true,
     "task": false
    },
    "tags": []
   },
   "outputs": [],
   "source": [
    "# YOUR CODE HERE\n",
    "raise NotImplementedError()"
   ]
  },
  {
   "cell_type": "code",
   "execution_count": null,
   "metadata": {
    "deletable": false,
    "editable": false,
    "nbgrader": {
     "cell_type": "code",
     "checksum": "84ca0f043b5c2892c16ea9341166eda2",
     "grade": true,
     "grade_id": "correct_cross_table",
     "locked": true,
     "points": 4,
     "schema_version": 3,
     "solution": false,
     "task": false
    }
   },
   "outputs": [],
   "source": [
    "\"\"\"Check that it returns the correct output\"\"\"\n",
    "assert cross_table['Engagement'].B == 21.8"
   ]
  }
 ],
 "metadata": {
  "kernelspec": {
   "display_name": "Python 3 (ipykernel)",
   "language": "python",
   "name": "python3"
  },
  "language_info": {
   "codemirror_mode": {
    "name": "ipython",
    "version": 3
   },
   "file_extension": ".py",
   "mimetype": "text/x-python",
   "name": "python",
   "nbconvert_exporter": "python",
   "pygments_lexer": "ipython3",
   "version": "3.9.13"
  },
  "vscode": {
   "interpreter": {
    "hash": "463226f144cc21b006ce6927bfc93dd00694e52c8bc6857abb6e555b983749e9"
   }
  }
 },
 "nbformat": 4,
 "nbformat_minor": 4
}
